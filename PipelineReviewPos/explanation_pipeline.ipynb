{
 "cells": [
  {
   "cell_type": "markdown",
   "metadata": {},
   "source": [
    "### Import reviews"
   ]
  },
  {
   "cell_type": "code",
   "execution_count": null,
   "metadata": {},
   "outputs": [],
   "source": [
    "%load_ext autoreload\n",
    "%autoreload 2\n",
    "\n",
    "from src.utils import log_progress as lp"
   ]
  },
  {
   "cell_type": "code",
   "execution_count": null,
   "metadata": {},
   "outputs": [],
   "source": [
    "import pickle\n",
    "\n",
    "DATA_FILE1 = 'data/data.pkl'\n",
    "DATA_FILE2 = 'data/labels.pkl'\n",
    "DATA_FILE3 = 'data/pos_adjectives_list.pkl'\n",
    "DATA_FILE4 = 'data/neu_adjectives_list.pkl'\n",
    "DATA_FILE5 = 'data/neg_adjectives_list.pkl'\n",
    "\n",
    "with open(DATA_FILE1, 'rb') as f:\n",
    "    reviews = pickle.load(f)\n",
    "    \n",
    "with open(DATA_FILE2, 'rb') as f:\n",
    "    stars = pickle.load(f)\n",
    "\n",
    "with open(DATA_FILE3, 'rb') as f:\n",
    "    pos_adjectives_list = pickle.load(f)\n",
    "    \n",
    "with open(DATA_FILE4, 'rb') as f:\n",
    "    neu_adjectives_list = pickle.load(f)\n",
    "\n",
    "with open(DATA_FILE5, 'rb') as f:\n",
    "    neg_adjectives_list = pickle.load(f)\n",
    "    \n",
    "entity_names = ['X', 'Y', 'Z', 'T', 'P', 'Q']"
   ]
  },
  {
   "cell_type": "code",
   "execution_count": null,
   "metadata": {},
   "outputs": [],
   "source": [
    "print(pos_adjectives_list)"
   ]
  },
  {
   "cell_type": "code",
   "execution_count": null,
   "metadata": {},
   "outputs": [],
   "source": [
    "from babble.babbler import BabbleStream\n",
    "\n",
    "babbler = BabbleStream(reviews,stars,balanced=True, shuffled=True, seed=456)"
   ]
  },
  {
   "cell_type": "code",
   "execution_count": null,
   "metadata": {},
   "outputs": [],
   "source": [
    "babbler.add_aliases({'positive': pos_adjectives_list})\n",
    "babbler.add_aliases({'neutral': neu_adjectives_list})\n",
    "babbler.add_aliases({'negative': neg_adjectives_list})"
   ]
  },
  {
   "cell_type": "code",
   "execution_count": null,
   "metadata": {},
   "outputs": [],
   "source": [
    "babbler.semparser.grammar.lexical_rules"
   ]
  },
  {
   "cell_type": "code",
   "execution_count": null,
   "metadata": {},
   "outputs": [],
   "source": [
    "from babble.utils import display_candidate\n",
    "\n",
    "candidate = babbler.next()\n",
    "print(candidate)\n",
    "print(candidate.text)\n",
    "print(candidate.entity_positions)"
   ]
  },
  {
   "cell_type": "code",
   "execution_count": null,
   "metadata": {},
   "outputs": [],
   "source": [
    "print(dir(candidate.entities))\n",
    "print(candidate.entities)\n",
    "print(candidate.entities.__getitem__(0))"
   ]
  },
  {
   "cell_type": "code",
   "execution_count": null,
   "metadata": {},
   "outputs": [],
   "source": [
    "'''\n",
    "praticamente posso fare cosi: per ogni entità da X a Q, verifico se ci sono aggettivi appena prima o appena dopo(\n",
    "da capire se può creare problemi\") e creo in modo automatico la explanation.\n",
    "Forse è il caso di provare prima con il solo check dell'aggettivo appena prima\"\n",
    "'''\n",
    "from babble import Explanation\n",
    "explanation = Explanation(\n",
    "        name='LF_1',\n",
    "        label=1,\n",
    "        condition='the word \"mediocre\" is before X or the word \"bad\" is before Y or the word \"good\" is after T',\n",
    "        candidate=candidate\n",
    "    )"
   ]
  },
  {
   "cell_type": "code",
   "execution_count": null,
   "metadata": {},
   "outputs": [],
   "source": [
    "import re\n",
    "\n",
    "def get_words_before(sentence,entity):\n",
    "    sentence = re.sub(r'[^\\w\\s]','',sentence)\n",
    "    words = sentence.split()\n",
    "    if entity in words:\n",
    "        index = words.index(entity)\n",
    "        before = index - min(index, 3)\n",
    "        return words[before:index]  "
   ]
  },
  {
   "cell_type": "code",
   "execution_count": null,
   "metadata": {},
   "outputs": [],
   "source": [
    "def check_adjectives_before(sentence,entity):\n",
    "    words = get_words_before(sentence,entity)\n",
    "    if words == None:\n",
    "        return None\n",
    "    else:\n",
    "        for word in words:\n",
    "            if word in pos_adjectives_list:\n",
    "                return 'positive'\n",
    "            elif word in neu_adjectives_list:\n",
    "                return 'neutral'\n",
    "            elif word in neg_adjectives_list:\n",
    "                return 'negative'\n",
    "        return None"
   ]
  },
  {
   "cell_type": "code",
   "execution_count": null,
   "metadata": {},
   "outputs": [],
   "source": [
    "print(get_words_before(candidate.text,\"salad\"))"
   ]
  },
  {
   "cell_type": "code",
   "execution_count": null,
   "metadata": {},
   "outputs": [],
   "source": [
    "print(check_adjectives_before(candidate.text,\"salad\"))"
   ]
  },
  {
   "cell_type": "code",
   "execution_count": null,
   "metadata": {},
   "outputs": [],
   "source": [
    "from babble import Explanation\n",
    "\n",
    "explanations = []\n",
    "\n",
    "for candidate in reviews[0]:\n",
    "    for entity,name in zip(candidate.entities,entity_names):\n",
    "        adjectives_value = check_adjectives_before(candidate.text,entity.entity)\n",
    "        if adjectives_value != None:\n",
    "            explanation = Explanation(\n",
    "            name='LF_1',\n",
    "            label=1,\n",
    "            condition='A ' + adjectives_value + ' word is before ' + name,\n",
    "            candidate=candidate\n",
    "            )\n",
    "            explanations.append(explanation)"
   ]
  },
  {
   "cell_type": "code",
   "execution_count": null,
   "metadata": {},
   "outputs": [],
   "source": [
    "print(explanations)"
   ]
  },
  {
   "cell_type": "code",
   "execution_count": null,
   "metadata": {},
   "outputs": [],
   "source": [
    "babbler.view_parse(parses[0])"
   ]
  },
  {
   "cell_type": "code",
   "execution_count": null,
   "metadata": {},
   "outputs": [],
   "source": [
    "print(parses[0].semantics)"
   ]
  },
  {
   "cell_type": "code",
   "execution_count": null,
   "metadata": {},
   "outputs": [],
   "source": [
    "parses, filtered = babbler.apply(explanations)"
   ]
  },
  {
   "cell_type": "code",
   "execution_count": null,
   "metadata": {},
   "outputs": [],
   "source": [
    "import spacy\n",
    "\n",
    "spacy_stopwords = spacy.lang.en.stop_words.STOP_WORDS\n",
    "\n",
    "print('spaCy Version: %s' % (spacy.__version__))\n",
    "spacy_nlp = spacy.load('en_core_web_sm')"
   ]
  },
  {
   "cell_type": "code",
   "execution_count": null,
   "metadata": {},
   "outputs": [],
   "source": [
    "from babble import Explanation\n",
    "\n",
    "final_parses = []\n",
    "\n",
    "index = 0\n",
    "\n",
    "for element,label,selected_words in (zip(lp.log_progress(reviews[0]),stars[0],tokens_list)):\n",
    "    doc = spacy_nlp(element.text)\n",
    "    tokens = [token.text for token in doc if not token.is_stop and not token.pos_  in ('PUNCT', 'NUM', 'SYM')]\n",
    "        \n",
    "    print(selected_words)\n",
    "    \n",
    "    explanation = Explanation(\n",
    "        name='LF_' + str(index),\n",
    "        label=int(label),\n",
    "        condition=create_condition(selected_words),\n",
    "        candidate=element\n",
    "    )\n",
    "    parses, filtered = babbler.apply(explanation)\n",
    "    babbler.commit()\n",
    "    \n",
    "    index = index + 1"
   ]
  },
  {
   "cell_type": "code",
   "execution_count": null,
   "metadata": {},
   "outputs": [],
   "source": [
    "babbler.commit()"
   ]
  },
  {
   "cell_type": "code",
   "execution_count": null,
   "metadata": {},
   "outputs": [],
   "source": [
    "from metal.analysis import lf_summary\n",
    "\n",
    "Ls = [babbler.get_label_matrix(split) for split in [0,1,2]]\n",
    "lf_names = [lf.__name__ for lf in babbler.get_lfs()]\n",
    "lf_summary(Ls[1], stars[1], lf_names=lf_names)"
   ]
  },
  {
   "cell_type": "code",
   "execution_count": null,
   "metadata": {},
   "outputs": [],
   "source": [
    "print(Ls)"
   ]
  },
  {
   "cell_type": "code",
   "execution_count": null,
   "metadata": {},
   "outputs": [],
   "source": [
    "from babble.utils import ExplanationIO\n",
    "\n",
    "explanations = babbler.get_explanations()\n",
    "\n",
    "FILE = \"my_explanations.tsv\"\n",
    "exp_io = ExplanationIO()\n",
    "exp_io.write(explanations, FILE)\n",
    "explanations = exp_io.read(FILE)"
   ]
  }
 ],
 "metadata": {
  "kernelspec": {
   "display_name": "Python [conda env:babble] *",
   "language": "python",
   "name": "conda-env-babble-py"
  },
  "language_info": {
   "codemirror_mode": {
    "name": "ipython",
    "version": 3
   },
   "file_extension": ".py",
   "mimetype": "text/x-python",
   "name": "python",
   "nbconvert_exporter": "python",
   "pygments_lexer": "ipython3",
   "version": "3.6.7"
  }
 },
 "nbformat": 4,
 "nbformat_minor": 2
}
