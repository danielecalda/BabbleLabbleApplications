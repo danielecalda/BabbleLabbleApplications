{
 "cells": [
  {
   "cell_type": "markdown",
   "metadata": {},
   "source": [
    "### Import reviews"
   ]
  },
  {
   "cell_type": "code",
   "execution_count": 1,
   "metadata": {},
   "outputs": [],
   "source": [
    "%load_ext autoreload\n",
    "%autoreload 2\n",
    "\n",
    "import progressbar"
   ]
  },
  {
   "cell_type": "code",
   "execution_count": 2,
   "metadata": {},
   "outputs": [],
   "source": [
    "import pickle\n",
    "\n",
    "DATA_FILE1 = 'data/data.pkl'\n",
    "DATA_FILE2 = 'data/labels.pkl'\n",
    "DATA_FILE3 = 'data/pos_adjectives_list.pkl'\n",
    "DATA_FILE4 = 'data/neu_adjectives_list.pkl'\n",
    "DATA_FILE5 = 'data/neg_adjectives_list.pkl'\n",
    "\n",
    "with open(DATA_FILE1, 'rb') as f:\n",
    "    reviews = pickle.load(f)\n",
    "    \n",
    "with open(DATA_FILE2, 'rb') as f:\n",
    "    labels = pickle.load(f)\n",
    "   \n",
    "entity_names = ['X', 'Y', 'Z']"
   ]
  },
  {
   "cell_type": "code",
   "execution_count": 4,
   "metadata": {},
   "outputs": [
    {
     "name": "stdout",
     "output_type": "stream",
     "text": [
      "Grammar construction complete.\n"
     ]
    }
   ],
   "source": [
    "from babble.babbler import BabbleStream\n",
    "\n",
    "babbler = BabbleStream(reviews,labels,balanced=True, shuffled=True, seed=456)"
   ]
  },
  {
   "cell_type": "code",
   "execution_count": null,
   "metadata": {},
   "outputs": [],
   "source": [
    "from babble.utils import display_candidate\n",
    "\n",
    "candidate = babbler.next()\n",
    "print(candidate)\n",
    "print(candidate.text)\n",
    "print(candidate.entity_positions)"
   ]
  },
  {
   "cell_type": "code",
   "execution_count": 5,
   "metadata": {},
   "outputs": [],
   "source": [
    "import re\n",
    "\n",
    "def get_words_before(quantity,sentence,entity):\n",
    "    sentence = re.sub(r'[^\\w\\s]','',sentence)\n",
    "    words = sentence.split()\n",
    "    if entity in words:\n",
    "        index = words.index(entity)\n",
    "        before = index - min(index, quantity)\n",
    "        return ' '.join(map(str, words[before:index])) "
   ]
  },
  {
   "cell_type": "code",
   "execution_count": 6,
   "metadata": {},
   "outputs": [],
   "source": [
    "import re\n",
    "\n",
    "def get_words_after(quantity,sentence,entity):\n",
    "    sentence = re.sub(r'[^\\w\\s]','',sentence)\n",
    "    words = sentence.split()\n",
    "    if entity in words:\n",
    "        index = words.index(entity) +1\n",
    "        after = index + min(index, quantity)\n",
    "        return ' '.join(map(str, words[index:after]))"
   ]
  },
  {
   "cell_type": "code",
   "execution_count": 7,
   "metadata": {},
   "outputs": [],
   "source": [
    "from nltk.sentiment.vader import SentimentIntensityAnalyzer\n",
    "\n",
    "sid = SentimentIntensityAnalyzer()\n",
    "\n",
    "pos_adjectives_list=[]\n",
    "neu_adjectives_list=[]\n",
    "neg_adjectives_list=[]\n",
    "\n",
    "def check_sentiment_adjective(adjective):\n",
    "    if (sid.polarity_scores(adjective)['compound']) >= 0.1:\n",
    "        pos_adjectives_list.append(adjective)\n",
    "        return 'positive'\n",
    "    elif (sid.polarity_scores(adjective)['compound']) <= -0.1:\n",
    "        neg_adjectives_list.append(adjective)\n",
    "        return 'negative'\n",
    "    else:\n",
    "        neu_adjectives_list.append(adjective)\n",
    "        return 'neutral' "
   ]
  },
  {
   "cell_type": "code",
   "execution_count": null,
   "metadata": {},
   "outputs": [],
   "source": [
    "spacy_nlp = spacy.load('en_core_web_sm')\n",
    "doc = spacy_nlp(\"please do not eat at this place, i'm scared of this food. the worst part is the service and the trashy, anti-family, anti-american atmosphere. please stay away\")\n",
    "for token in doc:\n",
    "    if token.pos_ == 'ADJ':\n",
    "        print(token.text)\n",
    "        print(check_sentiment_adjective(token.text))"
   ]
  },
  {
   "cell_type": "code",
   "execution_count": null,
   "metadata": {},
   "outputs": [],
   "source": [
    "check_sentiment_adjective('normal')"
   ]
  },
  {
   "cell_type": "code",
   "execution_count": 8,
   "metadata": {},
   "outputs": [],
   "source": [
    "def check_adjectives_before_pos(sentence,entity):\n",
    "    words = get_words_before(2,sentence,entity)\n",
    "    if words == None or len(words.split(\" \")) == 0:\n",
    "        return None\n",
    "    else:\n",
    "        spacy_nlp = spacy.load('en_core_web_sm')\n",
    "        doc = spacy_nlp(words)\n",
    "        for token in doc:\n",
    "            if token.pos_ == 'ADJ':\n",
    "                return token.text\n",
    "                break"
   ]
  },
  {
   "cell_type": "code",
   "execution_count": 9,
   "metadata": {},
   "outputs": [],
   "source": [
    "def check_adjectives_after_verb(sentence,entity):\n",
    "    words = get_words_after(3,sentence,entity)\n",
    "    if words == None or len(words.split(\" \")) < 3:\n",
    "        return None\n",
    "    else:\n",
    "        spacy_nlp = spacy.load('en_core_web_sm')\n",
    "        doc = spacy_nlp(words)\n",
    "        if doc[0].pos_ == 'VERB' and (doc[1].pos_ == 'ADJ' or doc[2].pos_ == 'ADJ'):\n",
    "            return doc[1].text"
   ]
  },
  {
   "cell_type": "code",
   "execution_count": null,
   "metadata": {},
   "outputs": [],
   "source": [
    "def create_condition()"
   ]
  },
  {
   "cell_type": "code",
   "execution_count": null,
   "metadata": {},
   "outputs": [],
   "source": [
    "print(get_words_before(2,candidate.text,\"chicken\"))"
   ]
  },
  {
   "cell_type": "code",
   "execution_count": null,
   "metadata": {},
   "outputs": [],
   "source": [
    "print(check_adjectives_before_pos(candidate.text,\"customer\"))"
   ]
  },
  {
   "cell_type": "code",
   "execution_count": 10,
   "metadata": {},
   "outputs": [
    {
     "name": "stdout",
     "output_type": "stream",
     "text": [
      "spaCy Version: 2.1.8\n"
     ]
    }
   ],
   "source": [
    "import spacy\n",
    "\n",
    "spacy_stopwords = spacy.lang.en.stop_words.STOP_WORDS\n",
    "\n",
    "print('spaCy Version: %s' % (spacy.__version__))\n",
    "spacy_nlp = spacy.load('en_core_web_sm')"
   ]
  },
  {
   "cell_type": "code",
   "execution_count": 11,
   "metadata": {},
   "outputs": [
    {
     "name": "stderr",
     "output_type": "stream",
     "text": [
      "| |                          #                      | 300 Elapsed Time: 0:04:02\n"
     ]
    }
   ],
   "source": [
    "from babble import Explanation\n",
    "\n",
    "explanations = []\n",
    "index = 1\n",
    "\n",
    "\n",
    "for candidate,label in progressbar.progressbar(zip(reviews[0],labels[0])):\n",
    "#    print(candidate.text)\n",
    "    for entity,name in zip(candidate.entities,entity_names):\n",
    "#        print(entity.entity)\n",
    "        adjective = check_adjectives_after_verb(candidate.text,entity.entity)\n",
    "        if adjective != None:\n",
    "            sentiment_value = check_sentiment_adjective(adjective)\n",
    "            condition='A ' + sentiment_value + ' word is within 3 words to the right of word \"' + entity.entity + '\"'\n",
    "        else:\n",
    "            adjective = check_adjectives_before_pos(candidate.text,entity.entity)\n",
    "            if adjective != None:\n",
    "                sentiment_value = check_sentiment_adjective(adjective)\n",
    "                condition='A ' + sentiment_value + ' word is within 2 words to the left of word \"' + entity.entity + '\"'\n",
    "        if adjective != None and sentiment_value != 'neutral':\n",
    "            explanation = Explanation(\n",
    "            name='LF_' + str(index),\n",
    "            label=label,\n",
    "            condition=condition,\n",
    "            candidate=candidate,\n",
    "            )\n",
    "            explanations.append(explanation)\n",
    "            index = index + 1\n",
    "#            print(str(explanation).upper())"
   ]
  },
  {
   "cell_type": "code",
   "execution_count": null,
   "metadata": {},
   "outputs": [],
   "source": [
    "for explanation in explanations:\n",
    "    print(explanation.candidate)"
   ]
  },
  {
   "cell_type": "code",
   "execution_count": null,
   "metadata": {},
   "outputs": [],
   "source": [
    "print(explanations)"
   ]
  },
  {
   "cell_type": "code",
   "execution_count": null,
   "metadata": {},
   "outputs": [],
   "source": [
    "babbler.view_parse(parses[1])"
   ]
  },
  {
   "cell_type": "code",
   "execution_count": null,
   "metadata": {},
   "outputs": [],
   "source": [
    "print(parses[10].semantics)"
   ]
  },
  {
   "cell_type": "code",
   "execution_count": null,
   "metadata": {},
   "outputs": [],
   "source": [
    "parses, filtered = babbler.apply(explanations)"
   ]
  },
  {
   "cell_type": "code",
   "execution_count": null,
   "metadata": {},
   "outputs": [],
   "source": [
    "babbler.commit()"
   ]
  },
  {
   "cell_type": "code",
   "execution_count": null,
   "metadata": {},
   "outputs": [],
   "source": [
    "from metal.analysis import lf_summary\n",
    "\n",
    "Ls = [babbler.get_label_matrix(split) for split in [0,1,2]]\n",
    "lf_names = [lf.__name__ for lf in babbler.get_lfs()]\n",
    "lf_summary(Ls[1], labels[1], lf_names=lf_names)"
   ]
  },
  {
   "cell_type": "code",
   "execution_count": null,
   "metadata": {},
   "outputs": [],
   "source": [
    "print(Ls)"
   ]
  },
  {
   "cell_type": "code",
   "execution_count": 12,
   "metadata": {},
   "outputs": [],
   "source": [
    "pos_adjectives_list = list(dict.fromkeys(pos_adjectives_list))\n",
    "neu_adjectives_list = list(dict.fromkeys(neu_adjectives_list))\n",
    "neg_adjectives_list = list(dict.fromkeys(neg_adjectives_list))"
   ]
  },
  {
   "cell_type": "code",
   "execution_count": 13,
   "metadata": {},
   "outputs": [],
   "source": [
    "with open(DATA_FILE3, 'wb') as f:\n",
    "    pickle.dump(pos_adjectives_list,f)\n",
    "    \n",
    "with open(DATA_FILE4, 'wb') as f:\n",
    "    pickle.dump(neu_adjectives_list,f)\n",
    "\n",
    "with open(DATA_FILE5, 'wb') as f:\n",
    "    pickle.dump(neg_adjectives_list,f)"
   ]
  },
  {
   "cell_type": "code",
   "execution_count": 14,
   "metadata": {},
   "outputs": [
    {
     "name": "stdout",
     "output_type": "stream",
     "text": [
      "Wrote 206 explanations to data/my_explanations.tsv\n",
      "Read 206 explanations from data/my_explanations.tsv\n"
     ]
    }
   ],
   "source": [
    "from babble.utils import ExplanationIO\n",
    "\n",
    "FILE = \"data/my_explanations.tsv\"\n",
    "exp_io = ExplanationIO()\n",
    "exp_io.write(explanations, FILE)\n",
    "explanations = exp_io.read(FILE)"
   ]
  }
 ],
 "metadata": {
  "kernelspec": {
   "display_name": "Python [conda env:babble] *",
   "language": "python",
   "name": "conda-env-babble-py"
  },
  "language_info": {
   "codemirror_mode": {
    "name": "ipython",
    "version": 3
   },
   "file_extension": ".py",
   "mimetype": "text/x-python",
   "name": "python",
   "nbconvert_exporter": "python",
   "pygments_lexer": "ipython3",
   "version": "3.6.7"
  }
 },
 "nbformat": 4,
 "nbformat_minor": 2
}
