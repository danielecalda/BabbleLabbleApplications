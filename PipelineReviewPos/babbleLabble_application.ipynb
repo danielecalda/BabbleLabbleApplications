{
 "cells": [
  {
   "cell_type": "code",
   "execution_count": 44,
   "metadata": {},
   "outputs": [
    {
     "name": "stdout",
     "output_type": "stream",
     "text": [
      "The autoreload extension is already loaded. To reload it, use:\n",
      "  %reload_ext autoreload\n"
     ]
    }
   ],
   "source": [
    "%load_ext autoreload\n",
    "%autoreload 2"
   ]
  },
  {
   "cell_type": "code",
   "execution_count": 45,
   "metadata": {},
   "outputs": [],
   "source": [
    "import pickle\n",
    "\n",
    "DATA_FILE = 'data/data.pkl'\n",
    "with open(DATA_FILE, 'rb') as f:\n",
    "    Cs = pickle.load(f)\n",
    "    \n",
    "DATA_FILE2 = 'data/labels.pkl'  \n",
    "with open(DATA_FILE2, 'rb') as f:\n",
    "    Ys = pickle.load(f)"
   ]
  },
  {
   "cell_type": "code",
   "execution_count": 46,
   "metadata": {},
   "outputs": [
    {
     "data": {
      "text/plain": [
       "Counter({1.0: 741, 5.0: 2115, 4.0: 1028, 3.0: 519, 2.0: 396})"
      ]
     },
     "execution_count": 46,
     "metadata": {},
     "output_type": "execute_result"
    }
   ],
   "source": [
    "import collections\n",
    "\n",
    "collections.Counter(Ys[0])"
   ]
  },
  {
   "cell_type": "code",
   "execution_count": 47,
   "metadata": {},
   "outputs": [
    {
     "name": "stdout",
     "output_type": "stream",
     "text": [
      "Train Size: 4799\n",
      "Dev Size:   599\n",
      "Test Size:  600\n"
     ]
    }
   ],
   "source": [
    "print(f\"Train Size: {len(Cs[0])}\")\n",
    "print(f\"Dev Size:   {len(Cs[1])}\")\n",
    "print(f\"Test Size:  {len(Cs[2])}\")"
   ]
  },
  {
   "cell_type": "code",
   "execution_count": 48,
   "metadata": {},
   "outputs": [
    {
     "name": "stdout",
     "output_type": "stream",
     "text": [
      "Sentence:\n",
      "Total bill for this horrible service? Over $8Gs. These crooks actually had the nerve to charge us $69 for 3 pills. I checked online the pills can be had for 19 cents EACH! Avoid Hospital ERs at all costs.\n",
      "Candidate:\n",
      "X: EntityMention(doc_id=1: 'To'(0:2)\n",
      "Y: EntityMention(doc_id=1: 'l'(4:5)\n"
     ]
    }
   ],
   "source": [
    "candidate = Cs[0][0]\n",
    "print(f\"Sentence:\\n{candidate.text}\")\n",
    "print(f\"Candidate:\\nX: {candidate[0]}\\nY: {candidate[1]}\")"
   ]
  },
  {
   "cell_type": "code",
   "execution_count": 49,
   "metadata": {},
   "outputs": [
    {
     "name": "stdout",
     "output_type": "stream",
     "text": [
      "Read 967 explanations from my_explanations.tsv\n"
     ]
    }
   ],
   "source": [
    "from babble.utils import ExplanationIO\n",
    "\n",
    "FILE = \"my_explanations.tsv\"\n",
    "exp_io = ExplanationIO()\n",
    "explanations = exp_io.read(FILE)"
   ]
  },
  {
   "cell_type": "code",
   "execution_count": null,
   "metadata": {},
   "outputs": [],
   "source": [
    "# del explanations[0]"
   ]
  },
  {
   "cell_type": "code",
   "execution_count": 7,
   "metadata": {},
   "outputs": [
    {
     "name": "stdout",
     "output_type": "stream",
     "text": [
      "[Explanation(LF_1: 5, \"the word \"corporate\" or \"blowout\" or \"girl\" or \"Cardenas\" or \"outfit\" or are in the sentence\"), Explanation(LF_2: 5, \"the word \"nice\" or \"assistants\" or \"knew\" or \"feel\" or \"helped\" or are in the sentence\"), Explanation(LF_4: 1, \"the word \"years\" or \"squealing\" or \"properly\" or \"refund\" or \"gentleman\" or are in the sentence\"), Explanation(LF_6: 3, \"the word \"simple\" or \"finished\" or \"fresh\" or \"tables\" or \"tea\" or are in the sentence\"), Explanation(LF_17: 3, \"the word \"cheese\" or \"cocktails\" or \"jade\" or \"eating\" or \"recommend\" or are in the sentence\"), Explanation(LF_41: 3, \"the word \"price\" or \"places\" or \"yogurt\" or \"compare\" or \"Piccadilly\" or are in the sentence\"), Explanation(LF_43: 5, \"the word \"mi\" or \"checking\" or \"toasted\" or \"banh\" or \"chips\" or are in the sentence\"), Explanation(LF_55: 4, \"the word \" \" or \"nice\" or \"dan\" or \"good\" or \"wide\" or are in the sentence\"), Explanation(LF_65: 1, \"the word \"wo\" or \"SEWING\" or \"SHOP\" or \"TAKEN\" or \"repaired\" or are in the sentence\"), Explanation(LF_71: 4, \"the word \"sauce\" or \"sauces\" or \"loaded\" or \"place\" or \"beer\" or are in the sentence\"), Explanation(LF_75: 5, \"the word \"prices\" or \"Tea\" or \"perfect\" or \"case\" or \"jellies\" or are in the sentence\"), Explanation(LF_76: 5, \"the word \"kale\" or \"farm\" or \"delicious\" or \"choices\" or \"Yum\" or are in the sentence\"), Explanation(LF_77: 3, \"the word \"stores\" or \"cream\" or \"cream\" or \"creative\" or \"fairly\" or are in the sentence\"), Explanation(LF_79: 1, \"the word \"lettuce\" or \"veggies\" or \"took\" or \"counter\" or \" \" or are in the sentence\"), Explanation(LF_89: 5, \"the word \"carefully\" or \"B.\" or \"Dr\" or \"treat\" or \"needs\" or are in the sentence\"), Explanation(LF_91: 5, \"the word \"business\" or \"experience\" or \"accommodating\" or \"Bella\" or \"discomfort\" or are in the sentence\"), Explanation(LF_94: 3, \"the word \"place\" or \"closes\" or \"star\" or \" \" or \"key\" or are in the sentence\"), Explanation(LF_98: 4, \"the word \" \" or \"service\" or \"good\" or \"worth\" or \"benedicts\" or are in the sentence\"), Explanation(LF_108: 1, \"the word \"owner\" or \"coffee\" or \"nice\" or \"super\" or \"idea\" or are in the sentence\"), Explanation(LF_110: 5, \"the word \"lamp\" or \"enjoyed\" or \"Agreement\" or \"came\" or \" \" or are in the sentence\"), Explanation(LF_113: 1, \"the word \"easy\" or \"photo\" or \"cut\" or \"explained\" or \"hair\" or are in the sentence\"), Explanation(LF_124: 3, \"the word \"able\" or \"manager\" or \"apologize\" or \"little\" or \"belly\" or are in the sentence\"), Explanation(LF_125: 5, \"the word \"times\" or \"slow\" or \"want\" or \"cell\" or \"staff\" or are in the sentence\"), Explanation(LF_135: 5, \"the word \"adoptions\" or \"animals\" or \"clean\" or \"LOVE\" or \"latest\" or are in the sentence\"), Explanation(LF_137: 4, \"the word \"week\" or \"New\" or \"staff\" or \"stay\" or \"mom\" or are in the sentence\"), Explanation(LF_138: 1, \"the word \"menu\" or \"write\" or \"wo\" or \"cared\" or \"group\" or are in the sentence\"), Explanation(LF_144: 5, \"the word \"choose\" or \"came\" or \"drive\" or \"come\" or \"girl\" or are in the sentence\"), Explanation(LF_151: 1, \"the word \"claimed\" or \"buy\" or \"offered\" or \"wishful\" or \"hour\" or are in the sentence\"), Explanation(LF_154: 2, \"the word \"desk\" or \"husband\" or \"schedule\" or \"specific\" or \"getting\" or are in the sentence\"), Explanation(LF_159: 1, \"the word \"extremely\" or \"item\" or \"filthy\" or \"pick\" or \"place\" or are in the sentence\"), Explanation(LF_160: 4, \"the word \"cares\" or \"love\" or \"melancholy\" or \"held\" or \"Excellent\" or are in the sentence\"), Explanation(LF_165: 5, \"the word \"casual\" or \"friends\" or \"pretty\" or \"try\" or \"great\" or are in the sentence\"), Explanation(LF_173: 1, \"the word \"followed\" or \"ughhhhh\" or \"love\" or \"wondered\" or \"woman\" or are in the sentence\"), Explanation(LF_189: 1, \"the word \"based\" or \"treated\" or \"best\" or \"time\" or \"country\" or are in the sentence\"), Explanation(LF_191: 5, \"the word \"decor\" or \"lit\" or \"romantic\" or \"Nicely\" or \"broccolini\" or are in the sentence\"), Explanation(LF_193: 5, \"the word \"clean\" or \"Fantastic\" or \"Super\" or \" \" or \"Respectful\" or are in the sentence\"), Explanation(LF_195: 4, \"the word \"like\" or \"dessert\" or \"plain\" or \"seating\" or \"favorite\" or are in the sentence\"), Explanation(LF_206: 3, \"the word \"getting\" or \"couple\" or \"happens\" or \"Usually\" or \" \" or are in the sentence\"), Explanation(LF_215: 1, \"the word \"extra\" or \"Furious\" or \"went\" or \"said\" or \"annoying\" or are in the sentence\"), Explanation(LF_219: 5, \"the word \"space\" or \"organize\" or \"Ikea\" or \" \" or \"savings\" or are in the sentence\"), Explanation(LF_222: 5, \"the word \"sides\" or \"craving\" or \"hope\" or \"plan\" or \"talk\" or are in the sentence\"), Explanation(LF_228: 5, \"the word \"wow\" or \"staff\" or \"fine\" or \"felt\" or \"list\" or are in the sentence\"), Explanation(LF_229: 1, \"the word \"good\" or \"godforsaken\" or \"computer\" or \"husband\" or \"chicken\" or are in the sentence\"), Explanation(LF_234: 5, \"the word \"suits\" or \"place\" or \"love\" or \"venue\" or \"tacos\" or are in the sentence\"), Explanation(LF_246: 2, \"the word \"stopping\" or \"ordered\" or \"worried\" or \"Food\" or \"meat\" or are in the sentence\"), Explanation(LF_247: 5, \"the word \"times\" or \"times\" or \"Zip\" or \"time\" or \"Big\" or are in the sentence\"), Explanation(LF_255: 4, \"the word \"good\" or \" \" or \"dollar\" or \"minute\" or \"place\" or are in the sentence\"), Explanation(LF_256: 2, \"the word \"outside\" or \"asked\" or \"work\" or \"water\" or \"served\" or are in the sentence\"), Explanation(LF_258: 4, \"the word \"wait\" or \"favorite\" or \"bit\" or \"fish\" or \"regular\" or are in the sentence\"), Explanation(LF_262: 5, \"the word \"good\" or \"people\" or \"Juan\" or \"ceviche\" or \"girls\" or are in the sentence\"), Explanation(LF_274: 5, \"the word \"years\" or \"opened\" or \"french\" or \"north\" or \"loved\" or are in the sentence\"), Explanation(LF_277: 1, \"the word \" \" or \"service\" or \"check\" or \" \" or \"bought\" or are in the sentence\"), Explanation(LF_278: 3, \"the word \"tables\" or \"items\" or \" \" or \"gooey\" or \"Pizza\" or are in the sentence\"), Explanation(LF_280: 1, \"the word \"Got\" or \"let\" or \"breakfast\" or \"open\" or \"ridiculous\" or are in the sentence\"), Explanation(LF_282: 1, \"the word \"know\" or \"tell\" or \"willing\" or \"good\" or \"necessary\" or are in the sentence\"), Explanation(LF_283: 4, \"the word \"idea\" or \"shady\" or \"farm\" or \"foods\" or \"flour\" or are in the sentence\"), Explanation(LF_290: 1, \"the word \"risk\" or \"eat\" or \"plate\" or \"goodness\" or \"decide\" or are in the sentence\"), Explanation(LF_296: 1, \"the word \"received\" or \"experience\" or \"head\" or \"rip\" or \"mailed\" or are in the sentence\"), Explanation(LF_303: 5, \"the word \"staff\" or \"love\" or \"facility\" or \"clean\" or \"place\" or are in the sentence\"), Explanation(LF_304: 5, \"the word \"fantastic\" or \"shift\" or \"nutella\" or \"highly\" or \"hectic\" or are in the sentence\"), Explanation(LF_310: 1, \"the word \" \" or \"bell\" or \"receiver\" or \"hard\" or \"home\" or are in the sentence\"), Explanation(LF_314: 5, \"the word \"Awesome\" or \"OUTSTANDING\" or \"Macaroni\" or \"Cheese\" or \"great\" or are in the sentence\"), Explanation(LF_315: 5, \"the word \"looking\" or \"good\" or \"ordered\" or \"pizza\" or \"Pizza\" or are in the sentence\"), Explanation(LF_318: 4, \"the word \"pieces\" or \"knowledge\" or \"partial\" or \"avid\" or \"place\" or are in the sentence\"), Explanation(LF_334: 4, \"the word \" \" or \"huge\" or \"la\" or \"time\" or \"great\" or are in the sentence\"), Explanation(LF_341: 2, \"the word \" \" or \"time\" or \"tacos\" or \"fish\" or \"gets\" or are in the sentence\"), Explanation(LF_357: 5, \"the word \" \" or \"interiors\" or \"reigns\" or \"gets\" or \"restaurants\" or are in the sentence\"), Explanation(LF_358: 5, \"the word \" \" or \"gel\" or \"going\" or \"hurt\" or \" \" or are in the sentence\"), Explanation(LF_359: 5, \"the word \"food\" or \"omelette\" or \"french\" or \"brioche\" or \" \" or are in the sentence\"), Explanation(LF_368: 4, \"the word \"ordered\" or \"rape\" or \"best\" or \"pig\" or \"Creme\" or are in the sentence\"), Explanation(LF_378: 5, \"the word \"feel\" or \"Highly\" or \"studio\" or \"personality\" or \"Loved\" or are in the sentence\"), Explanation(LF_379: 4, \"the word \"service\" or \"heavenly\" or \"service\" or \"Day\" or \"Hubby\" or are in the sentence\"), Explanation(LF_380: 5, \"the word \"better\" or \"Annie\" or \"disappointed\" or \" \" or \"Red\" or are in the sentence\"), Explanation(LF_387: 5, \"the word \"having\" or \"visit\" or \"change\" or \"car\" or \"old\" or are in the sentence\"), Explanation(LF_394: 5, \"the word \"LOVE\" or \"Monte\" or \"%\" or \"Mirage\" or \"Aria\" or are in the sentence\"), Explanation(LF_396: 5, \"the word \"real\" or \"personality\" or \"excellent\" or \"perfection\" or \"stylist\" or are in the sentence\"), Explanation(LF_399: 5, \"the word \"answering\" or \"slow\" or \"timeframe\" or \"notch\" or \"Safe\" or are in the sentence\"), Explanation(LF_405: 1, \"the word \"bought\" or \"ANAL\" or \"Minimum\" or \"unskilled\" or \"warranty\" or are in the sentence\"), Explanation(LF_428: 5, \"the word \"Dr.\" or \"covered\" or \"reviews\" or \"took\" or \"gamble\" or are in the sentence\"), Explanation(LF_431: 1, \"the word \"cheaper\" or \"transfer\" or \"Literally\" or \"got\" or \"sell\" or are in the sentence\"), Explanation(LF_433: 1, \"the word \"time\" or \"depending\" or \" \" or \"business\" or \"spotty\" or are in the sentence\"), Explanation(LF_434: 5, \"the word \"Try!.\" or \"place\" or \"area\" or \"late\" or \"remember\" or are in the sentence\"), Explanation(LF_438: 5, \"the word \"north\" or \"peaceful\" or \"stay\" or \"mall\" or \"forever\" or are in the sentence\"), Explanation(LF_444: 2, \"the word \"probably\" or \"started\" or \"local\" or \"frankly\" or \"U.S.\" or are in the sentence\"), Explanation(LF_446: 5, \"the word \"good\" or \"yelp\" or \"walls\" or \"company\" or \"schedule\" or are in the sentence\"), Explanation(LF_473: 4, \"the word \"design\" or \"adorable\" or \"coffee\" or \"point\" or \"foam\" or are in the sentence\"), Explanation(LF_487: 1, \"the word \"maybe\" or \"staff\" or \"account\" or \"time\" or \"unfailingly\" or are in the sentence\"), Explanation(LF_511: 5, \"the word \"place\" or \"idk\" or \"fancy\" or \"location\" or \"Like\" or are in the sentence\"), Explanation(LF_512: 1, \"the word \"food\" or \"clean\" or \"dish\" or \"restaurant\" or \"job\" or are in the sentence\"), Explanation(LF_518: 3, \"the word \"dying\" or \"sausage\" or \"chicken\" or \"right\" or \"away\" or are in the sentence\"), Explanation(LF_530: 5, \"the word \"Alway\" or \" \" or \"variety\" or \"Friendly\" or \"stop\" or are in the sentence\"), Explanation(LF_536: 5, \"the word \"chicken\" or \"big\" or \"dumplings\" or \"nicely\" or \"staff\" or are in the sentence\"), Explanation(LF_537: 5, \"the word \"bartender\" or \"match\" or \"great\" or \"Siti\" or \"beer\" or are in the sentence\"), Explanation(LF_541: 5, \"the word \"lunch\" or \"great\" or \" \" or \"Korean\" or \"owned\" or are in the sentence\"), Explanation(LF_547: 1, \"the word \"rent\" or \"diameter\" or \"day\" or \"basic\" or \"fainted\" or are in the sentence\"), Explanation(LF_549: 5, \"the word \"chicken\" or \"Waiter\" or \"special\" or \"blue\" or \"means\" or are in the sentence\"), Explanation(LF_550: 4, \"the word \"fantastic\" or \"House\" or \"service\" or \"Nee\" or \"Chicken\" or are in the sentence\"), Explanation(LF_554: 5, \"the word \"flow\" or \"spots\" or \"spots\" or \"heat\" or \"relieved\" or are in the sentence\"), Explanation(LF_557: 1, \"the word \"inconsistent\" or \"ghetto\" or \"Walmart\" or \"dollars\" or \"oil\" or are in the sentence\"), Explanation(LF_559: 5, \"the word \"visit\" or \"access\" or \"finish\" or \"steam\" or \"massage\" or are in the sentence\"), Explanation(LF_566: 4, \"the word \"ChuChai\" or \"time\" or \"reheat\" or \"great\" or \"bring\" or are in the sentence\"), Explanation(LF_567: 5, \"the word \"Fashioned\" or \"pecans\" or \"helping\" or \"compliments\" or \"Fall\" or are in the sentence\"), Explanation(LF_568: 4, \"the word \"sound\" or \"stores\" or \"etc\" or \"deals\" or \"frustrating\" or are in the sentence\"), Explanation(LF_574: 3, \"the word \"sp\" or \"tell\" or \"mention\" or \"learned\" or \"reheated\" or are in the sentence\"), Explanation(LF_587: 5, \"the word \"incenses\" or \"sandalwood\" or \"knowledge\" or \"amazing\" or \"kind\" or are in the sentence\"), Explanation(LF_590: 4, \"the word \"aware\" or \"chocolate\" or \" \" or \" \" or \"Nevada\" or are in the sentence\"), Explanation(LF_593: 3, \"the word \"supposedly\" or \"excellent\" or \"started\" or \"value\" or \"price\" or are in the sentence\"), Explanation(LF_606: 2, \"the word \"eating\" or \"came\" or \"eating\" or \" \" or \"okay\" or are in the sentence\"), Explanation(LF_612: 5, \"the word \"incredible\" or \" \" or \" \" or \"Saw\" or \"entertainment\" or are in the sentence\"), Explanation(LF_613: 5, \"the word \"food\" or \"long\" or \"year\" or \"center\" or \"coffee\" or are in the sentence\"), Explanation(LF_616: 3, \"the word \"professional\" or \"shops\" or \"dozen\" or \"foot\" or \"dime\" or are in the sentence\"), Explanation(LF_618: 4, \"the word \"pie\" or \"love\" or \"sharing\" or \"desert\" or \"portion\" or are in the sentence\"), Explanation(LF_620: 4, \"the word \"clean\" or \"office\" or \"wi\" or \"staff\" or \"gym\" or are in the sentence\"), Explanation(LF_623: 5, \"the word \"waiter\" or \"service\" or \"place\" or \"surprise\" or \"2nd\" or are in the sentence\"), Explanation(LF_624: 4, \"the word \"bet\" or \"time\" or \"brick\" or \"footing\" or \"believe\" or are in the sentence\"), Explanation(LF_631: 2, \"the word \"service\" or \"hell\" or \"order\" or \"weak\" or \"Starbucks\" or are in the sentence\"), Explanation(LF_632: 5, \"the word \"come\" or \"runs\" or \"devices\" or \"far\" or \"visit\" or are in the sentence\"), Explanation(LF_636: 4, \"the word \"choose\" or \"wait\" or \"tasted\" or \"time\" or \"usually\" or are in the sentence\"), Explanation(LF_640: 1, \"the word \"come\" or \"service\" or \"drew\" or \"Diamond\" or \"owner\" or are in the sentence\"), Explanation(LF_643: 5, \"the word \"service\" or \"staff\" or \"Healthy\" or \"friendly\" or \"food\" or are in the sentence\"), Explanation(LF_645: 5, \"the word \"strongly\" or \"wonderful\" or \"eating\" or \"Great\" or \"LONG\" or are in the sentence\"), Explanation(LF_646: 5, \"the word \"yelp\" or \"BBQ\" or \" \" or \"said\" or \"bacon\" or are in the sentence\"), Explanation(LF_658: 4, \"the word \"stars\" or \"little\" or \"recieved\" or \"liking\" or \"seafood\" or are in the sentence\"), Explanation(LF_661: 2, \"the word \"Food\" or \"York\" or \"meat\" or \"look\" or \"working\" or are in the sentence\"), Explanation(LF_673: 4, \"the word \"Bouchon\" or \"huge\" or \"stay\" or \"kitchen\" or \"Las\" or are in the sentence\"), Explanation(LF_674: 5, \"the word \"suggested\" or \"felt\" or \"approach\" or \"Pain\" or \"professional\" or are in the sentence\"), Explanation(LF_680: 1, \"the word \"inside\" or \"sucks\" or \"works\" or \"wipe\" or \"dash\" or are in the sentence\"), Explanation(LF_685: 5, \"the word \"location\" or \"taken\" or \"customer\" or \"great\" or \"visit\" or are in the sentence\"), Explanation(LF_687: 2, \"the word \"went\" or \"bill\" or \"lack\" or \"honesty\" or \"purchased\" or are in the sentence\"), Explanation(LF_693: 5, \"the word \"job\" or \"relaxed\" or \"ask\" or \"came\" or \"chose\" or are in the sentence\"), Explanation(LF_697: 2, \"the word \"worked\" or \"going\" or \"wo\" or \"nt\" or \"questions\" or are in the sentence\"), Explanation(LF_698: 5, \"the word \"comparable\" or \"legs\" or \"bar\" or \"snow\" or \"Define\" or are in the sentence\"), Explanation(LF_702: 5, \"the word \"travel\" or \"service\" or \"nails\" or \"fun\" or \"friendly\" or are in the sentence\"), Explanation(LF_703: 5, \"the word \"inside\" or \"location\" or \"good\" or \"time\" or \"helpful\" or are in the sentence\"), Explanation(LF_704: 3, \"the word \"overpriced\" or \"lame\" or \"ordered\" or \"hour\" or \"irks\" or are in the sentence\"), Explanation(LF_708: 4, \"the word \"fighting\" or \"coming\" or \"including\" or \"undercooked\" or \"Meals\" or are in the sentence\"), Explanation(LF_710: 2, \"the word \"ordering\" or \" \" or \" \" or \"Mexican\" or \"love\" or are in the sentence\"), Explanation(LF_720: 5, \"the word \"soon\" or \"fell\" or \"place\" or \"service\" or \"Prices\" or are in the sentence\"), Explanation(LF_723: 3, \"the word \"pie\" or \"best\" or \"wish\" or \"takers\" or \"nights\" or are in the sentence\"), Explanation(LF_737: 5, \"the word \" \" or \"prepared\" or \" \" or \" \" or \"plenty\" or are in the sentence\"), Explanation(LF_745: 5, \"the word \"eggplant)\" or \"good\" or \"wait\" or \"experience\" or \"favorite\" or are in the sentence\"), Explanation(LF_746: 4, \"the word \"chance\" or \"rice\" or \"good\" or \"know\" or \"Chinese\" or are in the sentence\"), Explanation(LF_748: 4, \"the word \"Chicken\" or \"soy\" or \" \" or \"Rice\" or \"Sushi\" or are in the sentence\"), Explanation(LF_756: 5, \"the word \"come\" or \"sad\" or \"Yum\" or \"able\" or \"available\" or are in the sentence\"), Explanation(LF_761: 1, \"the word \"got\" or \"good\" or \"popcorn\" or \"Cheap\" or \"idea\" or are in the sentence\"), Explanation(LF_766: 5, \"the word \"want\" or \"Hef\" or \"delicious\" or \"owned\" or \"coma\" or are in the sentence\"), Explanation(LF_769: 5, \"the word \"leaves\" or \"size\" or \"wonderful\" or \"usually\" or \"great\" or are in the sentence\"), Explanation(LF_775: 1, \"the word \"star\" or \"buck\" or \"customers\" or \"counter\" or \"chicken\" or are in the sentence\"), Explanation(LF_789: 5, \"the word \"lady\" or \"dal\" or \"found\" or \"naan\" or \" \" or are in the sentence\"), Explanation(LF_790: 3, \"the word \"brunches\" or \"want\" or \"eat\" or \"going\" or \"remember\" or are in the sentence\"), Explanation(LF_791: 4, \"the word \"salad\" or \"club\" or \"chicken\" or \"tenders\" or \"kid\" or are in the sentence\"), Explanation(LF_792: 1, \"the word \"signed\" or \"hire\" or \"prevent\" or \"people\" or \"calling\" or are in the sentence\"), Explanation(LF_798: 5, \"the word \"Sunday\" or \"college\" or \"hit\" or \"times\" or \"Curds\" or are in the sentence\"), Explanation(LF_804: 5, \"the word \"staff\" or \"clock\" or \"veteran\" or \"prices\" or \"inventory\" or are in the sentence\"), Explanation(LF_806: 2, \"the word \"bit\" or \"needed\" or \"wait\" or \"picked\" or \"stock\" or are in the sentence\"), Explanation(LF_808: 1, \"the word \"sit\" or \"table\" or \"consider\" or \"lot\" or \"noticed\" or are in the sentence\"), Explanation(LF_809: 1, \"the word \"old\" or \"rented\" or \"paid\" or \"PROVE\" or \"plan\" or are in the sentence\"), Explanation(LF_813: 3, \"the word \"people\" or \"wait\" or \"chats\" or \"food\" or \"line\" or are in the sentence\"), Explanation(LF_814: 4, \"the word \"tax\" or \"saving\" or \" \" or \"getting\" or \"cashing\" or are in the sentence\"), Explanation(LF_815: 5, \"the word \"Dr.\" or \"medical\" or \"letting\" or \"dentist\" or \"time\" or are in the sentence\"), Explanation(LF_816: 5, \"the word \"like\" or \"drink\" or \"polyester\" or \"s\" or \"want\" or are in the sentence\"), Explanation(LF_830: 1, \"the word \"shop\" or \"standard\" or \"pm\" or \"cream\" or \"street\" or are in the sentence\"), Explanation(LF_834: 1, \"the word \"told\" or \"takes\" or \"Yuck\" or \"oven\" or \"time\" or are in the sentence\"), Explanation(LF_837: 1, \"the word \"fresh\" or \"horrible\" or \"getting\" or \"rotten\" or \"stenchy\" or are in the sentence\"), Explanation(LF_840: 1, \"the word \"prices\" or \"Hollandaise\" or \"syrup\" or \" \" or \"bland\" or are in the sentence\"), Explanation(LF_845: 5, \"the word \"locations\" or \"customizations\" or \"super\" or \"stop\" or \"try\" or are in the sentence\"), Explanation(LF_846: 1, \"the word \"buffet\" or \"great\" or \"Save\" or \"lunch\" or \"stodgy\" or are in the sentence\"), Explanation(LF_848: 4, \"the word \" \" or \"Service\" or \"retreat\" or \"pool\" or \"attentive\" or are in the sentence\"), Explanation(LF_849: 2, \"the word \"humor\" or \"getting\" or \"Frankly\" or \"got\" or \"concentrated\" or are in the sentence\"), Explanation(LF_853: 5, \"the word \"barbershop\" or \"experience\" or \"time\" or \"bring\" or \"orgasmic\" or are in the sentence\"), Explanation(LF_858: 5, \"the word \"service\" or \"quick\" or \"vice\" or \"coupons\" or \"online\" or are in the sentence\"), Explanation(LF_867: 4, \"the word \"Wow\" or \"Took\" or \"pricey\" or \"little\" or \"place\" or are in the sentence\"), Explanation(LF_876: 5, \"the word \"Rd\" or \"Rea\" or \"open\" or \"thrilled\" or \"near\" or are in the sentence\"), Explanation(LF_879: 3, \"the word \"fantastic\" or \"spiked\" or \"try\" or \"food\" or \"way\" or are in the sentence\"), Explanation(LF_886: 4, \"the word \"usually\" or \"chocolate\" or \"pumpkin\" or \"ice\" or \"valhrona\" or are in the sentence\"), Explanation(LF_889: 5, \"the word \"couples\" or \"got\" or \"entire\" or \"having\" or \"came\" or are in the sentence\"), Explanation(LF_890: 5, \"the word \"Desyree\" or \"kidding\" or \"goes\" or \"sent\" or \"gelato\" or are in the sentence\"), Explanation(LF_902: 5, \"the word \"nice\" or \"food\" or \"little\" or \"beef\" or \"yes\" or are in the sentence\"), Explanation(LF_907: 5, \"the word \"scenarios\" or \"Fred\" or \"like\" or \"going\" or \"privilege\" or are in the sentence\"), Explanation(LF_919: 4, \"the word \"grocery\" or \"downtown\" or \"goods\" or \"hipster\" or \"prices\" or are in the sentence\"), Explanation(LF_928: 2, \"the word \"research\" or \"going\" or \" \" or \"repair\" or \"gave\" or are in the sentence\"), Explanation(LF_929: 1, \"the word \"strange\" or \"better\" or \"late\" or \"ended\" or \"food\" or are in the sentence\"), Explanation(LF_935: 5, \"the word \"question\" or \"Rob\" or \" \" or \"met\" or \"scanned\" or are in the sentence\"), Explanation(LF_936: 2, \"the word \"gave\" or \"add\" or \"sugar\" or \"option\" or \"requests\" or are in the sentence\"), Explanation(LF_937: 5, \"the word \"Upside\" or \"mode\" or \"perfection\" or \" \" or \"excellent\" or are in the sentence\"), Explanation(LF_938: 5, \"the word \"helpful\" or \"nice\" or \"place\" or \"unit\" or \"clean\" or are in the sentence\"), Explanation(LF_945: 3, \"the word \"forget\" or \"ton\" or \" \" or \"forever\" or \"refills\" or are in the sentence\"), Explanation(LF_946: 5, \"the word \"usual\" or \"served\" or \"ease\" or \"communication\" or \"Shout\" or are in the sentence\"), Explanation(LF_953: 5, \"the word \"way\" or \"good\" or \"Ok\" or \"Fugu\" or \"inexpensive\" or are in the sentence\"), Explanation(LF_955: 5, \"the word \"friendly\" or \"remaining\" or \"time\" or \" \" or \"large\" or are in the sentence\"), Explanation(LF_958: 1, \"the word \"nails\" or \"job\" or \"sucks\" or \"time\" or \"horrible\" or are in the sentence\"), Explanation(LF_962: 5, \"the word \"look\" or \"hour\" or \"bathroom\" or \"Check\" or \"busy\" or are in the sentence\"), Explanation(LF_966: 1, \"the word \"style\" or \"worth\" or \"like\" or \"texas\" or \"visit\" or are in the sentence\"), Explanation(LF_971: 5, \"the word \" \" or \"Renter\" or \"hassles\" or \"stars\" or \" \" or are in the sentence\"), Explanation(LF_978: 5, \"the word \"fix\" or \"chicken\" or \"wedding\" or \"need\" or \"time\" or are in the sentence\"), Explanation(LF_982: 4, \"the word \"good\" or \"sounds\" or \"similar\" or \"saying\" or \"good\" or are in the sentence\"), Explanation(LF_983: 5, \"the word \"help\" or \"vacation\" or \"wonderful\" or \"highly\" or \"able\" or are in the sentence\"), Explanation(LF_987: 1, \"the word \"taken\" or \"great\" or \"tested\" or \"multiple\" or \"water\" or are in the sentence\"), Explanation(LF_990: 5, \"the word \"complaint\" or \" \" or \"pretends\" or \"pain\" or \"teeth\" or are in the sentence\"), Explanation(LF_996: 2, \"the word \"painfully\" or \"GREED\" or \"received\" or \" \" or \"extended\" or are in the sentence\"), Explanation(LF_1002: 4, \"the word \" \" or \"day\" or \"soooo\" or \"garlic\" or \"time\" or are in the sentence\"), Explanation(LF_1004: 5, \"the word \"wedding\" or \"like\" or \"results\" or \"age\" or \"arms\" or are in the sentence\"), Explanation(LF_1015: 2, \"the word \"Texture\" or \"like\" or \"burrito\" or \"know\" or \"DRIED\" or are in the sentence\"), Explanation(LF_1018: 5, \"the word \"OMG\" or \"belly\" or \"place\" or \"fill\" or \"ck\" or are in the sentence\"), Explanation(LF_1023: 5, \"the word \"wall\" or \"time\" or \"carne\" or \"seen\" or \"salsas\" or are in the sentence\"), Explanation(LF_1028: 5, \"the word \"come\" or \"live\" or \"check\" or \"time\" or \"place\" or are in the sentence\"), Explanation(LF_1031: 5, \"the word \"restaurants\" or \"shop\" or \"version\" or \"old\" or \"rooms\" or are in the sentence\"), Explanation(LF_1034: 1, \"the word \"place\" or \" \" or \"wrong\" or \" \" or \"busier\" or are in the sentence\"), Explanation(LF_1035: 5, \"the word \" \" or \"bread\" or \"upgrade\" or \"bread\" or \"state\" or are in the sentence\"), Explanation(LF_1040: 5, \"the word \"items\" or \"onion\" or \"Delicious\" or \"sweet\" or \"salad\" or are in the sentence\"), Explanation(LF_1054: 5, \"the word \"time\" or \"good\" or \"bucket\" or \"music\" or \"beat\" or are in the sentence\"), Explanation(LF_1058: 4, \"the word \" \" or \"lunch\" or \"buffet\" or \"meat\" or \"deserts\" or are in the sentence\"), Explanation(LF_1066: 1, \"the word \"way\" or \"w\" or \" \" or \"+\" or \"actually\" or are in the sentence\"), Explanation(LF_1067: 4, \"the word \"shop\" or \"special\" or \"forward\" or \"week\" or \"Ended\" or are in the sentence\"), Explanation(LF_1068: 4, \"the word \"red\" or \"suggest\" or \"amazing\" or \"time\" or \"drinks\" or are in the sentence\"), Explanation(LF_1076: 2, \"the word \"coming\" or \"thing\" or \"wait\" or \" \" or \" \" or are in the sentence\"), Explanation(LF_1078: 4, \"the word \"near\" or \"food\" or \" \" or \"alley\" or \"good\" or are in the sentence\"), Explanation(LF_1080: 5, \"the word \"Vegas\" or \"care\" or \"Bday\" or \"looking\" or \"Chef\" or are in the sentence\"), Explanation(LF_1085: 2, \"the word \"Ernie\" or \"Lets\" or \"Jen\" or \"engagement\" or \"Awful\" or are in the sentence\"), Explanation(LF_1087: 5, \"the word \"bit\" or \"insane\" or \"easily\" or \"crunch\" or \"room\" or are in the sentence\"), Explanation(LF_1104: 1, \"the word \"able\" or \"Probably\" or \"explain\" or \"wo\" or \"Obviously\" or are in the sentence\"), Explanation(LF_1105: 5, \"the word \"good\" or \"time\" or \"mannered\" or \"brisket\" or \"Today\" or are in the sentence\"), Explanation(LF_1112: 1, \"the word \"theatres\" or \"Tyler\" or \"run\" or \"disappointment\" or \"complaints\" or are in the sentence\"), Explanation(LF_1115: 1, \"the word \"BREATH\" or \"decent\" or \"ass\" or \"years\" or \"looked\" or are in the sentence\"), Explanation(LF_1125: 3, \"the word \"greek\" or \"dressing\" or \"grilled\" or \"good\" or \" \" or are in the sentence\"), Explanation(LF_1127: 5, \"the word \"deliver\" or \"walking\" or \"find\" or \"eating\" or \"fail\" or are in the sentence\"), Explanation(LF_1128: 1, \"the word \"food\" or \"day\" or \"shame\" or \" \" or \"believe\" or are in the sentence\"), Explanation(LF_1131: 3, \"the word \"relative\" or \"buy\" or \"gifts\" or \"glass\" or \"definitely\" or are in the sentence\"), Explanation(LF_1133: 3, \"the word \"messy\" or \"Yogurt\" or \"stations\" or \"taken\" or \"dirty\" or are in the sentence\"), Explanation(LF_1136: 5, \"the word \"great\" or \"nature\" or \"kabob\" or \"expensive\" or \"jasmine\" or are in the sentence\"), Explanation(LF_1142: 5, \"the word \"like\" or \"romantic\" or \"Come\" or \"rose+\" or \"fresh\" or are in the sentence\"), Explanation(LF_1143: 5, \"the word \"priced\" or \"day\" or \"park\" or \"good\" or \"Island\" or are in the sentence\"), Explanation(LF_1144: 5, \"the word \"best\" or \"prices\" or \"service\" or \"Thank\" or \"fast\" or are in the sentence\"), Explanation(LF_1145: 1, \"the word \"sent\" or \"baked\" or \"meal\" or \"warm\" or \"steak\" or are in the sentence\"), Explanation(LF_1146: 4, \"the word \"half\" or \"send\" or \" \" or \" \" or \"Henderson\" or are in the sentence\"), Explanation(LF_1158: 1, \"the word \"MVP\" or \"losing\" or \"kids\" or \"record\" or \"team\" or are in the sentence\"), Explanation(LF_1169: 5, \"the word \"felt\" or \"help\" or \"meals\" or \"lol\" or \"love\" or are in the sentence\"), Explanation(LF_1171: 4, \"the word \"paying\" or \"Eat\" or \"drink\" or \" \" or \"quesadillas\" or are in the sentence\"), Explanation(LF_1186: 5, \"the word \"shop\" or \"explain\" or \" \" or \"drove\" or \"donut\" or are in the sentence\"), Explanation(LF_1189: 4, \"the word \"help\" or \"able\" or \"desk\" or \"running\" or \"inside\" or are in the sentence\"), Explanation(LF_1199: 5, \"the word \"Friday\" or \"beautiful\" or \"eat\" or \"bacon\" or \"bacon\" or are in the sentence\"), Explanation(LF_1200: 1, \"the word \"agreed\" or \"shady\" or \"services\" or \"packed\" or \"talker\" or are in the sentence\"), Explanation(LF_1203: 4, \"the word \"try\" or \"based\" or \"favourite\" or \"wish\" or \"tough\" or are in the sentence\"), Explanation(LF_1208: 2, \"the word \"Charlotte\" or \"place\" or \"Likely\" or \"great\" or \"better\" or are in the sentence\"), Explanation(LF_1212: 5, \"the word \"check\" or \" \" or \"despite\" or \"trip\" or \" \" or are in the sentence\"), Explanation(LF_1214: 2, \"the word \" \" or \"resident\" or \"dentist\" or \"dentist\" or \"treatment\" or are in the sentence\"), Explanation(LF_1221: 3, \"the word \"Carl\" or \"people\" or \"think\" or \"burger\" or \"N\" or are in the sentence\"), Explanation(LF_1224: 2, \"the word \"bring\" or \"reasons\" or \"drink\" or \"policy\" or \"tried\" or are in the sentence\"), Explanation(LF_1225: 5, \"the word \"server\" or \"salmon\" or \"bad\" or \"rocks\" or \"draw\" or are in the sentence\"), Explanation(LF_1232: 3, \"the word \"herded\" or \"longer\" or \"calculated\" or \"Venetian\" or \"sort\" or are in the sentence\"), Explanation(LF_1238: 2, \"the word \"Yummy\" or \"Rice\" or \"Wings\" or \" \" or \"Dry\" or are in the sentence\"), Explanation(LF_1256: 1, \"the word \"wax\" or \"end\" or \"thy\" or \"Rude\" or \"POINT\" or are in the sentence\"), Explanation(LF_1259: 5, \"the word \"wonderful\" or \"Dr.\" or \"Dachs\" or \"Dr\" or \"goodness\" or are in the sentence\"), Explanation(LF_1264: 1, \"the word \"linguine\" or \"assembly\" or \"drenched\" or \"decent\" or \"food\" or are in the sentence\"), Explanation(LF_1267: 1, \"the word \"Avoid\" or \"like\" or \"plague\" or are in the sentence\"), Explanation(LF_1270: 4, \"the word \"patio\" or \"bottle\" or \"place\" or \"hold\" or \"outdoor\" or are in the sentence\"), Explanation(LF_1277: 4, \"the word \"coming\" or \"yes\" or \"like\" or \"cheese\" or \"happy\" or are in the sentence\"), Explanation(LF_1278: 5, \"the word \"soo\" or \"place\" or \"want\" or \"soo\" or \"class\" or are in the sentence\"), Explanation(LF_1283: 1, \"the word \"day\" or \"found\" or \"Better\" or \"assigned\" or \"home\" or are in the sentence\"), Explanation(LF_1288: 3, \"the word \"talking\" or \"way\" or \"Tuna\" or \"friendly\" or \"customers\" or are in the sentence\"), Explanation(LF_1296: 1, \"the word \"going\" or \"bad\" or \"looked\" or \"ordered\" or \"food\" or are in the sentence\"), Explanation(LF_1297: 3, \"the word \"drinks\" or \" \" or \"review\" or \"pieces\" or \"DRINKS\" or are in the sentence\"), Explanation(LF_1298: 2, \"the word \"stars\" or \" \" or \"tofu\" or \"Anyways\" or \"noodles\" or are in the sentence\"), Explanation(LF_1306: 5, \"the word \"quick\" or \"helpful\" or \"shuttle\" or \"caring\" or \"efficient\" or are in the sentence\"), Explanation(LF_1309: 3, \"the word \" \" or \"spend\" or \"cheeses\" or \"&\" or \"cost\" or are in the sentence\"), Explanation(LF_1314: 2, \"the word \"staff\" or \"gets\" or \"revoltingly\" or \"fried\" or \"paying\" or are in the sentence\"), Explanation(LF_1316: 5, \"the word \"late\" or \"chopped\" or \"meal\" or \"great\" or \"meal\" or are in the sentence\"), Explanation(LF_1317: 5, \"the word \"pristine\" or \"insurance\" or \" \" or \"business\" or \"arrival\" or are in the sentence\"), Explanation(LF_1322: 5, \"the word \"visit\" or \"wearing\" or \"check\" or \"thank\" or \"happiness\" or are in the sentence\"), Explanation(LF_1323: 5, \"the word \"SW\" or \"update\" or \"dining\" or \"items\" or \"weird\" or are in the sentence\"), Explanation(LF_1329: 4, \"the word \"friendly\" or \"Portions\" or \" \" or \"bar\" or \"try\" or are in the sentence\"), Explanation(LF_1332: 1, \"the word \"reception\" or \"%\" or \"service\" or \"sit\" or \"better\" or are in the sentence\"), Explanation(LF_1346: 3, \"the word \"calamari\" or \"terrace\" or \"good\" or \"IPA\" or \"terrace\" or are in the sentence\"), Explanation(LF_1353: 1, \"the word \"owners\" or \"fail\" or \"doubled\" or \"Prices\" or \"Epic\" or are in the sentence\"), Explanation(LF_1363: 5, \"the word \"great\" or \"knowledgable\" or \"Mohammed\" or \" \" or \"experience\" or are in the sentence\"), Explanation(LF_1367: 3, \"the word \"included\" or \"situated\" or \"lunch\" or \"rotisserie\" or \" \" or are in the sentence\"), Explanation(LF_1368: 1, \"the word \"guys\" or \"speak\" or \"speak\" or \"work\" or \"boy\" or are in the sentence\"), Explanation(LF_1371: 5, \"the word \"shake\" or \"Hottie\" or \"Kitchen\" or \"good\" or \"sinuses\" or are in the sentence\"), Explanation(LF_1373: 4, \"the word \"cook\" or \"Mind\" or \"sauces\" or \"soup\" or \"dish\" or are in the sentence\"), Explanation(LF_1374: 2, \"the word \"Frys\" or \"service\" or \"Home\" or \"strategy\" or \"new\" or are in the sentence\"), Explanation(LF_1398: 4, \"the word \"poutine\" or \"selection\" or \"&\" or \"apps\" or \"spot\" or are in the sentence\"), Explanation(LF_1402: 4, \"the word \"good\" or \"heavy\" or \"worth\" or \"Lots\" or \"Sandwiches\" or are in the sentence\"), Explanation(LF_1404: 5, \"the word \"continue\" or \"repair\" or \"years\" or \"prices\" or \"Matt\" or are in the sentence\"), Explanation(LF_1406: 1, \"the word \"rotors\" or \"communication\" or \"Oclock\" or \"bad\" or \"car\" or are in the sentence\"), Explanation(LF_1408: 2, \"the word \"horrible\" or \"hungry\" or \"crave\" or \"bao\" or \"food\" or are in the sentence\"), Explanation(LF_1433: 3, \"the word \"tries\" or \"spicy\" or \"Fries\" or \" \" or \"cheese\" or are in the sentence\"), Explanation(LF_1434: 1, \"the word \"service\" or \"extremely\" or \"customer\" or \"hours\" or \"rude\" or are in the sentence\"), Explanation(LF_1439: 5, \"the word \" \" or \"compliments\" or \"talented\" or \"Overall\" or \"spoke\" or are in the sentence\"), Explanation(LF_1449: 2, \"the word \"wonton\" or \"rocket\" or \"different\" or \"menu\" or \"sauce\" or are in the sentence\"), Explanation(LF_1452: 2, \"the word \"Chalet\" or \"closeout\" or \"overpriced\" or \"staff\" or \"way\" or are in the sentence\"), Explanation(LF_1453: 5, \"the word \"train\" or \"things\" or \"fight\" or \"went\" or \"day\" or are in the sentence\"), Explanation(LF_1455: 5, \"the word \"purchase\" or \"stand\" or \"product\" or \"glad\" or \"Bill\" or are in the sentence\"), Explanation(LF_1460: 5, \"the word \"buy\" or \"going\" or \"good\" or \"cards\" or \"sold\" or are in the sentence\"), Explanation(LF_1461: 1, \"the word \"eye\" or \"rude\" or \"vets\" or \"Receptionist\" or \"Medication\" or are in the sentence\"), Explanation(LF_1464: 5, \"the word \"favorite\" or \"cuisine\" or \"Authentic\" or \"fast\" or \"Phoenix\" or are in the sentence\"), Explanation(LF_1479: 5, \"the word \"said\" or \"struggling\" or \" \" or \"a.s.a.p\" or \"figured\" or are in the sentence\"), Explanation(LF_1480: 5, \"the word \"late\" or \"Great\" or \"beautiful\" or \"best\" or \"bites\" or are in the sentence\"), Explanation(LF_1487: 5, \"the word \"affordable\" or \"service\" or \"town\" or \"dealing\" or \"wanted\" or are in the sentence\"), Explanation(LF_1499: 1, \"the word \"ratings\" or \"said\" or \"cash\" or \"location\" or \"ordered\" or are in the sentence\"), Explanation(LF_1517: 4, \"the word \"good\" or \"Eating\" or \"quick\" or \"Callender\" or \" \" or are in the sentence\"), Explanation(LF_1527: 5, \"the word \"understatement\" or \"cleaner\" or \"sweet\" or \"LOVE\" or \"knobs\" or are in the sentence\"), Explanation(LF_1528: 5, \"the word \"bad\" or \"late\" or \"stayed\" or \"know\" or \"sure\" or are in the sentence\"), Explanation(LF_1530: 1, \"the word \"wait\" or \"pay\" or \"half\" or \"Music\" or \"queue\" or are in the sentence\"), Explanation(LF_1534: 4, \"the word \"pork\" or \"pulled\" or \" \" or \"spicy\" or \"pork\" or are in the sentence\"), Explanation(LF_1536: 5, \"the word \"taste\" or \"Mule\" or \"notes\" or \"perfect\" or \"Rich\" or are in the sentence\"), Explanation(LF_1537: 5, \"the word \"worth\" or \"got\" or \"agnolotti\" or \"lasagna\" or \"claimed\" or are in the sentence\"), Explanation(LF_1538: 4, \"the word \"years\" or \"=)\" or \"repeatedly\" or \"happy\" or \"tasted\" or are in the sentence\"), Explanation(LF_1541: 2, \"the word \"specific\" or \"Sadly\" or \"want\" or \"major\" or \"time\" or are in the sentence\"), Explanation(LF_1550: 5, \"the word \"picture\" or \"lash\" or \"nope\" or \"feeling\" or \"pop\" or are in the sentence\"), Explanation(LF_1558: 5, \"the word \"drools\" or \"Recommend\" or \"drive\" or \"time\" or \"worth\" or are in the sentence\"), Explanation(LF_1566: 1, \"the word \"cranking\" or \"stayed\" or \"sense\" or \"terrible\" or \"hear\" or are in the sentence\"), Explanation(LF_1570: 1, \"the word \"think\" or \"called\" or \"trying\" or \"asked\" or \"mind\" or are in the sentence\"), Explanation(LF_1583: 5, \"the word \"pretty\" or \"ran\" or \"music\" or \"stage\" or \"Wow\" or are in the sentence\"), Explanation(LF_1586: 1, \"the word \"customer\" or \"family\" or \"bags\" or \"fan\" or \"delayed\" or are in the sentence\"), Explanation(LF_1587: 3, \"the word \"tasty\" or \"local\" or \"try\" or \"replace\" or \"loses\" or are in the sentence\"), Explanation(LF_1592: 4, \"the word \"plus\" or \"usually\" or \"salsa\" or \"healthy\" or \"raw\" or are in the sentence\"), Explanation(LF_1597: 4, \"the word \"burrito\" or \"place\" or \"visit\" or \"supreme\" or \"gooooood\" or are in the sentence\"), Explanation(LF_1604: 5, \"the word \"businesses\" or \"friendly\" or \"businesses\" or \"crafty\" or \"trucks\" or are in the sentence\"), Explanation(LF_1614: 4, \"the word \"try\" or \"absolute\" or \"specialty\" or \"neighborhood\" or \"friendly\" or are in the sentence\"), Explanation(LF_1615: 5, \"the word \"explained\" or \"Wow\" or \"LensCrafters\" or \" \" or \" \" or are in the sentence\"), Explanation(LF_1619: 5, \"the word \"door\" or \"egg\" or \" \" or \"paid\" or \"flower\" or are in the sentence\"), Explanation(LF_1628: 5, \"the word \"Order\" or \"know\" or \" \" or \"Cheese\" or \"bar\" or are in the sentence\"), Explanation(LF_1629: 4, \"the word \"serves\" or \"bathrooms\" or \"ones\" or \"Wednesday\" or \"schmancy\" or are in the sentence\"), Explanation(LF_1630: 4, \"the word \"share\" or \"highly\" or \"sweet\" or \"pasta\" or \"like\" or are in the sentence\"), Explanation(LF_1636: 4, \"the word \"talk\" or \"feel\" or \"fries\" or \"menu\" or \"animal\" or are in the sentence\"), Explanation(LF_1638: 4, \"the word \"friend\" or \"room\" or \"+\" or \"sugar\" or \" \" or are in the sentence\"), Explanation(LF_1641: 4, \"the word \"good\" or \"Breakfast\" or \"consistent\" or \"breakfast\" or \"banana\" or are in the sentence\"), Explanation(LF_1648: 4, \"the word \"area\" or \" \" or \"Phoenix\" or \"lunch\" or \"hit\" or are in the sentence\"), Explanation(LF_1649: 5, \"the word \"faces\" or \"messed\" or \"meat\" or \" \" or \"lot\" or are in the sentence\"), Explanation(LF_1655: 5, \"the word \"Parking\" or \"Airport\" or \" \" or \"Sky\" or \"Harbor\" or are in the sentence\"), Explanation(LF_1662: 3, \"the word \"rotisserie\" or \"friendly\" or \"Latino\" or \"mention\" or \"prices\" or are in the sentence\"), Explanation(LF_1666: 5, \"the word \"drinks\" or \"definitely\" or \"amazing\" or \"cheese\" or \"decor\" or are in the sentence\"), Explanation(LF_1669: 3, \"the word \"cost\" or \"completely\" or \"incorrectly\" or \"Tasty\" or \"Considering\" or are in the sentence\"), Explanation(LF_1671: 4, \"the word \" \" or \" \" or \"places\" or \" \" or \" \" or are in the sentence\"), Explanation(LF_1673: 4, \"the word \"pics\" or \"usually\" or \"crazy\" or \"Vegas\" or \"story\" or are in the sentence\"), Explanation(LF_1678: 4, \"the word \"pricey\" or \"lunch\" or \"bit\" or \"Fattoush\" or \"free\" or are in the sentence\"), Explanation(LF_1686: 4, \"the word \"time\" or \"walk\" or \"worth\" or \"LAs\" or \"strip\" or are in the sentence\"), Explanation(LF_1691: 5, \"the word \"Travis\" or \"man\" or \"Fantastic\" or \"Ask\" or \"menu\" or are in the sentence\"), Explanation(LF_1693: 4, \"the word \"metal\" or \"lots\" or \"music\" or \"-\" or \"including\" or are in the sentence\"), Explanation(LF_1697: 4, \"the word \"queue\" or \"food\" or \"closing\" or \"food\" or \" \" or are in the sentence\"), Explanation(LF_1698: 4, \"the word \"rushed\" or \"atmosphere\" or \"genuine\" or \"Great\" or \"Road\" or are in the sentence\"), Explanation(LF_1702: 5, \"the word \"definitely\" or \"store\" or \"money\" or \"like\" or \"deals\" or are in the sentence\"), Explanation(LF_1711: 4, \"the word \"need\" or \"asked\" or \"little\" or \"color\" or \"friendly\" or are in the sentence\"), Explanation(LF_1712: 4, \"the word \"good\" or \"needed\" or \"hard\" or \" \" or \"bargain\" or are in the sentence\"), Explanation(LF_1713: 2, \"the word \"like\" or \"bad\" or \"making\" or \"service\" or \"non\" or are in the sentence\"), Explanation(LF_1714: 5, \"the word \"family\" or \"nails\" or \"childhood\" or \"got\" or \"gotten\" or are in the sentence\"), Explanation(LF_1715: 5, \"the word \"massage\" or \"scalp\" or \"style\" or \"suggested\" or \"friends\" or are in the sentence\"), Explanation(LF_1723: 1, \"the word \"bar\" or \"pay\" or \"repossessed\" or \"crowded\" or \"semi\" or are in the sentence\"), Explanation(LF_1726: 2, \"the word \"young\" or \"basis\" or \"assistance\" or \"condescending\" or \" \" or are in the sentence\"), Explanation(LF_1728: 5, \"the word \"princess\" or \"love\" or \"dish\" or \"curry\" or \"craving\" or are in the sentence\"), Explanation(LF_1731: 2, \"the word \"tart\" or \"cinnamon\" or \"Thai\" or \"tart\" or \"roll\" or are in the sentence\"), Explanation(LF_1738: 5, \"the word \"arrived\" or \"AC\" or \"left\" or \"communicated\" or \"Manny\" or are in the sentence\"), Explanation(LF_1739: 5, \"the word \"gets\" or \"bring\" or \"prosciutto\" or \"order\" or \"Italian\" or are in the sentence\"), Explanation(LF_1740: 5, \"the word \"wise\" or \"hair\" or \"wardrobe\" or \"mood\" or \"hair\" or are in the sentence\"), Explanation(LF_1755: 1, \"the word \"totally\" or \"husband\" or \"portions\" or \"daytime\" or \"work\" or are in the sentence\"), Explanation(LF_1758: 5, \"the word \"meal\" or \"heaven\" or \"row\" or \"request\" or \"Lord\" or are in the sentence\"), Explanation(LF_1759: 4, \"the word \"called\" or \"horrified\" or \"definitely\" or \"great\" or \"apologized\" or are in the sentence\"), Explanation(LF_1761: 1, \"the word \"came\" or \"having\" or \"doctor\" or \"prescribed\" or \"boyfriend\" or are in the sentence\"), Explanation(LF_1763: 2, \"the word \"better\" or \"hurry\" or \"nice\" or \"wrong\" or \"table\" or are in the sentence\"), Explanation(LF_1777: 5, \"the word \"turn\" or \"able\" or \"staff\" or \"Bullmoose\" or \"smile\" or are in the sentence\"), Explanation(LF_1781: 5, \"the word \"Bravo\" or \"texas\" or \"list\" or \"tried\" or \"snap\" or are in the sentence\"), Explanation(LF_1786: 2, \"the word \"ok\" or \"currently\" or \"Shame\" or \"Food\" or \"prices\" or are in the sentence\"), Explanation(LF_1787: 1, \"the word \"grumpiest\" or \"o'clock\" or \"experienced\" or \"start\" or \"missed\" or are in the sentence\"), Explanation(LF_1796: 4, \"the word \"like\" or \"steak\" or \"gets\" or \" \" or \"Waiter\" or are in the sentence\"), Explanation(LF_1809: 3, \"the word \"Mediterranean\" or \"karahi\" or \"neat\" or \"peculiar\" or \"decor\" or are in the sentence\"), Explanation(LF_1815: 3, \"the word \"waiting\" or \"personnel\" or \"Overall\" or \"know\" or \"usual\" or are in the sentence\"), Explanation(LF_1816: 5, \"the word \"gothic\" or \"time\" or \"plus\" or \"tunnel\" or \"locale\" or are in the sentence\"), Explanation(LF_1821: 1, \"the word \"treats\" or \"books\" or \"customers\" or \"extremely\" or \"way\" or are in the sentence\"), Explanation(LF_1828: 2, \"the word \"folded\" or \"scoop\" or \"service\" or \"avoid\" or \"Hey\" or are in the sentence\"), Explanation(LF_1835: 5, \"the word \"right\" or \"restaurants\" or \" \" or \"lived\" or \"years\" or are in the sentence\"), Explanation(LF_1841: 1, \"the word \"service\" or \"recommend\" or \"money\" or \"cracked\" or \"guarantee\" or are in the sentence\"), Explanation(LF_1842: 4, \"the word \"worth\" or \"quality\" or \"creative\" or \"process\" or \"pizza\" or are in the sentence\"), Explanation(LF_1847: 4, \"the word \"appliances\" or \" \" or \"fish\" or \"card\" or \"food\" or are in the sentence\"), Explanation(LF_1863: 2, \"the word \"Aloft\" or \"Beachwood\" or \" \" or \"rooms\" or \"hotel\" or are in the sentence\"), Explanation(LF_1865: 4, \"the word \"day\" or \"lazy\" or \"Tuesdays\" or \"burgers\" or \"Fatburger\" or are in the sentence\"), Explanation(LF_1870: 4, \"the word \"Malaysia\" or \"shrimp\" or \"close\" or \"cold\" or \"like\" or are in the sentence\"), Explanation(LF_1879: 1, \"the word \"right\" or \"jobs\" or \"Service\" or \"rude\" or \"going\" or are in the sentence\"), Explanation(LF_1888: 4, \"the word \"suggested\" or \"place\" or \"food\" or \"door\" or \"Russell\" or are in the sentence\"), Explanation(LF_1890: 5, \"the word \"reminded\" or \"love\" or \"tourist\" or \" \" or \"Star\" or are in the sentence\"), Explanation(LF_1894: 4, \"the word \"ordered\" or \"satisfy\" or \"flavourful\" or \"stronger\" or \"wrap\" or are in the sentence\"), Explanation(LF_1898: 5, \"the word \"excited\" or \"fish\" or \"halibut\" or \"fixtures\" or \"perfect\" or are in the sentence\"), Explanation(LF_1912: 5, \"the word \"staff\" or \"seasoning\" or \"I.\" or \"fine\" or \"January\" or are in the sentence\"), Explanation(LF_1936: 3, \"the word \"attended\" or \"shellac\" or \"shellac\" or \"sadly\" or \"spoke\" or are in the sentence\"), Explanation(LF_1940: 4, \"the word \"movement\" or \"dark\" or \"face\" or \"experiencing\" or \"lovely\" or are in the sentence\"), Explanation(LF_1952: 2, \"the word \"airport\" or \"weirdo\" or \"minutes\" or \"suggested\" or \"food\" or are in the sentence\"), Explanation(LF_1953: 5, \"the word \"known\" or \"fixed\" or \"window\" or \" \" or \"Glass\" or are in the sentence\"), Explanation(LF_1954: 3, \"the word \"looking\" or \"friend\" or \"hungry\" or \"tacos\" or \"place\" or are in the sentence\"), Explanation(LF_1958: 2, \"the word \"Chicken\" or \"combined\" or \"wanted\" or \"Sunday\" or \"array\" or are in the sentence\"), Explanation(LF_1965: 5, \"the word \" \" or \"menu\" or \"potato\" or \" \" or \"recommend\" or are in the sentence\"), Explanation(LF_1969: 5, \"the word \"exceptional\" or \"yum\" or \"short\" or \"food\" or \"staying\" or are in the sentence\"), Explanation(LF_1976: 5, \"the word \"Laughed\" or \"Took\" or \"smiled\" or \"Loved\" or \"old\" or are in the sentence\"), Explanation(LF_1977: 4, \"the word \"garlic\" or \"freshest\" or \"atop\" or \"abundant\" or \"Chicken\" or are in the sentence\"), Explanation(LF_1986: 4, \"the word \"Went\" or \"colleague\" or \"recommendation\" or \"weekend\" or \"minute\" or are in the sentence\"), Explanation(LF_1992: 4, \"the word \"Xiaolongbao\" or \"Pretty\" or \"canto\" or \"loved\" or \"based\" or are in the sentence\"), Explanation(LF_2000: 3, \"the word \"sit\" or \"actual\" or \"expected\" or \"place\" or \"menu\" or are in the sentence\"), Explanation(LF_2005: 3, \"the word \"stars\" or \"Decor\" or \"margaritas\" or \"awesome\" or \"margaritas\" or are in the sentence\"), Explanation(LF_2010: 3, \"the word \"fitting\" or \"positive\" or \"happy\" or \"tempted\" or \"Yorker\" or are in the sentence\"), Explanation(LF_2011: 2, \"the word \"basically\" or \"evening\" or \"dropped\" or \"time\" or \"try\" or are in the sentence\"), Explanation(LF_2020: 5, \"the word \"hip\" or \"place\" or \"plated\" or \"place\" or \"gypsy\" or are in the sentence\"), Explanation(LF_2022: 5, \"the word \"options\" or \"salty\" or \"plush\" or \"reclining\" or \"bonus\" or are in the sentence\"), Explanation(LF_2024: 4, \"the word \"time\" or \"like\" or \"Boulevard\" or \"fries\" or \"hot\" or are in the sentence\"), Explanation(LF_2030: 3, \"the word \"time\" or \"saw\" or \"good\" or \"waiting\" or \"like\" or are in the sentence\"), Explanation(LF_2031: 5, \"the word \"gooeyness\" or \"breakfast\" or \" \" or \"kids\" or \"eat\" or are in the sentence\"), Explanation(LF_2033: 5, \"the word \"attempts\" or \"quit\" or \"Dr.\" or \"treated\" or \"having\" or are in the sentence\"), Explanation(LF_2070: 1, \"the word \"boyfriend\" or \"took\" or \"best\" or \"changed\" or \"reason\" or are in the sentence\"), Explanation(LF_2076: 4, \"the word \"food\" or \"joint\" or \"cucumber\" or \"sushi\" or \"equally\" or are in the sentence\"), Explanation(LF_2089: 4, \"the word \"bring\" or \"chaps\" or \"lighting\" or \"goggles\" or \"beers\" or are in the sentence\"), Explanation(LF_2092: 5, \"the word \"personality\" or \"visit\" or \"culinary\" or \"glad\" or \"blah\" or are in the sentence\"), Explanation(LF_2094: 5, \"the word \"awesome\" or \"tomato\" or \" \" or \"yummy\" or \"Omgg\" or are in the sentence\"), Explanation(LF_2106: 5, \"the word \"amazing\" or \"ones\" or \"nice\" or \"Chips\" or \"add\" or are in the sentence\"), Explanation(LF_2109: 5, \"the word \"different\" or \"praline\" or \"hour\" or \"admitted\" or \"things\" or are in the sentence\"), Explanation(LF_2130: 1, \"the word \" \" or \" \" or \"purchased\" or \"lamp\" or \"desk\" or are in the sentence\"), Explanation(LF_2132: 4, \"the word \"the[Aria\" or \"good\" or \"relaxing\" or \"pace\" or \"compared\" or are in the sentence\"), Explanation(LF_2134: 5, \"the word \"offered\" or \"opened\" or \"people\" or \"sandwiches\" or \"questions\" or are in the sentence\"), Explanation(LF_2140: 4, \"the word \"oil\" or \"dessert\" or \"try\" or \"favorite\" or \"definitely\" or are in the sentence\"), Explanation(LF_2144: 3, \"the word \"case\" or \"flavor\" or \"grocery\" or \"cookout\" or \"combinations\" or are in the sentence\"), Explanation(LF_2149: 5, \"the word \"bottled\" or \"burger\" or \"like\" or \"option\" or \"yesterday\" or are in the sentence\"), Explanation(LF_2152: 2, \"the word \"mash\" or \"Rocky\" or \"nuts\" or \"ordered\" or \"cone\" or are in the sentence\"), Explanation(LF_2154: 5, \"the word \"Great\" or \"wait\" or \" \" or \"dinner\" or \"town\" or are in the sentence\"), Explanation(LF_2157: 4, \"the word \"shows\" or \"comfortable\" or \"helped\" or \"hours\" or \"location\" or are in the sentence\"), Explanation(LF_2167: 5, \"the word \"worked\" or \"Yummmm\" or \"Try\" or \"place\" or \"Harumi\" or are in the sentence\"), Explanation(LF_2168: 1, \"the word \"life\" or \"said\" or \"place\" or \"instead\" or \"getting\" or are in the sentence\"), Explanation(LF_2180: 2, \"the word \"barely\" or \"decor\" or \"literally\" or \"obviously\" or \"free\" or are in the sentence\"), Explanation(LF_2183: 4, \"the word \"Awesome\" or \"Tabitha\" or \"realky\" or \"Thanks\" or \"Buy\" or are in the sentence\"), Explanation(LF_2185: 3, \"the word \"diners\" or \"exactly\" or \"pancakes\" or \"sandwiches\" or \"egg\" or are in the sentence\"), Explanation(LF_2191: 5, \"the word \"wait\" or \"bananas\" or \"right\" or \"great\" or \"cups\" or are in the sentence\"), Explanation(LF_2193: 4, \"the word \"knew\" or \"week\" or \"NJ\" or \"stop\" or \"Stopped\" or are in the sentence\"), Explanation(LF_2197: 5, \"the word \" \" or \"size\" or \"good\" or \"Phoenix\" or \"gets\" or are in the sentence\"), Explanation(LF_2204: 5, \"the word \"place\" or \"fun\" or \"watching\" or \"boyfriend\" or \"said\" or are in the sentence\"), Explanation(LF_2210: 1, \"the word \"uhhhh\" or \"pick\" or \"marks\" or \"price\" or \"leave\" or are in the sentence\"), Explanation(LF_2217: 1, \"the word \"place\" or \"keeping\" or \"lot\" or \"went\" or \"choose\" or are in the sentence\"), Explanation(LF_2219: 5, \"the word \" \" or \"big\" or \"angry\" or \"good\" or \"hot\" or are in the sentence\"), Explanation(LF_2223: 5, \"the word \"got\" or \"taste\" or \"food\" or \"awesome\" or \"good\" or are in the sentence\"), Explanation(LF_2224: 4, \"the word \"start\" or \"sad\" or \"sad\" or \"garlic\" or \"Sunday\" or are in the sentence\"), Explanation(LF_2239: 1, \"the word \"dog\" or \"play\" or \"Truly\" or \"practice\" or \"need\" or are in the sentence\"), Explanation(LF_2242: 2, \"the word \"quick\" or \"got\" or \"McDonalds\" or \"real\" or \"constantly\" or are in the sentence\"), Explanation(LF_2246: 1, \"the word \"want\" or \"&\" or \"looks\" or \"behalf\" or \"language\" or are in the sentence\"), Explanation(LF_2261: 5, \"the word \"extremely\" or \"Evictions\" or \"followed\" or \"entire\" or \"eviction\" or are in the sentence\"), Explanation(LF_2263: 3, \"the word \"prices\" or \"walk\" or \"cute\" or \"work\" or \"pedicure\" or are in the sentence\"), Explanation(LF_2271: 2, \"the word \"decided\" or \"party\" or \"wrong\" or \"credit\" or \"order\" or are in the sentence\"), Explanation(LF_2273: 1, \"the word \"good\" or \"bread\" or \"lunch\" or \"food\" or \"eating\" or are in the sentence\"), Explanation(LF_2279: 5, \"the word \"perfect\" or \"crying\" or \"seats\" or \" \" or \"perfectly\" or are in the sentence\"), Explanation(LF_2280: 5, \"the word \"menu\" or \"Try\" or \"shared\" or \"Malaysian\" or \"definitely\" or are in the sentence\"), Explanation(LF_2284: 4, \"the word \"atmosphere\" or \"sandwich\" or \"fresh\" or \" \" or \"Friendly\" or are in the sentence\"), Explanation(LF_2292: 3, \"the word \"number\" or \"bag\" or \"found\" or \"reached\" or \"Bob\" or are in the sentence\"), Explanation(LF_2293: 4, \"the word \"pudding\" or \"filled\" or \"green\" or \"chicken\" or \"round\" or are in the sentence\"), Explanation(LF_2296: 5, \"the word \"Aria\" or \"drinks\" or \"Degrees\" or \"like\" or \"cause\" or are in the sentence\"), Explanation(LF_2297: 2, \"the word \"discontinued\" or \"concept\" or \"business\" or \"month\" or \"current\" or are in the sentence\"), Explanation(LF_2299: 5, \"the word \"great\" or \"Food\" or \"breakfast\" or \"amazing\" or \" \" or are in the sentence\"), Explanation(LF_2317: 5, \"the word \"worth\" or \"Pastrami\" or \" \" or \"country\" or \"Long\" or are in the sentence\"), Explanation(LF_2322: 5, \"the word \"wait\" or \"nt\" or \"candy\" or \"away\" or \"amazing\" or are in the sentence\"), Explanation(LF_2325: 5, \"the word \"Definitely\" or \"options\" or \"vegetarians\" or \"spot\" or \"bagels\" or are in the sentence\"), Explanation(LF_2326: 1, \"the word \"tasteless\" or \"slow\" or \"stringy\" or \"added\" or \"roast\" or are in the sentence\"), Explanation(LF_2328: 5, \"the word \"gaming\" or \"bar\" or \"great\" or \"casino\" or \"enjoyed\" or are in the sentence\"), Explanation(LF_2345: 3, \"the word \"lunch\" or \"love\" or \"people\" or \"placing\" or \"order\" or are in the sentence\"), Explanation(LF_2354: 2, \"the word \"Calabrese\" or \"bread\" or \"buying\" or \"thing\" or \"pastries\" or are in the sentence\"), Explanation(LF_2356: 5, \"the word \"Holidays\" or \"Thanks\" or \"nails\" or \"love\" or \"design\" or are in the sentence\"), Explanation(LF_2368: 1, \"the word \"undeliverable\" or \"successfully\" or \"wrong\" or \"packages\" or \"address\" or are in the sentence\"), Explanation(LF_2369: 4, \"the word \"OK\" or \"menu\" or \"place\" or \"great\" or \"server\" or are in the sentence\"), Explanation(LF_2374: 4, \"the word \"vibe\" or \"friends\" or \"middle\" or \"Cool\" or \" \" or are in the sentence\"), Explanation(LF_2377: 5, \"the word \"friendly\" or \"awesome\" or \"planet\" or \"mouth\" or \"wait\" or are in the sentence\"), Explanation(LF_2382: 1, \"the word \"place\" or \"sure\" or \"Alexandre\" or \"works\" or \"saying\" or are in the sentence\"), Explanation(LF_2396: 4, \"the word \"reasonable\" or \"left\" or \"curious\" or \"casual\" or \"food\" or are in the sentence\"), Explanation(LF_2397: 5, \"the word \"Loved\" or \"mushroom\" or \"selection\" or \"awesome\" or \"goat\" or are in the sentence\"), Explanation(LF_2407: 5, \"the word \"juicy\" or \"WAITING\" or \"options\" or \"recommend\" or \"social\" or are in the sentence\"), Explanation(LF_2409: 5, \"the word \"exactly\" or \" \" or \"importantly\" or \" \" or \"Mimi\" or are in the sentence\"), Explanation(LF_2429: 5, \"the word \"Chipotle\" or \"Eat\" or \"Love\" or \"authentic\" or \"gives\" or are in the sentence\"), Explanation(LF_2435: 5, \"the word \"Store\" or \" \" or \"quickly\" or \"associates\" or \"goods\" or are in the sentence\"), Explanation(LF_2443: 5, \"the word \"location\" or \"dancing\" or \"time\" or \"usual\" or \"took\" or are in the sentence\"), Explanation(LF_2450: 5, \"the word \"spectacular\" or \"hubby\" or \"Vegas\" or \"blew\" or \"pretty\" or are in the sentence\"), Explanation(LF_2453: 4, \"the word \"fun\" or \"Baby\" or \"place\" or \"length\" or \"water\" or are in the sentence\"), Explanation(LF_2458: 4, \"the word \"gong\" or \"choose\" or \"Lots\" or \"substitutions\" or \"Followed\" or are in the sentence\"), Explanation(LF_2462: 5, \"the word \"needed\" or \"said\" or \"kind\" or \"raise\" or \"file\" or are in the sentence\"), Explanation(LF_2466: 5, \"the word \"place\" or \"long\" or \"lines\" or \"quickly\" or \"order\" or are in the sentence\"), Explanation(LF_2475: 1, \"the word \"Stay\" or \"GROSS\" or \"better\" or \"GROSS\" or \"GROSS\" or are in the sentence\"), Explanation(LF_2476: 5, \"the word \"tables\" or \"favorite\" or \"party\" or \"Falls\" or \"wine\" or are in the sentence\"), Explanation(LF_2491: 5, \"the word \"items\" or \"day\" or \"island\" or \"time\" or \"Maureen\" or are in the sentence\"), Explanation(LF_2501: 1, \"the word \"said\" or \"waiter\" or \"food\" or \"reheated\" or \"till\" or are in the sentence\"), Explanation(LF_2502: 5, \"the word \"professional\" or \"Loved\" or \"true\" or \"raved\" or \" \" or are in the sentence\"), Explanation(LF_2504: 4, \"the word \"received\" or \"instead\" or \"cupcakes\" or \"place\" or \"friend\" or are in the sentence\"), Explanation(LF_2507: 4, \"the word \"tables\" or \"moved\" or \"seats\" or \"accommodating\" or \"job\" or are in the sentence\"), Explanation(LF_2508: 1, \"the word \"short\" or \"exterior\" or \"later\" or \"twice\" or \"days\" or are in the sentence\"), Explanation(LF_2510: 4, \"the word \"vegetarian\" or \"omelette\" or \"roasted\" or \"hopped\" or \"constantly\" or are in the sentence\"), Explanation(LF_2511: 1, \"the word \"paint\" or \"smile\" or \"sounds\" or \"job\" or \"mixed\" or are in the sentence\"), Explanation(LF_2519: 1, \"the word \"Costco\" or \"battery\" or \"value\" or \"prides\" or \"new\" or are in the sentence\"), Explanation(LF_2521: 3, \"the word \"bubble\" or \"server\" or \"offerings\" or \"weekend\" or \"time\" or are in the sentence\"), Explanation(LF_2531: 5, \"the word \"experience\" or \"Olive\" or \"good\" or \"staff\" or \"staff\" or are in the sentence\"), Explanation(LF_2532: 5, \"the word \"early\" or \"new\" or \"mini\" or \"definitely\" or \"lady\" or are in the sentence\"), Explanation(LF_2534: 5, \"the word \"tips\" or \"&\" or \"China\" or \"ATTENTION\" or \"polite\" or are in the sentence\"), Explanation(LF_2536: 1, \"the word \"equipment\" or \"employees\" or \"management\" or \"extremely\" or \"Ok\" or are in the sentence\"), Explanation(LF_2540: 1, \"the word \"credit\" or \"BOB\" or \"far\" or \"bunch\" or \"Byrider\" or are in the sentence\"), Explanation(LF_2546: 4, \"the word \"average\" or \"%\" or \"find\" or \"Xe\" or \" \" or are in the sentence\"), Explanation(LF_2551: 5, \"the word \"understand\" or \"Philly\" or \"grilled\" or \"chocolate\" or \"high\" or are in the sentence\"), Explanation(LF_2552: 3, \"the word \"big\" or \"got\" or \"written\" or \"sure\" or \"review\" or are in the sentence\"), Explanation(LF_2553: 5, \"the word \"Scottsdale\" or \"North\" or \"good\" or \"places\" or \"great\" or are in the sentence\"), Explanation(LF_2554: 4, \"the word \"10th\" or \"different\" or \"thing\" or \"area\" or \"hubby\" or are in the sentence\"), Explanation(LF_2560: 5, \"the word \"funds\" or \"favorite\" or \"place\" or \"tell\" or \"great\" or are in the sentence\"), Explanation(LF_2574: 5, \"the word \"cards\" or \"hockey\" or \"info\" or \"Groups\" or \"appreciate\" or are in the sentence\"), Explanation(LF_2579: 5, \"the word \"Dam\" or \"Lake\" or \"Dam\" or \"beginning\" or \"trip\" or are in the sentence\"), Explanation(LF_2581: 5, \"the word \"comes\" or \"family\" or \"manner\" or \"kids\" or \"post\" or are in the sentence\"), Explanation(LF_2584: 5, \"the word \"service\" or \"fan\" or \"later\" or \"food\" or \"burger\" or are in the sentence\"), Explanation(LF_2585: 3, \"the word \"lets\" or \"straight\" or \"rice\" or \"piece\" or \"area\" or are in the sentence\"), Explanation(LF_2591: 5, \"the word \"like\" or \"says\" or \"people\" or \"serve\" or \"work\" or are in the sentence\"), Explanation(LF_2598: 2, \"the word \"common\" or \"hall\" or \"staff\" or \"dining\" or \" \" or are in the sentence\"), Explanation(LF_2603: 5, \"the word \"going\" or \"rush\" or \"smile\" or \"middle\" or \"server\" or are in the sentence\"), Explanation(LF_2613: 2, \"the word \"hope\" or \"based\" or \"place\" or \"Dairy\" or \"advertised\" or are in the sentence\"), Explanation(LF_2616: 1, \"the word \"golden\" or \"color\" or \"time\" or \"disorganized\" or \"pitch\" or are in the sentence\"), Explanation(LF_2621: 3, \"the word \"bbq\" or \"tho\" or \"food\" or \"variety\" or \"meal\" or are in the sentence\"), Explanation(LF_2625: 2, \"the word \"eat\" or \"husband\" or \"love\" or \"dinner\" or \"normal\" or are in the sentence\"), Explanation(LF_2628: 3, \"the word \"gave\" or \"detail\" or \"seal\" or \"Affordable\" or \"job\" or are in the sentence\"), Explanation(LF_2631: 4, \"the word \"Phoenix\" or \"old\" or \"catch\" or \"date\" or \"waste\" or are in the sentence\"), Explanation(LF_2632: 5, \"the word \"talent\" or \"inspired\" or \"artists\" or \"aspiring\" or \"ages\" or are in the sentence\"), Explanation(LF_2636: 5, \"the word \"fatty\" or \"brisket\" or \"ask\" or \"brisket\" or \"transport\" or are in the sentence\"), Explanation(LF_2644: 1, \"the word \"believe\" or \"way\" or \"applicants\" or \"Attempted\" or \"apply\" or are in the sentence\"), Explanation(LF_2647: 5, \"the word \"helpings\" or \"ingredients\" or \"delicious\" or \"recommend\" or \"seating\" or are in the sentence\"), Explanation(LF_2650: 3, \"the word \"chicken\" or \"improve\" or \"forgot\" or \"plus\" or \"meatballs\" or are in the sentence\"), Explanation(LF_2651: 1, \"the word \" \" or \"door\" or \"hey\" or \"Time\" or \"like\" or are in the sentence\"), Explanation(LF_2652: 4, \"the word \"good\" or \"Coney\" or \"coney\" or \"macaroni\" or \"liked\" or are in the sentence\"), Explanation(LF_2657: 5, \"the word \"easily\" or \"install\" or \"pump\" or \"locate\" or \" \" or are in the sentence\"), Explanation(LF_2662: 5, \"the word \"waiter\" or \"care\" or \"favorite\" or \"Wandering\" or \"hamachi\" or are in the sentence\"), Explanation(LF_2685: 4, \"the word \"good\" or \"minutes\" or \"drinking\" or \"hotel\" or \"stopped\" or are in the sentence\"), Explanation(LF_2686: 5, \"the word \"changes\" or \"like\" or \"Benedicts\" or \"breakfast\" or \"choice\" or are in the sentence\"), Explanation(LF_2689: 4, \"the word \"sushi\" or \"buffet\" or \"choices\" or \"time\" or \"Great\" or are in the sentence\"), Explanation(LF_2692: 5, \"the word \"friends\" or \"refinancing\" or \"experience\" or \"Jinyi\" or \"recommend\" or are in the sentence\"), Explanation(LF_2701: 5, \"the word \"tell\" or \"good\" or \"best\" or \"waitress\" or \"best\" or are in the sentence\"), Explanation(LF_2712: 5, \"the word \"purchase\" or \"assistance\" or \"Justin\" or \"provides\" or \"service\" or are in the sentence\"), Explanation(LF_2719: 2, \"the word \"customers\" or \"Disappointing\" or \"restaurant\" or \"took\" or \"order\" or are in the sentence\"), Explanation(LF_2731: 5, \"the word \"customers\" or \"months\" or \"companies\" or \"met\" or \"met\" or are in the sentence\"), Explanation(LF_2735: 1, \"the word \"Chardon\" or \"Avoid\" or \"interested\" or \"costs\" or \"Bell\" or are in the sentence\"), Explanation(LF_2739: 1, \"the word \" \" or \"huge\" or \"beds\" or \"rest\" or \"area\" or are in the sentence\"), Explanation(LF_2750: 5, \"the word \"crust\" or \"basil\" or \"doughy\" or \"taste\" or \"love\" or are in the sentence\"), Explanation(LF_2752: 4, \"the word \" \" or \"menu\" or \"alright\" or \"sure\" or \"ordered\" or are in the sentence\"), Explanation(LF_2757: 5, \"the word \"Loved\" or \" \" or \"Showtime\" or \"venue\" or \" \" or are in the sentence\"), Explanation(LF_2774: 5, \"the word \"STARS\" or \"love\" or \"unfortunately\" or \"dance\" or \"enthusiastic\" or are in the sentence\"), Explanation(LF_2777: 5, \"the word \"makes\" or \"spot\" or \"staying\" or \"service\" or \"place\" or are in the sentence\"), Explanation(LF_2779: 5, \"the word \"Truly\" or \"delivery\" or \"sushi\" or \"food\" or \"going\" or are in the sentence\"), Explanation(LF_2782: 4, \"the word \"couple\" or \"tasty\" or \"served\" or \"steak\" or \"flip\" or are in the sentence\"), Explanation(LF_2783: 1, \"the word \"wait\" or \"greeted\" or \"attention\" or \"right\" or \"restaurant\" or are in the sentence\"), Explanation(LF_2786: 2, \"the word \"getting\" or \"extent\" or \"beef\" or \"corn\" or \"service\" or are in the sentence\"), Explanation(LF_2795: 5, \"the word \"coming\" or \"amazing\" or \"fries\" or \"jaw\" or \"try\" or are in the sentence\"), Explanation(LF_2803: 1, \"the word \"books\" or \"shopping\" or \"Honesty\" or \"clothes\" or \"manager\" or are in the sentence\"), Explanation(LF_2816: 5, \"the word \"experience\" or \"met\" or \"Sheryl\" or \"train\" or \"mattresses\" or are in the sentence\"), Explanation(LF_2826: 5, \"the word \"waiting\" or \"thank\" or \"appointment\" or \"appointment\" or \"visit\" or are in the sentence\"), Explanation(LF_2829: 5, \"the word \"toes\" or \"found\" or \"job\" or \"great\" or \"best\" or are in the sentence\"), Explanation(LF_2851: 1, \"the word \"SHITY\" or \"half\" or \"reservations\" or \"wait\" or \"long\" or are in the sentence\"), Explanation(LF_2858: 3, \"the word \"Malaysian\" or \" \" or \"restaurant\" or \"Value\" or \"authentic\" or are in the sentence\"), Explanation(LF_2860: 3, \"the word \"enjoy\" or \"charging\" or \"hope\" or \"time\" or \"little\" or are in the sentence\"), Explanation(LF_2861: 5, \"the word \"Charlotte\" or \" \" or \"fantastic\" or \"artifacts\" or \"nice\" or are in the sentence\"), Explanation(LF_2866: 2, \"the word \"lunch\" or \"good\" or \"potatoes\" or \"try\" or \"mashed\" or are in the sentence\"), Explanation(LF_2869: 4, \"the word \"simple\" or \"food\" or \"hits\" or \"nachos\" or \"come\" or are in the sentence\"), Explanation(LF_2874: 5, \"the word \"opted\" or \"use\" or \"bays\" or \"far\" or \"grassy\" or are in the sentence\"), Explanation(LF_2880: 1, \"the word \"area\" or \"vibe\" or \"interior\" or \"dated\" or \"add\" or are in the sentence\"), Explanation(LF_2881: 4, \"the word \" \" or \"food\" or \"tried\" or \"great\" or \"soups\" or are in the sentence\"), Explanation(LF_2885: 4, \"the word \"crazy\" or \"school\" or \"bit\" or \" \" or \"quieter\" or are in the sentence\"), Explanation(LF_2886: 3, \"the word \"seaweed\" or \"bulgogi\" or \"hot\" or \"food\" or \"pancake\" or are in the sentence\"), Explanation(LF_2891: 3, \"the word \"good\" or \"ago\" or \"sprayed\" or \" \" or \"dirty\" or are in the sentence\"), Explanation(LF_2892: 4, \"the word \"people\" or \"BBQ\" or \"daily\" or \"accept\" or \"love\" or are in the sentence\"), Explanation(LF_2897: 1, \"the word \"information\" or \"manage\" or \"medical\" or \"caused\" or \"adverse\" or are in the sentence\"), Explanation(LF_2901: 1, \"the word \"fryer\" or \"rice\" or \"tasted\" or \"warm\" or \"fries\" or are in the sentence\"), Explanation(LF_2904: 5, \"the word \"sp\" or \"toppings\" or \"lots\" or \"Dulce\" or \"people\" or are in the sentence\"), Explanation(LF_2909: 5, \"the word \"brought\" or \"rave\" or \"friends\" or \"Takara\" or \"best\" or are in the sentence\"), Explanation(LF_2912: 1, \"the word \"Cheesesteak\" or \"add\" or \"order\" or \"view\" or \"flavor\" or are in the sentence\"), Explanation(LF_2913: 5, \"the word \"come\" or \"live\" or \"cuisine\" or \"finally\" or \"found\" or are in the sentence\"), Explanation(LF_2917: 4, \"the word \"Maia\" or \"body\" or \"stronger\" or \"Body\" or \"Kiera\" or are in the sentence\"), Explanation(LF_2922: 1, \"the word \"times\" or \"worst\" or \"diagnosed\" or \"place\" or \"want\" or are in the sentence\"), Explanation(LF_2923: 5, \"the word \"best\" or \"takeout\" or \"SUPERB\" or \"large\" or \"nice\" or are in the sentence\"), Explanation(LF_2928: 4, \"the word \"Check\" or \"barbecue\" or \"need\" or \"Pretty\" or \"Sandwich\" or are in the sentence\"), Explanation(LF_2933: 3, \"the word \"Stallion\" or \"homes\" or \"wanted\" or \"Justin\" or \"eaters\" or are in the sentence\"), Explanation(LF_2934: 3, \"the word \"ordered\" or \"lunch\" or \"parking\" or \"people\" or \"regular\" or are in the sentence\"), Explanation(LF_2935: 1, \"the word \"weak\" or \"asked\" or \"cheese(cheese\" or \"Reboot\" or \"Sorry\" or are in the sentence\"), Explanation(LF_2951: 1, \"the word \" \" or \"scratches\" or \"DONT\" or \"refused\" or \" \" or are in the sentence\"), Explanation(LF_2954: 4, \"the word \"like\" or \"good\" or \"person\" or \"chicken\" or \"food\" or are in the sentence\"), Explanation(LF_2966: 4, \"the word \"salmon\" or \"took\" or \"piece\" or \"crabcakes\" or \"alright\" or are in the sentence\"), Explanation(LF_2967: 5, \"the word \"super\" or \"charges\" or \"time\" or \"shield\" or \"review\" or are in the sentence\"), Explanation(LF_2971: 5, \"the word \"Kpop\" or \"mikes\" or \"drinks\" or \"try\" or \"videos\" or are in the sentence\"), Explanation(LF_2973: 5, \"the word \"burrito(bacon\" or \"order\" or \"crepe\" or \"outstanding\" or \"strawberries\" or are in the sentence\"), Explanation(LF_2978: 1, \"the word \"trunk\" or \"job\" or \"oil\" or \"change\" or \"detail\" or are in the sentence\"), Explanation(LF_2988: 4, \"the word \"Beverages\" or \"Luggage\" or \"Shop\" or \"Vegas\" or \"Subway\" or are in the sentence\"), Explanation(LF_2991: 1, \"the word \"Health\" or \"sprouts\" or \"weight\" or \"sprouts\" or \"bad\" or are in the sentence\"), Explanation(LF_2995: 4, \"the word \"open\" or \"seating\" or \"food\" or \"quickly\" or \"menu\" or are in the sentence\"), Explanation(LF_3010: 5, \"the word \"things\" or \"reason\" or \"sure\" or \"things\" or \"Issa\" or are in the sentence\"), Explanation(LF_3011: 5, \"the word \"uber\" or \"blown\" or \"brunch\" or \"langonisa\" or \"guests\" or are in the sentence\"), Explanation(LF_3020: 5, \"the word \"find\" or \"services\" or \"uses\" or \"knee\" or \"lot\" or are in the sentence\"), Explanation(LF_3023: 4, \"the word \"place\" or \"appetizer-\" or \"recommend\" or \"food\" or \"marinated\" or are in the sentence\"), Explanation(LF_3024: 4, \"the word \"definitely\" or \"manchego\" or \"amazing\" or \"bruschetta\" or \"try\" or are in the sentence\"), Explanation(LF_3026: 2, \"the word \"rice\" or \"thinking\" or \"clumpy\" or \"topped\" or \"topped\" or are in the sentence\"), Explanation(LF_3028: 4, \"the word \"star\" or \"pay\" or \"left\" or \"like\" or \"fro\" or are in the sentence\"), Explanation(LF_3030: 5, \"the word \"good\" or \"guests\" or \"delicious\" or \"communicating\" or \"fruit\" or are in the sentence\"), Explanation(LF_3033: 1, \"the word \"pizza\" or \"AWFUL\" or \"here-\" or \"Scary\" or \"mislead\" or are in the sentence\"), Explanation(LF_3040: 5, \"the word \"burst\" or \"chicken\" or \"BEST\" or \"tomatoes\" or \" \" or are in the sentence\"), Explanation(LF_3046: 3, \"the word \"service\" or \"mess\" or \"fajita\" or \"ordered\" or \"order\" or are in the sentence\"), Explanation(LF_3055: 5, \"the word \"shrimp\" or \"lettuce\" or \"try\" or \"soap\" or \"Roberto\" or are in the sentence\"), Explanation(LF_3056: 5, \"the word \"particularly\" or \"close\" or \"people\" or \"Grits\" or \"impressed\" or are in the sentence\"), Explanation(LF_3058: 2, \"the word \"mahi\" or \"black\" or \"ordered\" or \"brought\" or \"got\" or are in the sentence\"), Explanation(LF_3059: 1, \"the word \"past\" or \"like\" or \"soggy\" or \"beans\" or \"Sunday\" or are in the sentence\"), Explanation(LF_3063: 5, \"the word \"pie\" or \"genuinely\" or \"nice\" or \"topping\" or \"soda\" or are in the sentence\"), Explanation(LF_3068: 4, \"the word \"RIDICULOUSLY\" or \"thoroughly\" or \"water\" or \"food\" or \"enjoyed\" or are in the sentence\"), Explanation(LF_3072: 1, \"the word \"sausage\" or \"sandwich\" or \"line\" or \"delicious\" or \"favor\" or are in the sentence\"), Explanation(LF_3080: 4, \"the word \"sides\" or \"portions\" or \"greet\" or \"huge\" or \"prices\" or are in the sentence\"), Explanation(LF_3093: 3, \"the word \"OK\" or \"cheeseburger\" or \"frozen\" or \"soda\" or \"fill\" or are in the sentence\"), Explanation(LF_3094: 4, \"the word \"let\" or \"elevator\" or \"distance\" or \"garage\" or \"desk\" or are in the sentence\"), Explanation(LF_3099: 3, \"the word \"time\" or \"cheese\" or \"melted\" or \"frustrating\" or \"called\" or are in the sentence\"), Explanation(LF_3105: 4, \"the word \"usually\" or \" \" or \"Delicioso\" or \"AMAZING\" or \"review\" or are in the sentence\"), Explanation(LF_3118: 5, \"the word \"professional\" or \"years\" or \"helpful\" or \"job\" or \"teeth\" or are in the sentence\"), Explanation(LF_3120: 5, \"the word \"great\" or \"trying\" or \"dressed\" or \"staff\" or \"like\" or are in the sentence\"), Explanation(LF_3131: 5, \"the word \"order\" or \" \" or \"service\" or \" \" or \" \" or are in the sentence\"), Explanation(LF_3136: 5, \"the word \"people\" or \"wo\" or \"fountains\" or \"Bellgaio\" or \"common\" or are in the sentence\"), Explanation(LF_3137: 5, \"the word \"bone\" or \"homemade\" or \"tomato\" or \"Trust\" or \"fried\" or are in the sentence\"), Explanation(LF_3146: 5, \"the word \"live\" or \"wanted\" or \"course\" or \"fun\" or \"fun\" or are in the sentence\"), Explanation(LF_3151: 2, \"the word \"time\" or \"meat\" or \"leaving\" or \"little\" or \" \" or are in the sentence\"), Explanation(LF_3157: 5, \"the word \"thankful\" or \"went\" or \"hybrid\" or \"family\" or \"counter\" or are in the sentence\"), Explanation(LF_3170: 4, \"the word \"drunken\" or \"took\" or \"morning\" or \"Free\" or \"crazy\" or are in the sentence\"), Explanation(LF_3179: 5, \"the word \"wanna\" or \"SUPER\" or \"chicken\" or \"gone\" or \"little\" or are in the sentence\"), Explanation(LF_3183: 3, \"the word \"dish\" or \"waiter\" or \"Friendly\" or \"come\" or \"main\" or are in the sentence\"), Explanation(LF_3185: 1, \"the word \"great\" or \" \" or \"mile\" or \"deal\" or \" \" or are in the sentence\"), Explanation(LF_3187: 3, \"the word \"sandwiches\" or \"skills\" or \"service\" or \" \" or \"meals\" or are in the sentence\"), Explanation(LF_3198: 4, \"the word \"friendly\" or \"better\" or \"NYC\" or \"Lost\" or \"deal\" or are in the sentence\"), Explanation(LF_3199: 5, \"the word \"mini\" or \"treat\" or \"good\" or \"nice\" or \"dough\" or are in the sentence\"), Explanation(LF_3201: 5, \"the word \"helping\" or \"gotten\" or \"cigarettes\" or \"location\" or \"rushed\" or are in the sentence\"), Explanation(LF_3202: 4, \"the word \"fruit\" or \"Portions\" or \"special\" or \"Ordered\" or \"strawberry\" or are in the sentence\"), Explanation(LF_3203: 1, \"the word \"hot\" or \" \" or \" \" or \"salsa\" or \"bar\" or are in the sentence\"), Explanation(LF_3205: 1, \"the word \"D.\" or \"pasta\" or \"settle\" or \"multiple\" or \"totally\" or are in the sentence\"), Explanation(LF_3206: 5, \"the word \"SCTH\" or \"goods\" or \"similar\" or \"matter\" or \"road\" or are in the sentence\"), Explanation(LF_3211: 5, \"the word \"place\" or \"friend\" or \"guy\" or \"food\" or \"person\" or are in the sentence\"), Explanation(LF_3213: 4, \"the word \"efficient\" or \"day\" or \"clean\" or \" \" or \"lanes\" or are in the sentence\"), Explanation(LF_3222: 1, \"the word \"man\" or \"cappuccinos\" or \"&\" or \"daily\" or \"customers\" or are in the sentence\"), Explanation(LF_3224: 3, \"the word \"price\" or \" \" or \" \" or \"food\" or \"Pasta\" or are in the sentence\"), Explanation(LF_3229: 3, \"the word \"strictly\" or \"experience\" or \"liking\" or \"little\" or \"away\" or are in the sentence\"), Explanation(LF_3230: 5, \"the word \"definitely\" or \"+\" or \"course\" or \"describe\" or \"pay\" or are in the sentence\"), Explanation(LF_3231: 4, \"the word \"great\" or \"people\" or \"posh\" or \"extra\" or \"nice\" or are in the sentence\"), Explanation(LF_3235: 4, \"the word \"bacon\" or \"BLT\" or \" \" or \" \" or \"attentive\" or are in the sentence\"), Explanation(LF_3238: 5, \"the word \"wish\" or \" \" or \"comfortable\" or \"gondola\" or \"musical\" or are in the sentence\"), Explanation(LF_3241: 5, \"the word \"servers\" or \"diet\" or \"wait\" or \"pesto\" or \"delicious\" or are in the sentence\"), Explanation(LF_3242: 2, \"the word \"know\" or \"ill\" or \"great\" or \"place\" or \"taste\" or are in the sentence\"), Explanation(LF_3243: 5, \"the word \"Enchiladas\" or \"authentic\" or \"Las\" or \"meal\" or \"de\" or are in the sentence\"), Explanation(LF_3244: 1, \"the word \"Fast\" or \" \" or \"manager\" or \"husband\" or \"inspect\" or are in the sentence\"), Explanation(LF_3246: 4, \"the word \"size\" or \"absolutely\" or \" \" or \"shop\" or \"good\" or are in the sentence\"), Explanation(LF_3248: 4, \"the word \"add\" or \"garlic\" or \"tasty\" or \"olives\" or \"blanca\" or are in the sentence\"), Explanation(LF_3252: 2, \"the word \"biggest\" or \"SHARE\" or \"needs\" or \"seats\" or \"choosing\" or are in the sentence\"), Explanation(LF_3266: 5, \"the word \"Rare\" or \"butter\" or \"prepared\" or \"thin\" or \"loved\" or are in the sentence\"), Explanation(LF_3267: 5, \"the word \"Vegas\" or \"cool\" or \"stay\" or \" \" or \"Vegas\" or are in the sentence\"), Explanation(LF_3270: 5, \"the word \" \" or \"bar\" or \"awesome\" or \"Emporia\" or \" \" or are in the sentence\"), Explanation(LF_3278: 2, \"the word \"Spanish\" or \"happened\" or \"food\" or \"star\" or \" \" or are in the sentence\"), Explanation(LF_3281: 5, \"the word \"incredible\" or \"recommend\" or \"simply\" or \"fantastic\" or \"takes\" or are in the sentence\"), Explanation(LF_3283: 5, \"the word \"folks\" or \"lady\" or \"beautiful\" or \"Minister\" or \"word\" or are in the sentence\"), Explanation(LF_3288: 1, \"the word \"entrees\" or \"fish\" or \"tasteless\" or \"drowned\" or \"sauce\" or are in the sentence\"), Explanation(LF_3294: 5, \"the word \"impressed\" or \"bicycles\" or \"collection\" or \"Truly\" or \"Owner\" or are in the sentence\"), Explanation(LF_3295: 4, \"the word \"music\" or \"finally\" or \"want\" or \"weekend\" or \"kitchen\" or are in the sentence\"), Explanation(LF_3298: 2, \"the word \"away\" or \"sauce\" or \"WINGS\" or \"dinner\" or \"rest\" or are in the sentence\"), Explanation(LF_3301: 5, \"the word \"catering\" or \"help\" or \"coordinating\" or \"lighting\" or \"charm\" or are in the sentence\"), Explanation(LF_3303: 5, \"the word \"gift\" or \"fabulous\" or \"card\" or \"dinner\" or \"smelled\" or are in the sentence\"), Explanation(LF_3307: 1, \"the word \" \" or \"nice\" or \"left\" or \"owner\" or \"cheese\" or are in the sentence\"), Explanation(LF_3308: 1, \"the word \"sugar\" or \"praise\" or \"advertised\" or \"help\" or \"sound\" or are in the sentence\"), Explanation(LF_3309: 5, \"the word \"favorite\" or \"simply\" or \"dishes\" or \"planned\" or \"band\" or are in the sentence\"), Explanation(LF_3320: 5, \"the word \"service\" or \"awesome\" or \"past\" or \"worked\" or \"visited\" or are in the sentence\"), Explanation(LF_3321: 5, \"the word \"different\" or \"tacos\" or \"fries\" or \"good\" or \"Ask\" or are in the sentence\"), Explanation(LF_3327: 5, \"the word \"choose\" or \"favorite\" or \"went\" or \"flavors\" or \"food\" or are in the sentence\"), Explanation(LF_3328: 5, \"the word \"combo\" or \"menu\" or \"find\" or \"know\" or \"unique\" or are in the sentence\"), Explanation(LF_3342: 1, \"the word \"waiting\" or \"Doctor\" or \" \" or \"said\" or \"room\" or are in the sentence\"), Explanation(LF_3348: 4, \"the word \"idea\" or \"joint\" or \"test\" or \"try\" or \"spicy\" or are in the sentence\"), Explanation(LF_3351: 5, \"the word \"job\" or \"Plumbing\" or \"job\" or \"value\" or \"deliver\" or are in the sentence\"), Explanation(LF_3352: 5, \"the word \"hosting\" or \"celebrate\" or \"different\" or \"good\" or \"hope\" or are in the sentence\"), Explanation(LF_3354: 5, \"the word \"chipped\" or \"Henry\" or \"hi\" or \"hands\" or \"weeks\" or are in the sentence\"), Explanation(LF_3358: 5, \"the word \"neighborhood\" or \"eat\" or \"bar\" or \"fact\" or \"town\" or are in the sentence\"), Explanation(LF_3359: 4, \"the word \"blueberry\" or \"got\" or \"Good\" or \"service\" or \"constantly\" or are in the sentence\"), Explanation(LF_3366: 5, \"the word \"time\" or \" \" or \"Pretty\" or \"bit\" or \"happy\" or are in the sentence\"), Explanation(LF_3368: 1, \"the word \"pizza\" or \"people\" or \"smh\" or \"hate\" or \"prepared\" or are in the sentence\"), Explanation(LF_3371: 5, \"the word \"Wee\" or \"fresh\" or \"Bakery\" or \"family\" or \"cake\" or are in the sentence\"), Explanation(LF_3372: 5, \"the word \"beat\" or \"glad\" or \"Hoover\" or \"service\" or \"Staff\" or are in the sentence\"), Explanation(LF_3378: 1, \"the word \"small\" or \"walked\" or \"Assistant\" or \"leasing\" or \"property\" or are in the sentence\"), Explanation(LF_3381: 5, \"the word \"AMAZING\" or \"know\" or \"Tim\" or \"sandwich\" or \"sandwich\" or are in the sentence\"), Explanation(LF_3388: 5, \"the word \" \" or \"love\" or \"price\" or \"good\" or \"rice\" or are in the sentence\"), Explanation(LF_3390: 2, \"the word \"Gel\" or \"asked\" or \"begin\" or \"thought\" or \"extra\" or are in the sentence\"), Explanation(LF_3395: 4, \"the word \"leaning\" or \"blown\" or \"actually\" or \"assumed\" or \"friend\" or are in the sentence\"), Explanation(LF_3406: 3, \"the word \"rice\" or \"chicken\" or \"lemon\" or \"bland\" or \"chunks\" or are in the sentence\"), Explanation(LF_3407: 5, \"the word \"great\" or \"nachos\" or \"steak\" or \"returning\" or \"husband\" or are in the sentence\"), Explanation(LF_3410: 1, \"the word \"c\" or \"stupid\" or \"conversations\" or \"shows\" or \"outside\" or are in the sentence\"), Explanation(LF_3416: 5, \"the word \"ate\" or \"regular\" or \"movie\" or \"great\" or \"great\" or are in the sentence\"), Explanation(LF_3422: 4, \"the word \"environement\" or \"jour\" or \"lumieres\" or \"assez\" or \"Lunch\" or are in the sentence\"), Explanation(LF_3426: 5, \"the word \"going\" or \"attention\" or \"way\" or \"nails\" or \"years\" or are in the sentence\"), Explanation(LF_3430: 4, \"the word \"tasty\" or \"big\" or \"mood\" or \"came\" or \"authentic\" or are in the sentence\"), Explanation(LF_3434: 5, \"the word \" \" or \"bar\" or \"picky\" or \" \" or \"Asian\" or are in the sentence\"), Explanation(LF_3440: 5, \"the word \"asked\" or \"job\" or \"Plumbsmart\" or \"right\" or \"recommend\" or are in the sentence\"), Explanation(LF_3444: 5, \"the word \"chili\" or \"m\" or \"nt\" or \"hotdogs\" or \"tried\" or are in the sentence\"), Explanation(LF_3448: 4, \"the word \"buffet\" or \"times\" or \" \" or \"Lines\" or \"hour\" or are in the sentence\"), Explanation(LF_3455: 4, \"the word \"know\" or \"happy\" or \"know\" or \"downtown\" or \"stylists\" or are in the sentence\"), Explanation(LF_3462: 4, \"the word \"like\" or \"friends\" or \"makes\" or \"décor\" or \"market\" or are in the sentence\"), Explanation(LF_3464: 3, \"the word \"left\" or \"prices\" or \"houses\" or \"strange\" or \"fit\" or are in the sentence\"), Explanation(LF_3472: 1, \"the word \"acknowledged\" or \"minutes\" or \"line\" or \"restaurant\" or \"walked\" or are in the sentence\"), Explanation(LF_3474: 5, \"the word \"reviews\" or \"read\" or \"great\" or \"mins\" or \"friendly\" or are in the sentence\"), Explanation(LF_3482: 1, \"the word \"cold\" or \"minutes\" or \"excessive\" or \"hundreds\" or \"stair\" or are in the sentence\"), Explanation(LF_3484: 2, \"the word \"happy\" or \"gotten\" or \"asked\" or \"sight\" or \"attitude\" or are in the sentence\"), Explanation(LF_3493: 5, \"the word \"rented\" or \"Amazing\" or \"promised\" or \"distance\" or \"dripping\" or are in the sentence\"), Explanation(LF_3499: 5, \"the word \"far\" or \"years\" or \"BEST\" or \"menu\" or \"mexican\" or are in the sentence\"), Explanation(LF_3507: 5, \"the word \"having\" or \"sure\" or \"time\" or \"looking\" or \"staff\" or are in the sentence\"), Explanation(LF_3509: 5, \"the word \"soup\" or \"Beef\" or \"Fresh\" or \"delicious\" or \"ordered\" or are in the sentence\"), Explanation(LF_3511: 5, \"the word \"inside\" or \"turkey\" or \"walk\" or \"long\" or \"looked\" or are in the sentence\"), Explanation(LF_3513: 5, \"the word \"excellent\" or \"use\" or \"job\" or \"support\" or \"chemical\" or are in the sentence\"), Explanation(LF_3518: 5, \"the word \"ta\" or \"best\" or \"try\" or \"Tried\" or \"got\" or are in the sentence\"), Explanation(LF_3520: 5, \"the word \"managed\" or \"allot\" or \"little\" or \"clean\" or \"good\" or are in the sentence\"), Explanation(LF_3528: 5, \"the word \"tonight\" or \"service\" or \"amazing\" or \"food\" or \"tried\" or are in the sentence\"), Explanation(LF_3531: 1, \"the word \"menu\" or \"online\" or \"match\" or \"prices\" or \"listed\" or are in the sentence\"), Explanation(LF_3535: 5, \"the word \"Elite\" or \"road\" or \"love\" or \"blue\" or \"new\" or are in the sentence\"), Explanation(LF_3538: 5, \"the word \"bad\" or \"plan\" or \"chiropractor\" or \"treated\" or \"staff\" or are in the sentence\"), Explanation(LF_3539: 5, \"the word \"super\" or \"come\" or \"atmosphere\" or \"flavours\" or \"place\" or are in the sentence\"), Explanation(LF_3540: 1, \"the word \"Arizona\" or \"blew\" or \"describing\" or \"Absolutely\" or \"fountain\" or are in the sentence\"), Explanation(LF_3541: 1, \"the word \"friend\" or \"loud\" or \"old\" or \"way\" or \"loud\" or are in the sentence\"), Explanation(LF_3544: 5, \"the word \"salad\" or \"Alfredo\" or \"Unlimited\" or \"sent\" or \"compliments\" or are in the sentence\"), Explanation(LF_3549: 3, \"the word \"come\" or \"friendly\" or \"Let\" or \"wait\" or \" \" or are in the sentence\"), Explanation(LF_3558: 5, \"the word \"food\" or \"old\" or \"look\" or \"experience\" or \"events\" or are in the sentence\"), Explanation(LF_3560: 1, \"the word \"cuz\" or \"trying\" or \"bad\" or \"food\" or \"enjoy\" or are in the sentence\"), Explanation(LF_3561: 4, \"the word \"swamped\" or \"consistently\" or \"extra\" or \"Bowl\" or \"Super\" or are in the sentence\"), Explanation(LF_3562: 2, \"the word \"line\" or \"course\" or \"tell\" or \"line\" or \"inevitably\" or are in the sentence\"), Explanation(LF_3572: 5, \"the word \"come\" or \"priced\" or \"A++++\" or \"tuxs\" or \"Wear\" or are in the sentence\"), Explanation(LF_3588: 3, \"the word \"Billing\" or \"admin\" or \"vials-\" or \"ridiculously\" or \"staff\" or are in the sentence\"), Explanation(LF_3597: 1, \"the word \"Stay\" or \"schedule\" or \"okay\" or \"signed\" or \"Went\" or are in the sentence\"), Explanation(LF_3601: 4, \"the word \"restaurants\" or \"burnt\" or \" \" or \"caramelized\" or \"sorry\" or are in the sentence\"), Explanation(LF_3602: 5, \"the word \"Yelp\" or \"auto\" or \"Terry\" or \"prices\" or \"fact\" or are in the sentence\"), Explanation(LF_3607: 5, \"the word \"piece\" or \"like\" or \"Electrik\" or \"Thank\" or \"entire\" or are in the sentence\"), Explanation(LF_3612: 4, \"the word \"Italian\" or \"biased\" or \"caesar\" or \"find\" or \"service\" or are in the sentence\"), Explanation(LF_3616: 4, \"the word \"tell\" or \"right\" or \"Queen\" or \"coriander\" or \"neighbourhood\" or are in the sentence\"), Explanation(LF_3625: 5, \"the word \"children\" or \"decorations\" or \"tasteful\" or \"sons\" or \"active\" or are in the sentence\"), Explanation(LF_3629: 5, \"the word \"minutes\" or \"serve\" or \"meat\" or \"chain\" or \"huge\" or are in the sentence\"), Explanation(LF_3637: 1, \"the word \"small\" or \"mins\" or \"need\" or \"delay\" or \"cheap\" or are in the sentence\"), Explanation(LF_3642: 5, \"the word \"sure\" or \"mistakes\" or \"great\" or \"needing\" or \"coats\" or are in the sentence\"), Explanation(LF_3644: 5, \"the word \"experience\" or \"courteous\" or \"accompanied\" or \"Portofino\" or \"visited\" or are in the sentence\"), Explanation(LF_3656: 4, \"the word \"dated\" or \"parking\" or \"smaller\" or \"place\" or \"access\" or are in the sentence\"), Explanation(LF_3661: 1, \"the word \"lukewarm\" or \"ordered\" or \"cold\" or \"Chai\" or \"lattes\" or are in the sentence\"), Explanation(LF_3664: 5, \"the word \"Loopy\" or \"bad\" or \"Caramel\" or \"pretty\" or \"know\" or are in the sentence\"), Explanation(LF_3666: 4, \"the word \"sweet\" or \"love\" or \"makes\" or \"love\" or \"hmm\" or are in the sentence\"), Explanation(LF_3676: 1, \"the word \"vendors\" or \"experienced\" or \"Laura\" or \"like\" or \"servants\" or are in the sentence\"), Explanation(LF_3682: 4, \"the word \"tried\" or \"carne\" or \"want\" or \"menu\" or \"ones\" or are in the sentence\"), Explanation(LF_3690: 5, \"the word \"high\" or \"deserves\" or \"ordered\" or \"stars\" or \"breakfast\" or are in the sentence\"), Explanation(LF_3693: 5, \"the word \"loved\" or \"live\" or \"felt\" or \"way\" or \"hugged\" or are in the sentence\"), Explanation(LF_3699: 4, \"the word \"accompaniments\" or \"packed\" or \"meat\" or \"doc\" or \" \" or are in the sentence\"), Explanation(LF_3703: 5, \"the word \"owner\" or \"&\" or \"wait\" or \"table\" or \"customer\" or are in the sentence\"), Explanation(LF_3704: 5, \"the word \"dishes\" or \"Whan\" or \"recommend\" or \"ocean\" or \"d\" or are in the sentence\"), Explanation(LF_3705: 5, \"the word \"fast\" or \"set\" or \"cleaning\" or \"job\" or \"appointment\" or are in the sentence\"), Explanation(LF_3706: 5, \"the word \"day\" or \"gym\" or \"FH\" or \"purchased\" or \"hills\" or are in the sentence\"), Explanation(LF_3714: 1, \"the word \"warranty\" or \"money\" or \"hand\" or \"working\" or \"noticed\" or are in the sentence\"), Explanation(LF_3722: 4, \"the word \"arrive\" or \"Takes\" or \"devoured\" or \"soup\" or \"lunch\" or are in the sentence\"), Explanation(LF_3726: 5, \"the word \"Yummy\" or \"cocktail\" or \"got\" or \"pictures\" or \"Soon\" or are in the sentence\"), Explanation(LF_3728: 5, \"the word \"LaChapelle\" or \"inspired\" or \"inanimate\" or \"amused\" or \"laughed\" or are in the sentence\"), Explanation(LF_3731: 5, \"the word \"truly\" or \"Bene\" or \"wait\" or \"Crab\" or \"wait\" or are in the sentence\"), Explanation(LF_3732: 1, \"the word \"butter\" or \"stars\" or \"register\" or \"Saw\" or \"ok\" or are in the sentence\"), Explanation(LF_3746: 5, \"the word \"plates\" or \"chicken\" or \"came\" or \"Th\" or \"chef\" or are in the sentence\"), Explanation(LF_3750: 5, \"the word \"importantly\" or \"hair\" or \"salon\" or \"love\" or \"LAGHA\" or are in the sentence\"), Explanation(LF_3768: 1, \"the word \"try\" or \"wo\" or \"Late\" or \"10pm\" or \"pm\" or are in the sentence\"), Explanation(LF_3774: 3, \"the word \"worth\" or \"beautiful\" or \"deck\" or \" \" or \"old\" or are in the sentence\"), Explanation(LF_3776: 3, \"the word \"Doctor\" or \"disrespectful\" or \"time\" or \" \" or \"Schloterback\" or are in the sentence\"), Explanation(LF_3782: 5, \"the word \"croissant\" or \"review\" or \"best\" or \"almond\" or \"write\" or are in the sentence\"), Explanation(LF_3795: 5, \"the word \"buying\" or \" \" or \"fruits\" or \"items\" or \"store\" or are in the sentence\"), Explanation(LF_3800: 5, \"the word \"Oh\" or \"staying\" or \"chipotle\" or \"kick\" or \"food\" or are in the sentence\"), Explanation(LF_3802: 3, \"the word \"menu\" or \"dining\" or \"table\" or \"pour\" or \"asked\" or are in the sentence\"), Explanation(LF_3804: 5, \"the word \"day\" or \"50cal\" or \"lot\" or \"worried\" or \"booked\" or are in the sentence\"), Explanation(LF_3809: 5, \"the word \"Layer\" or \"day\" or \"family\" or \"reading\" or \"Outer\" or are in the sentence\"), Explanation(LF_3811: 3, \"the word \"vegetarian\" or \"run\" or \"OpenTable\" or \"ASTRONOMICAL\" or \"good\" or are in the sentence\"), Explanation(LF_3812: 3, \"the word \"time\" or \"hot\" or \"good\" or \"hotel\" or \"told\" or are in the sentence\"), Explanation(LF_3815: 1, \"the word \"awful\" or \"twins\" or \"tell\" or \"stylist\" or \"continued\" or are in the sentence\"), Explanation(LF_3817: 2, \"the word \"service\" or \"tonight\" or \"young\" or \"chief\" or \"dined\" or are in the sentence\"), Explanation(LF_3819: 2, \"the word \"cookies\" or \"section\" or \"fajita\" or \"animal\" or \"flour\" or are in the sentence\"), Explanation(LF_3821: 5, \"the word \"burger\" or \"try\" or \"potato\" or \"right\" or \"pork\" or are in the sentence\"), Explanation(LF_3827: 4, \"the word \"try\" or \"got\" or \"chicken\" or \"options\" or \"food\" or are in the sentence\"), Explanation(LF_3829: 5, \"the word \"Athletes\" or \"motorcycle\" or \"son\" or \" \" or \"helped\" or are in the sentence\"), Explanation(LF_3837: 1, \"the word \"email\" or \"damage\" or \"joke\" or \"literally\" or \"customer\" or are in the sentence\"), Explanation(LF_3838: 5, \"the word \"plan\" or \"months\" or \"says\" or \"likes\" or \"daughter\" or are in the sentence\"), Explanation(LF_3840: 1, \"the word \"clean\" or \"forever\" or \"early\" or \"basically\" or \"understand\" or are in the sentence\"), Explanation(LF_3845: 1, \"the word \"Surely\" or \"large\" or \"money\" or \"bar\" or \"STEAKS\" or are in the sentence\"), Explanation(LF_3857: 3, \"the word \"area\" or \"road\" or \"Expect\" or \"near\" or \"line\" or are in the sentence\"), Explanation(LF_3861: 2, \"the word \"tasted\" or \"ordered\" or \"eat\" or \"fried\" or \"far\" or are in the sentence\"), Explanation(LF_3863: 5, \"the word \"order\" or \"food\" or \"best\" or \"fresh\" or \"visit\" or are in the sentence\"), Explanation(LF_3865: 5, \"the word \"ordered\" or \"want\" or \"cheesesteak\" or \"cheesey\" or \"good\" or are in the sentence\"), Explanation(LF_3868: 4, \"the word \"love\" or \"equipment\" or \"come\" or \"keeps\" or \"kids\" or are in the sentence\"), Explanation(LF_3869: 3, \"the word \"pupusa\" or \"ask\" or \"cream\" or \"beans\" or \"enjoy\" or are in the sentence\"), Explanation(LF_3871: 1, \"the word \"loud\" or \"great\" or \"place\" or \"beer\" or \"uninspired\" or are in the sentence\"), Explanation(LF_3893: 4, \"the word \"green\" or \"Dong\" or \" \" or \"eastern\" or \"dumpling\" or are in the sentence\"), Explanation(LF_3894: 5, \"the word \"air\" or \"Mid\" or \"Saturday\" or \"called\" or \"treated\" or are in the sentence\"), Explanation(LF_3903: 5, \"the word \" \" or \"experience\" or \"different\" or \"Brings\" or \"beautiful\" or are in the sentence\"), Explanation(LF_3909: 4, \"the word \"affordable\" or \"slightly\" or \"chain\" or \"like\" or \" \" or are in the sentence\"), Explanation(LF_3913: 2, \"the word \"despite\" or \"argentine\" or \"Overall\" or \"right\" or \"great\" or are in the sentence\"), Explanation(LF_3914: 3, \"the word \"maybe\" or \" \" or \"bad\" or \"Totally\" or \"good\" or are in the sentence\"), Explanation(LF_3917: 5, \"the word \"Rudy\" or \"homemade\" or \"place\" or \"pasta\" or \"food\" or are in the sentence\"), Explanation(LF_3921: 5, \"the word \"started\" or \"pleasure\" or \"expert\" or \"walk\" or \"hope\" or are in the sentence\"), Explanation(LF_3928: 5, \"the word \"items\" or \"applewood\" or \"ordered\" or \"food\" or \"unavailable\" or are in the sentence\"), Explanation(LF_3934: 1, \"the word \"happy\" or \"cleaned\" or \"truck\" or \"wash\" or \"took\" or are in the sentence\"), Explanation(LF_3939: 5, \"the word \"notch\" or \"fantastic\" or \"entrees\" or \"went\" or \"attend\" or are in the sentence\"), Explanation(LF_3943: 3, \"the word \" \" or \"good\" or \"Good\" or \" \" or \" \" or are in the sentence\"), Explanation(LF_3944: 1, \"the word \"highlight\" or \"sent\" or \"half\" or \"noodles\" or \"fried\" or are in the sentence\"), Explanation(LF_3945: 1, \"the word \"run\" or \"Chicken\" or \"socks\" or \"know\" or \"legs\" or are in the sentence\"), Explanation(LF_3946: 4, \"the word \"nice\" or \"enjoying\" or \"cold\" or \"buddies\" or \"ave\" or are in the sentence\"), Explanation(LF_3948: 5, \"the word \" \" or \"problem\" or \"feel\" or \" \" or \"people\" or are in the sentence\"), Explanation(LF_3950: 4, \"the word \"large\" or \"chicken\" or \"dresses\" or \"tasty\" or \" \" or are in the sentence\"), Explanation(LF_3952: 5, \"the word \"continue\" or \"daughter\" or \"best\" or \"food\" or \"restaurant\" or are in the sentence\"), Explanation(LF_3954: 2, \"the word \"mistakes\" or \"issues\" or \"good\" or \"food\" or \"listed\" or are in the sentence\"), Explanation(LF_3958: 2, \"the word \"reservations\" or \"mini\" or \"going\" or \"bay\" or \"mediocre\" or are in the sentence\"), Explanation(LF_3959: 4, \"the word \"wish\" or \"like\" or \"Soft\" or \"mall\" or \"good\" or are in the sentence\"), Explanation(LF_3960: 1, \"the word \"prepare\" or \"employees\" or \"degrees\" or \"able\" or \"basketball\" or are in the sentence\"), Explanation(LF_3962: 1, \"the word \"company\" or \"try\" or \"time\" or \"anytime\" or \"said\" or are in the sentence\"), Explanation(LF_3965: 5, \"the word \"excellent\" or \"Cafe\" or \" \" or \" \" or \" \" or are in the sentence\"), Explanation(LF_3967: 3, \"the word \"Great\" or \"weekends\" or \"advised\" or \" \" or \"place\" or are in the sentence\"), Explanation(LF_3970: 5, \"the word \"reason\" or \"yelp\" or \"expectations\" or \"asst\" or \"customer\" or are in the sentence\"), Explanation(LF_3973: 5, \"the word \" \" or \"gent\" or \"stonkingly\" or \"fresh\" or \"ensure\" or are in the sentence\"), Explanation(LF_3976: 4, \"the word \"spice\" or \"vegan\" or \"easy\" or \"need\" or \"sauga\" or are in the sentence\"), Explanation(LF_3978: 5, \"the word \"appetizer\" or \" \" or \"rabbit\" or \" \" or \"Dante\" or are in the sentence\"), Explanation(LF_3983: 5, \"the word \"sit\" or \"flavor\" or \" \" or \"friendly\" or \"dog\" or are in the sentence\"), Explanation(LF_3992: 3, \"the word \"appealing\" or \"south\" or \"customer\" or \"visit\" or \"m\" or are in the sentence\"), Explanation(LF_4009: 4, \"the word \"etc\" or \"experience\" or \"San\" or \"TV\" or \"awesome\" or are in the sentence\"), Explanation(LF_4020: 1, \"the word \"claimed\" or \"book\" or \"booked\" or \"appointment\" or \"shown\" or are in the sentence\"), Explanation(LF_4025: 2, \"the word \"cheese\" or \"wasabi\" or \"blue\" or \"fries\" or \"Gordon\" or are in the sentence\"), Explanation(LF_4027: 1, \"the word \"hungry\" or \"sick\" or \"pay\" or \" \" or \"Persian\" or are in the sentence\"), Explanation(LF_4028: 1, \"the word \"sent\" or \"clueless\" or \"unclean\" or \"away\" or \"Avoid\" or are in the sentence\"), Explanation(LF_4029: 5, \"the word \"Jaguar\" or \"happy\" or \"type\" or \"family\" or \"Lee\" or are in the sentence\"), Explanation(LF_4034: 4, \"the word \"order\" or \"eat\" or \"felt\" or \"hard\" or \"came\" or are in the sentence\"), Explanation(LF_4038: 3, \"the word \"recommend\" or \"fresh\" or \"pretty\" or \"nice\" or \"visited\" or are in the sentence\"), Explanation(LF_4039: 5, \"the word \"clean\" or \"new\" or \"cleaning\" or \"modern\" or \"rarely\" or are in the sentence\"), Explanation(LF_4042: 1, \"the word \"Unfortunately\" or \"work\" or \"star\" or \"quality\" or \"called\" or are in the sentence\"), Explanation(LF_4053: 3, \"the word \"portion\" or \"Bluenose\" or \"Completely\" or \"rolls\" or \"wish\" or are in the sentence\"), Explanation(LF_4055: 5, \"the word \"sampler\" or \"pulled\" or \"great\" or \"Garden\" or \"good\" or are in the sentence\"), Explanation(LF_4056: 5, \"the word \"Words\" or \"super\" or \"care\" or \"Tom\" or \" \" or are in the sentence\"), Explanation(LF_4059: 5, \"the word \" \" or \"Cucumelon\" or \"Fries\" or \"amazing\" or \"fun\" or are in the sentence\"), Explanation(LF_4074: 5, \"the word \"return\" or \"helpful\" or \"wonderful\" or \"&\" or \"busy\" or are in the sentence\"), Explanation(LF_4076: 4, \"the word \"staff\" or \"lot\" or \"location\" or \"day\" or \"helpful\" or are in the sentence\"), Explanation(LF_4077: 5, \"the word \" \" or \"Dead\" or \"establishments\" or \"place\" or \"amazing\" or are in the sentence\"), Explanation(LF_4088: 4, \"the word \"try\" or \"thoughtful\" or \"job\" or \"town\" or \"environment\" or are in the sentence\"), Explanation(LF_4102: 4, \"the word \"come\" or \"beer\" or \"airport\" or \"import\" or \"tasty\" or are in the sentence\"), Explanation(LF_4122: 3, \"the word \"fruit\" or \"pretty\" or \"think\" or \"ordered\" or \"definitely\" or are in the sentence\"), Explanation(LF_4127: 3, \"the word \"massage\" or \"dollar\" or \"results\" or \"neck\" or \"location\" or are in the sentence\"), Explanation(LF_4128: 1, \"the word \"Gen\" or \"barely\" or \"bland\" or \"shocked\" or \"lo\" or are in the sentence\"), Explanation(LF_4130: 5, \"the word \"pleasure\" or \" \" or \"compliments\" or \"exceptional\" or \"perfect-\" or are in the sentence\"), Explanation(LF_4151: 5, \"the word \"impressed\" or \"Scott\" or \"job\" or \"going\" or \"wanted\" or are in the sentence\"), Explanation(LF_4154: 5, \"the word \"service\" or \"atmosphere\" or \"family\" or \"selection\" or \"decent\" or are in the sentence\"), Explanation(LF_4165: 5, \"the word \"Harouni\" or \"office\" or \"Las\" or \"referred\" or \"Doctor\" or are in the sentence\"), Explanation(LF_4172: 5, \"the word \"Owner\" or \"fantastic\" or \"gear\" or \"works\" or \"Great\" or are in the sentence\"), Explanation(LF_4174: 2, \"the word \"meat\" or \"sauce\" or \"chunks\" or \"indicated\" or \"Tacos\" or are in the sentence\"), Explanation(LF_4177: 5, \"the word \"review\" or \"craving\" or \"Tried\" or \"star\" or \"great\" or are in the sentence\"), Explanation(LF_4178: 5, \"the word \"selection\" or \"incredible\" or \"fresh\" or \"Wide\" or \"week\" or are in the sentence\"), Explanation(LF_4196: 4, \"the word \"search\" or \"blended\" or \"orange\" or \"shaved\" or \"cooled\" or are in the sentence\"), Explanation(LF_4199: 3, \"the word \"view\" or \"lunch\" or \"quickly\" or \"fast\" or \"busy\" or are in the sentence\"), Explanation(LF_4206: 5, \"the word \"tell\" or \"September\" or \"company\" or \"appointment\" or \"reschedule\" or are in the sentence\"), Explanation(LF_4207: 2, \"the word \"attitude\" or \"terrible\" or \"mother\" or \"poor\" or \"%\" or are in the sentence\"), Explanation(LF_4211: 4, \"the word \"late\" or \"cheese\" or \"cold\" or \"wraps\" or \"delicious\" or are in the sentence\"), Explanation(LF_4216: 1, \"the word \"Tried\" or \"coffee\" or \"Denny\" or \"Ridiculous\" or \"hot\" or are in the sentence\"), Explanation(LF_4226: 5, \"the word \"time\" or \"recommend\" or \"room\" or \"place\" or \"People\" or are in the sentence\"), Explanation(LF_4250: 1, \"the word \"phone\" or \"employees\" or \"plain\" or \"love\" or \"jacks\" or are in the sentence\"), Explanation(LF_4260: 5, \"the word \"spot\" or \"amazing\" or \"pizza\" or \"great\" or \"meatball\" or are in the sentence\"), Explanation(LF_4261: 1, \"the word \"called\" or \"time\" or \"ended\" or \"multiple\" or \"times\" or are in the sentence\"), Explanation(LF_4262: 1, \"the word \" \" or \"plumber\" or \"contracted\" or \"Flooring\" or \"tile\" or are in the sentence\"), Explanation(LF_4265: 5, \"the word \"massage\" or \"massage\" or \"treatment\" or \"service\" or \"near\" or are in the sentence\"), Explanation(LF_4269: 3, \"the word \"available\" or \"time\" or \"attempts\" or \"table\" or \"disappointed\" or are in the sentence\"), Explanation(LF_4282: 4, \"the word \"service\" or \"Great\" or \"shawarma\" or \"reasonable\" or \"taste\" or are in the sentence\"), Explanation(LF_4286: 4, \"the word \"think\" or \"expectations\" or \" \" or \"like\" or \"place\" or are in the sentence\"), Explanation(LF_4287: 4, \"the word \"area\" or \"Food\" or \"Unique\" or \"amazing\" or \"place\" or are in the sentence\"), Explanation(LF_4288: 3, \"the word \"breakfast\" or \"good\" or \"layout\" or \"cute\" or \"sit\" or are in the sentence\"), Explanation(LF_4290: 5, \"the word \"dollars\" or \"probably\" or \"fall\" or \"going\" or \"presume\" or are in the sentence\"), Explanation(LF_4298: 5, \"the word \"beautiful\" or \"flowers\" or \"pick\" or \"great\" or \"clean\" or are in the sentence\"), Explanation(LF_4301: 5, \"the word \"quick\" or \"accurate\" or \"staff\" or \"past\" or \"lunch\" or are in the sentence\"), Explanation(LF_4302: 2, \"the word \" \" or \"stand\" or \"eat\" or \"drinks\" or \" \" or are in the sentence\"), Explanation(LF_4306: 5, \"the word \"ordered\" or \"service\" or \"flavor\" or \"order\" or \"Banh\" or are in the sentence\"), Explanation(LF_4316: 5, \"the word \"sandwich\" or \"treadmill\" or \"Vito\" or \"interested\" or \"super\" or are in the sentence\"), Explanation(LF_4330: 1, \"the word \"Disappointing\" or \"great\" or \"price\" or \"service\" or \"sure\" or are in the sentence\"), Explanation(LF_4342: 4, \"the word \"scenery\" or \"pleased\" or \"filled\" or \"trash\" or \"Frick\" or are in the sentence\"), Explanation(LF_4343: 4, \"the word \"larger\" or \"nice\" or \"bit\" or \"necessary\" or \"stores\" or are in the sentence\"), Explanation(LF_4346: 1, \"the word \"stains\" or \"piece\" or \"got\" or \"parts\" or \"funny\" or are in the sentence\"), Explanation(LF_4347: 5, \"the word \"year\" or \"usually\" or \"awesome\" or \"job\" or \"going\" or are in the sentence\"), Explanation(LF_4348: 5, \"the word \"breakfast\" or \"constantly\" or \"Dutch\" or \"great\" or \"eaten\" or are in the sentence\"), Explanation(LF_4366: 5, \"the word \"time\" or \"like\" or \"therapist\" or \"come\" or \"wow\" or are in the sentence\"), Explanation(LF_4373: 5, \"the word \"nails\" or \"massage\" or \"knows\" or \"experience\" or \"professional\" or are in the sentence\"), Explanation(LF_4374: 3, \"the word \"literally\" or \"time\" or \"finally\" or \"Happy\" or \"dead\" or are in the sentence\"), Explanation(LF_4380: 5, \"the word \"Sundays\" or \"pita\" or \"furniture\" or \"ordered\" or \"Breakfast\" or are in the sentence\"), Explanation(LF_4383: 2, \"the word \" \" or \"solid\" or \"sandwiches\" or \"look\" or \"face\" or are in the sentence\"), Explanation(LF_4393: 2, \"the word \"ice\" or \"showed\" or \"neck\" or \"great\" or \"locals\" or are in the sentence\"), Explanation(LF_4394: 5, \"the word \" \" or \"visit\" or \"daughter\" or \"loved\" or \" \" or are in the sentence\"), Explanation(LF_4398: 5, \"the word \"park\" or \"enjoy\" or \"absolutely\" or \"neighborhood\" or \"real\" or are in the sentence\"), Explanation(LF_4400: 4, \"the word \"creates\" or \"Astor\" or \"visit\" or \"like\" or \"picture\" or are in the sentence\"), Explanation(LF_4406: 1, \"the word \"wrote\" or \"order\" or \"wondering\" or \"allowed\" or \"morning\" or are in the sentence\"), Explanation(LF_4407: 5, \"the word \"roast\" or \"offers\" or \"cheerful\" or \"bring\" or \"place\" or are in the sentence\"), Explanation(LF_4409: 5, \"the word \"donuts\" or \"home\" or \" \" or \"fast\" or \"super\" or are in the sentence\"), Explanation(LF_4410: 4, \"the word \"savory\" or \"airy\" or \"discount\" or \"chunks\" or \"giant\" or are in the sentence\"), Explanation(LF_4417: 4, \"the word \"presuming\" or \"dine\" or \"past\" or \"eat\" or \"place\" or are in the sentence\"), Explanation(LF_4418: 4, \"the word \"vegetables\" or \"good\" or \"place\" or \"Sukiyaki\" or \"Japanese\" or are in the sentence\"), Explanation(LF_4419: 5, \"the word \"Ice\" or \"Rita\" or \"Kathy\" or \"Klapach\" or \"support\" or are in the sentence\"), Explanation(LF_4428: 5, \"the word \" \" or \"baked\" or \"love\" or \"potatoes\" or \"place\" or are in the sentence\"), Explanation(LF_4434: 5, \"the word \"menu\" or \"w\" or \"definition\" or \"wrong\" or \"need\" or are in the sentence\"), Explanation(LF_4437: 1, \"the word \"start\" or \"coffee\" or \"falling\" or \"utensils\" or \"plugged\" or are in the sentence\"), Explanation(LF_4443: 1, \"the word \"sit\" or \"felt\" or \"inability\" or \"server\" or \"disabilities\" or are in the sentence\"), Explanation(LF_4444: 1, \"the word \"finally\" or \"got\" or \"food\" or \"salsa\" or \"extra\" or are in the sentence\"), Explanation(LF_4446: 5, \"the word \"cute\" or \"messed\" or \"gon\" or \"fast\" or \"amazing\" or are in the sentence\"), Explanation(LF_4450: 5, \"the word \"tasty\" or \"came\" or \"sat\" or \"waiter\" or \"Friday\" or are in the sentence\"), Explanation(LF_4451: 5, \"the word \"needed\" or \"guys\" or \"clog\" or \"system\" or \"Super\" or are in the sentence\"), Explanation(LF_4463: 5, \"the word \"finest\" or \"restaurants\" or \"tops\" or \"flavorful\" or \"food\" or are in the sentence\"), Explanation(LF_4464: 3, \"the word \"plate\" or \"start?\" or \"cold\" or \"order\" or \"establishment\" or are in the sentence\"), Explanation(LF_4466: 5, \"the word \"je\" or \"vous\" or \"fortement\" or \"de\" or \"J'y\" or are in the sentence\"), Explanation(LF_4468: 4, \"the word \"tried\" or \"star\" or \"mushroom\" or \"delicious\" or \"order\" or are in the sentence\"), Explanation(LF_4469: 2, \"the word \"thing\" or \"impressed\" or \"snobby\" or \"good\" or \"twice\" or are in the sentence\"), Explanation(LF_4471: 1, \"the word \"rice\" or \" \" or \"tender\" or \"refill\" or \"high\" or are in the sentence\"), Explanation(LF_4472: 1, \"the word \"pizza\" or \"picture\" or \"added\" or \"night\" or \"excuse\" or are in the sentence\"), Explanation(LF_4481: 5, \"the word \"cupcake\" or \"perfection\" or \"project\" or \"owner\" or \"Best\" or are in the sentence\"), Explanation(LF_4485: 5, \"the word \"Gosh\" or \"sooner\" or \"Mac\" or \"loved\" or \"cooked\" or are in the sentence\"), Explanation(LF_4492: 5, \"the word \"service\" or \"delightful\" or \"pain\" or \"mild\" or \"wax\" or are in the sentence\"), Explanation(LF_4506: 2, \"the word \"tenders\" or \"meat\" or \"n\" or \"like\" or \"cheese\" or are in the sentence\"), Explanation(LF_4508: 5, \"the word \"love\" or \"tacos\" or \"service\" or \"fish\" or \"place\" or are in the sentence\"), Explanation(LF_4511: 4, \"the word \"excited\" or \"stain\" or \"awesome\" or \"color\" or \"bad\" or are in the sentence\"), Explanation(LF_4518: 5, \"the word \"guy\" or \"burger\" or \"definitely\" or \"vegas\" or \"chef\" or are in the sentence\"), Explanation(LF_4521: 3, \"the word \" \" or \"brunch\" or \"time\" or \"sit\" or \"Left\" or are in the sentence\"), Explanation(LF_4524: 1, \"the word \"owner\" or \"came\" or \"tell\" or \"wanted\" or \"yelp\" or are in the sentence\"), Explanation(LF_4531: 5, \"the word \"rolled\" or \"future\" or \"rolled\" or \"u\" or \"creative\" or are in the sentence\"), Explanation(LF_4532: 5, \"the word \"Drinks\" or \"amazing\" or \"delicious\" or \"appetizers\" or \"robata\" or are in the sentence\"), Explanation(LF_4534: 2, \"the word \"disappointing\" or \"girl\" or \"eat\" or \"worth\" or \"time\" or are in the sentence\"), Explanation(LF_4539: 5, \"the word \"THANK\" or \"day\" or \"visiting\" or \"having\" or \"relief\" or are in the sentence\"), Explanation(LF_4545: 5, \"the word \"eat\" or \"Chicken\" or \"belly\" or \"going\" or \"ordered\" or are in the sentence\"), Explanation(LF_4548: 4, \"the word \"good\" or \"pizzas\" or \"price\" or \"getta\" or \"slice\" or are in the sentence\"), Explanation(LF_4551: 5, \"the word \"place\" or \"perfect\" or \"week\" or \"unpretentiously\" or \"local\" or are in the sentence\"), Explanation(LF_4553: 4, \"the word \"magnificent\" or \"enticing\" or \"inside\" or \"worth\" or \"yes\" or are in the sentence\"), Explanation(LF_4561: 1, \"the word \"fine\" or \"good\" or \"dining\" or \"worth\" or \"strip\" or are in the sentence\"), Explanation(LF_4562: 4, \"the word \"waffle\" or \"chicken\" or \"dishes\" or \"hotel\" or \"brunch\" or are in the sentence\"), Explanation(LF_4566: 5, \"the word \"food\" or \"location\" or \"convenient\" or \"Greek\" or \"misto\" or are in the sentence\"), Explanation(LF_4569: 4, \"the word \"went\" or \"lol\" or \"friendly\" or \"fried\" or \"Saturday\" or are in the sentence\"), Explanation(LF_4578: 4, \"the word \"best\" or \"buffalo\" or \"Star\" or \"place\" or \"sauce\" or are in the sentence\"), Explanation(LF_4587: 4, \"the word \"definitely\" or \"guac\" or \"place\" or \"love\" or \"city\" or are in the sentence\"), Explanation(LF_4589: 5, \"the word \"need\" or \"found\" or \"time\" or \"JPG\" or \"needed\" or are in the sentence\"), Explanation(LF_4591: 2, \"the word \"nt\" or \"understand\" or \"buffet\" or \"Juns\" or \"cooked\" or are in the sentence\"), Explanation(LF_4594: 2, \"the word \"Scottsdale\" or \"slopped\" or \"dishes\" or \"look\" or \"Typical\" or are in the sentence\"), Explanation(LF_4604: 5, \"the word \"fashion\" or \"dog\" or \"way\" or \"goes\" or \"unique\" or are in the sentence\"), Explanation(LF_4612: 1, \"the word \"Collectivo\" or \"Lots\" or \"service\" or \"premium\" or \"Stopped\" or are in the sentence\"), Explanation(LF_4615: 5, \"the word \"service\" or \"care\" or \"change\" or \"genuinely\" or \"minutes\" or are in the sentence\"), Explanation(LF_4618: 4, \"the word \"heaters\" or \"spicy\" or \"tuna\" or \"got\" or \"got\" or are in the sentence\"), Explanation(LF_4626: 5, \"the word \"round\" or \"%\" or \"year\" or \"location\" or \"discount\" or are in the sentence\"), Explanation(LF_4630: 1, \"the word \"restaurant\" or \"buffet\" or \"roaches\" or \"find\" or \"lurching\" or are in the sentence\"), Explanation(LF_4641: 2, \"the word \" \" or \"money\" or \" \" or \"update\" or \" \" or are in the sentence\"), Explanation(LF_4644: 3, \"the word \"place\" or \"Las\" or \"spot\" or \"great\" or \"tastes\" or are in the sentence\"), Explanation(LF_4648: 5, \"the word \"co\" or \" \" or \"outdoor\" or \" \" or \"ordering\" or are in the sentence\"), Explanation(LF_4656: 5, \"the word \"glad\" or \"Mix\" or \"Ready\" or \"complete\" or \"recommended\" or are in the sentence\"), Explanation(LF_4659: 5, \"the word \"sit\" or \"got\" or \"right\" or \"table\" or \"guess\" or are in the sentence\"), Explanation(LF_4665: 1, \"the word \"great\" or \"Aria\" or \"Yuck\" or \"glad\" or \"Expensive\" or are in the sentence\"), Explanation(LF_4672: 3, \"the word \"times\" or \"bar\" or \"hard\" or \"menu\" or \"order\" or are in the sentence\"), Explanation(LF_4675: 5, \"the word \"place\" or \"potatoes\" or \"sakes\" or \"dining\" or \"tried\" or are in the sentence\"), Explanation(LF_4680: 5, \"the word \"jungle\" or \"love\" or \"stop\" or \"hummus\" or \"world\" or are in the sentence\"), Explanation(LF_4682: 5, \"the word \"mixed\" or \"time\" or \"start\" or \"spicy\" or \"roti\" or are in the sentence\"), Explanation(LF_4686: 5, \"the word \"food\" or \"pretty\" or \"day\" or \"coming\" or \"energy\" or are in the sentence\"), Explanation(LF_4687: 4, \"the word \"good\" or \"fajita\" or \"salad\" or \"Watch\" or \"bagel\" or are in the sentence\"), Explanation(LF_4690: 5, \"the word \"type\" or \"option\" or \"cream\" or \"food\" or \"Overall\" or are in the sentence\"), Explanation(LF_4693: 5, \"the word \"costume\" or \"cravings\" or \"help\" or \"imagine\" or \"body\" or are in the sentence\"), Explanation(LF_4701: 5, \"the word \"friendly\" or \"family\" or \"recommend\" or \"needles\" or \"continue\" or are in the sentence\"), Explanation(LF_4704: 5, \"the word \"wait\" or \"bacon\" or \"turkey\" or \"sweetness\" or \"spot\" or are in the sentence\"), Explanation(LF_4717: 5, \"the word \"easy\" or \"easy\" or \"home\" or \"fun\" or \"Quick\" or are in the sentence\"), Explanation(LF_4720: 1, \"the word \" \" or \" \" or \"expected\" or \"thick\" or \"accurate\" or are in the sentence\"), Explanation(LF_4722: 5, \"the word \"got\" or \" \" or \"saying\" or \"pinball\" or \"playstations\" or are in the sentence\"), Explanation(LF_4724: 1, \"the word \"worth\" or \"felt\" or \"friend\" or \"suggest\" or \"sick\" or are in the sentence\"), Explanation(LF_4734: 5, \"the word \"waiter\" or \"pizza\" or \"pizza\" or \"love\" or \"comes\" or are in the sentence\"), Explanation(LF_4738: 4, \"the word \"small\" or \"o\" or \"choose\" or \"trunks\" or \"daily\" or are in the sentence\"), Explanation(LF_4739: 1, \"the word \"sure\" or \"going\" or \"friend\" or \"wedding\" or \"leave\" or are in the sentence\"), Explanation(LF_4740: 1, \"the word \"hand\" or \"usually\" or \"way\" or \"rude\" or \"number\" or are in the sentence\"), Explanation(LF_4741: 5, \"the word \"love\" or \"went\" or \"find\" or \"great\" or \"lot\" or are in the sentence\"), Explanation(LF_4743: 5, \"the word \"Pizza\" or \"Great\" or \"environment\" or \"great\" or \"try\" or are in the sentence\"), Explanation(LF_4747: 5, \"the word \"happy\" or \"delicious\" or \"Thai\" or \"puffs\" or \"curry\" or are in the sentence\"), Explanation(LF_4750: 3, \"the word \"prefer\" or \"nice\" or \"bread\" or \"ok\" or \"Bloody\" or are in the sentence\"), Explanation(LF_4751: 5, \"the word \"camp\" or \"stay\" or \"staff\" or \"bow\" or \"genuinely\" or are in the sentence\"), Explanation(LF_4753: 5, \"the word \"away\" or \"tartness\" or \"Lee\" or \"places\" or \"Gelato\" or are in the sentence\"), Explanation(LF_4763: 3, \"the word \"quality\" or \" \" or \"good\" or \"bad\" or \"service\" or are in the sentence\"), Explanation(LF_4768: 5, \"the word \"great\" or \"amazing\" or \"best\" or \"Omg\" or \"stop\" or are in the sentence\"), Explanation(LF_4770: 2, \"the word \"LEAVING\" or \"fries\" or \"doughy\" or \"wedge\" or \"sitting\" or are in the sentence\"), Explanation(LF_4771: 4, \"the word \"ones\" or \"tier\" or \"pricey\" or \"LV\" or \"exploring\" or are in the sentence\"), Explanation(LF_4777: 5, \"the word \"told\" or \"cooling\" or \"popping\" or \"fake\" or \"test\" or are in the sentence\"), Explanation(LF_4782: 4, \"the word \"main\" or \"friendly\" or \"Mediterranean\" or \"nice\" or \"plaza\" or are in the sentence\"), Explanation(LF_4785: 4, \"the word \"food\" or \"thai\" or \"looking\" or \"prices\" or \" \" or are in the sentence\"), Explanation(LF_4787: 3, \"the word \"subpar\" or \"arrogant\" or \"food\" or \"taste\" or \"funny\" or are in the sentence\"), Explanation(LF_4790: 4, \"the word \" \" or \"priced\" or \"place\" or \"place\" or \" \" or are in the sentence\"), Explanation(LF_4792: 3, \"the word \"whiskey\" or \"want\" or \"substitute\" or \"great\" or \"distilleries\" or are in the sentence\"), Explanation(LF_4793: 5, \"the word \"town\" or \"recommend\" or \"Speaks\" or \"needs\" or \"works\" or are in the sentence\"), Explanation(LF_4794: 4, \"the word \"hangs\" or \"reasonable\" or \"country\" or \"quality\" or \"places\" or are in the sentence\"), Explanation(LF_4796: 5, \"the word \"Lancôme\" or \"knowledgable\" or \"Valerie\" or \"foundation\" or \" \" or are in the sentence\")]\n"
     ]
    }
   ],
   "source": [
    "print(explanations)"
   ]
  },
  {
   "cell_type": "code",
   "execution_count": 50,
   "metadata": {},
   "outputs": [
    {
     "name": "stdout",
     "output_type": "stream",
     "text": [
      "Grammar construction complete.\n"
     ]
    }
   ],
   "source": [
    "from babble import Babbler\n",
    "babbler = Babbler(Cs, Ys)"
   ]
  },
  {
   "cell_type": "code",
   "execution_count": 51,
   "metadata": {},
   "outputs": [
    {
     "name": "stdout",
     "output_type": "stream",
     "text": [
      "Building list of target candidate ids...\n",
      "Collected 1 unique target candidate ids from 967 explanations.\n",
      "Gathering desired candidates...\n",
      "Could not find 1 target candidates with the following mention_ids (first 5):\n",
      "-2939145380604818476\n",
      "Found 0/1 desired candidates\n",
      "Linking explanations to candidates...\n",
      "Linked 0/967 explanations\n",
      "963 explanation(s) out of 967 were parseable.\n",
      "1387 parse(s) generated from 967 explanation(s).\n",
      "965 parse(s) remain (422 parse(s) removed by DuplicateSemanticsFilter).\n",
      "Note: 965 LFs did not have candidates and therefore could not be filtered.\n",
      "965 parse(s) remain (0 parse(s) removed by ConsistencyFilter).\n",
      "Applying labeling functions to investigate labeling signature.\n",
      "[========================================] 100%\n",
      "\n",
      "965 parse(s) remain (0 parse(s) removed by UniformSignatureFilter: (0 None, 0 All)).\n",
      "965 parse(s) remain (0 parse(s) removed by DuplicateSignatureFilter).\n",
      "963 parse(s) remain (2 parse(s) removed by LowestCoverageFilter).\n",
      "Added 963 parse(s) from 963 explanations to set. (Total # parses = 963)\n",
      "\n",
      "Applying labeling functions to split 1\n",
      "[========================================] 100%\n",
      "\n",
      "Added 140196 labels to split 1: L.nnz = 140196, L.shape = (599, 963).\n",
      "Applying labeling functions to split 2\n",
      "[========================================] 100%\n",
      "\n",
      "Added 142285 labels to split 2: L.nnz = 142285, L.shape = (600, 963).\n"
     ]
    }
   ],
   "source": [
    "babbler.apply(explanations, split=0)     "
   ]
  },
  {
   "cell_type": "code",
   "execution_count": 52,
   "metadata": {},
   "outputs": [
    {
     "name": "stdout",
     "output_type": "stream",
     "text": [
      "Retrieved label matrix for split 0: L.nnz = 1164233, L.shape = (4799, 963)\n",
      "Retrieved label matrix for split 1: L.nnz = 140196, L.shape = (599, 963)\n",
      "Retrieved label matrix for split 2: L.nnz = 142285, L.shape = (600, 963)\n"
     ]
    }
   ],
   "source": [
    "Ls = []\n",
    "for split in [0,1,2]:\n",
    "    L = babbler.get_label_matrix(split)\n",
    "    Ls.append(L)"
   ]
  },
  {
   "cell_type": "code",
   "execution_count": 53,
   "metadata": {},
   "outputs": [
    {
     "data": {
      "text/plain": [
       "<4799x963 sparse matrix of type '<class 'numpy.int64'>'\n",
       "\twith 1164233 stored elements in Compressed Sparse Row format>"
      ]
     },
     "execution_count": 53,
     "metadata": {},
     "output_type": "execute_result"
    }
   ],
   "source": [
    "Ls[0]"
   ]
  },
  {
   "cell_type": "code",
   "execution_count": 54,
   "metadata": {},
   "outputs": [
    {
     "name": "stdout",
     "output_type": "stream",
     "text": [
      "Computing O...\n",
      "Estimating \\mu...\n"
     ]
    },
    {
     "name": "stderr",
     "output_type": "stream",
     "text": [
      "/pytorch/aten/src/ATen/native/IndexingUtils.h:20: UserWarning: indexing with dtype torch.uint8 is now deprecated, please use a dtype torch.bool instead.\n",
      "/pytorch/aten/src/ATen/native/IndexingUtils.h:20: UserWarning: indexing with dtype torch.uint8 is now deprecated, please use a dtype torch.bool instead.\n"
     ]
    },
    {
     "name": "stdout",
     "output_type": "stream",
     "text": [
      "[E:0]\tTrain Loss: 29740.828\n"
     ]
    },
    {
     "name": "stderr",
     "output_type": "stream",
     "text": [
      "/pytorch/aten/src/ATen/native/IndexingUtils.h:20: UserWarning: indexing with dtype torch.uint8 is now deprecated, please use a dtype torch.bool instead.\n",
      "/pytorch/aten/src/ATen/native/IndexingUtils.h:20: UserWarning: indexing with dtype torch.uint8 is now deprecated, please use a dtype torch.bool instead.\n",
      "/pytorch/aten/src/ATen/native/IndexingUtils.h:20: UserWarning: indexing with dtype torch.uint8 is now deprecated, please use a dtype torch.bool instead.\n",
      "/pytorch/aten/src/ATen/native/IndexingUtils.h:20: UserWarning: indexing with dtype torch.uint8 is now deprecated, please use a dtype torch.bool instead.\n",
      "/pytorch/aten/src/ATen/native/IndexingUtils.h:20: UserWarning: indexing with dtype torch.uint8 is now deprecated, please use a dtype torch.bool instead.\n",
      "/pytorch/aten/src/ATen/native/IndexingUtils.h:20: UserWarning: indexing with dtype torch.uint8 is now deprecated, please use a dtype torch.bool instead.\n",
      "/pytorch/aten/src/ATen/native/IndexingUtils.h:20: UserWarning: indexing with dtype torch.uint8 is now deprecated, please use a dtype torch.bool instead.\n",
      "/pytorch/aten/src/ATen/native/IndexingUtils.h:20: UserWarning: indexing with dtype torch.uint8 is now deprecated, please use a dtype torch.bool instead.\n",
      "/pytorch/aten/src/ATen/native/IndexingUtils.h:20: UserWarning: indexing with dtype torch.uint8 is now deprecated, please use a dtype torch.bool instead.\n",
      "/pytorch/aten/src/ATen/native/IndexingUtils.h:20: UserWarning: indexing with dtype torch.uint8 is now deprecated, please use a dtype torch.bool instead.\n",
      "/pytorch/aten/src/ATen/native/IndexingUtils.h:20: UserWarning: indexing with dtype torch.uint8 is now deprecated, please use a dtype torch.bool instead.\n",
      "/pytorch/aten/src/ATen/native/IndexingUtils.h:20: UserWarning: indexing with dtype torch.uint8 is now deprecated, please use a dtype torch.bool instead.\n",
      "/pytorch/aten/src/ATen/native/IndexingUtils.h:20: UserWarning: indexing with dtype torch.uint8 is now deprecated, please use a dtype torch.bool instead.\n",
      "/pytorch/aten/src/ATen/native/IndexingUtils.h:20: UserWarning: indexing with dtype torch.uint8 is now deprecated, please use a dtype torch.bool instead.\n",
      "/pytorch/aten/src/ATen/native/IndexingUtils.h:20: UserWarning: indexing with dtype torch.uint8 is now deprecated, please use a dtype torch.bool instead.\n",
      "/pytorch/aten/src/ATen/native/IndexingUtils.h:20: UserWarning: indexing with dtype torch.uint8 is now deprecated, please use a dtype torch.bool instead.\n",
      "/pytorch/aten/src/ATen/native/IndexingUtils.h:20: UserWarning: indexing with dtype torch.uint8 is now deprecated, please use a dtype torch.bool instead.\n",
      "/pytorch/aten/src/ATen/native/IndexingUtils.h:20: UserWarning: indexing with dtype torch.uint8 is now deprecated, please use a dtype torch.bool instead.\n",
      "/pytorch/aten/src/ATen/native/IndexingUtils.h:20: UserWarning: indexing with dtype torch.uint8 is now deprecated, please use a dtype torch.bool instead.\n",
      "/pytorch/aten/src/ATen/native/IndexingUtils.h:20: UserWarning: indexing with dtype torch.uint8 is now deprecated, please use a dtype torch.bool instead.\n"
     ]
    },
    {
     "name": "stdout",
     "output_type": "stream",
     "text": [
      "[E:10]\tTrain Loss: 1038.262\n"
     ]
    },
    {
     "name": "stderr",
     "output_type": "stream",
     "text": [
      "/pytorch/aten/src/ATen/native/IndexingUtils.h:20: UserWarning: indexing with dtype torch.uint8 is now deprecated, please use a dtype torch.bool instead.\n",
      "/pytorch/aten/src/ATen/native/IndexingUtils.h:20: UserWarning: indexing with dtype torch.uint8 is now deprecated, please use a dtype torch.bool instead.\n",
      "/pytorch/aten/src/ATen/native/IndexingUtils.h:20: UserWarning: indexing with dtype torch.uint8 is now deprecated, please use a dtype torch.bool instead.\n",
      "/pytorch/aten/src/ATen/native/IndexingUtils.h:20: UserWarning: indexing with dtype torch.uint8 is now deprecated, please use a dtype torch.bool instead.\n",
      "/pytorch/aten/src/ATen/native/IndexingUtils.h:20: UserWarning: indexing with dtype torch.uint8 is now deprecated, please use a dtype torch.bool instead.\n",
      "/pytorch/aten/src/ATen/native/IndexingUtils.h:20: UserWarning: indexing with dtype torch.uint8 is now deprecated, please use a dtype torch.bool instead.\n",
      "/pytorch/aten/src/ATen/native/IndexingUtils.h:20: UserWarning: indexing with dtype torch.uint8 is now deprecated, please use a dtype torch.bool instead.\n",
      "/pytorch/aten/src/ATen/native/IndexingUtils.h:20: UserWarning: indexing with dtype torch.uint8 is now deprecated, please use a dtype torch.bool instead.\n",
      "/pytorch/aten/src/ATen/native/IndexingUtils.h:20: UserWarning: indexing with dtype torch.uint8 is now deprecated, please use a dtype torch.bool instead.\n",
      "/pytorch/aten/src/ATen/native/IndexingUtils.h:20: UserWarning: indexing with dtype torch.uint8 is now deprecated, please use a dtype torch.bool instead.\n",
      "/pytorch/aten/src/ATen/native/IndexingUtils.h:20: UserWarning: indexing with dtype torch.uint8 is now deprecated, please use a dtype torch.bool instead.\n",
      "/pytorch/aten/src/ATen/native/IndexingUtils.h:20: UserWarning: indexing with dtype torch.uint8 is now deprecated, please use a dtype torch.bool instead.\n",
      "/pytorch/aten/src/ATen/native/IndexingUtils.h:20: UserWarning: indexing with dtype torch.uint8 is now deprecated, please use a dtype torch.bool instead.\n",
      "/pytorch/aten/src/ATen/native/IndexingUtils.h:20: UserWarning: indexing with dtype torch.uint8 is now deprecated, please use a dtype torch.bool instead.\n",
      "/pytorch/aten/src/ATen/native/IndexingUtils.h:20: UserWarning: indexing with dtype torch.uint8 is now deprecated, please use a dtype torch.bool instead.\n",
      "/pytorch/aten/src/ATen/native/IndexingUtils.h:20: UserWarning: indexing with dtype torch.uint8 is now deprecated, please use a dtype torch.bool instead.\n",
      "/pytorch/aten/src/ATen/native/IndexingUtils.h:20: UserWarning: indexing with dtype torch.uint8 is now deprecated, please use a dtype torch.bool instead.\n",
      "/pytorch/aten/src/ATen/native/IndexingUtils.h:20: UserWarning: indexing with dtype torch.uint8 is now deprecated, please use a dtype torch.bool instead.\n",
      "/pytorch/aten/src/ATen/native/IndexingUtils.h:20: UserWarning: indexing with dtype torch.uint8 is now deprecated, please use a dtype torch.bool instead.\n",
      "/pytorch/aten/src/ATen/native/IndexingUtils.h:20: UserWarning: indexing with dtype torch.uint8 is now deprecated, please use a dtype torch.bool instead.\n"
     ]
    },
    {
     "name": "stdout",
     "output_type": "stream",
     "text": [
      "[E:20]\tTrain Loss: 2525.396\n"
     ]
    },
    {
     "name": "stderr",
     "output_type": "stream",
     "text": [
      "/pytorch/aten/src/ATen/native/IndexingUtils.h:20: UserWarning: indexing with dtype torch.uint8 is now deprecated, please use a dtype torch.bool instead.\n",
      "/pytorch/aten/src/ATen/native/IndexingUtils.h:20: UserWarning: indexing with dtype torch.uint8 is now deprecated, please use a dtype torch.bool instead.\n",
      "/pytorch/aten/src/ATen/native/IndexingUtils.h:20: UserWarning: indexing with dtype torch.uint8 is now deprecated, please use a dtype torch.bool instead.\n",
      "/pytorch/aten/src/ATen/native/IndexingUtils.h:20: UserWarning: indexing with dtype torch.uint8 is now deprecated, please use a dtype torch.bool instead.\n",
      "/pytorch/aten/src/ATen/native/IndexingUtils.h:20: UserWarning: indexing with dtype torch.uint8 is now deprecated, please use a dtype torch.bool instead.\n",
      "/pytorch/aten/src/ATen/native/IndexingUtils.h:20: UserWarning: indexing with dtype torch.uint8 is now deprecated, please use a dtype torch.bool instead.\n",
      "/pytorch/aten/src/ATen/native/IndexingUtils.h:20: UserWarning: indexing with dtype torch.uint8 is now deprecated, please use a dtype torch.bool instead.\n",
      "/pytorch/aten/src/ATen/native/IndexingUtils.h:20: UserWarning: indexing with dtype torch.uint8 is now deprecated, please use a dtype torch.bool instead.\n",
      "/pytorch/aten/src/ATen/native/IndexingUtils.h:20: UserWarning: indexing with dtype torch.uint8 is now deprecated, please use a dtype torch.bool instead.\n",
      "/pytorch/aten/src/ATen/native/IndexingUtils.h:20: UserWarning: indexing with dtype torch.uint8 is now deprecated, please use a dtype torch.bool instead.\n",
      "/pytorch/aten/src/ATen/native/IndexingUtils.h:20: UserWarning: indexing with dtype torch.uint8 is now deprecated, please use a dtype torch.bool instead.\n",
      "/pytorch/aten/src/ATen/native/IndexingUtils.h:20: UserWarning: indexing with dtype torch.uint8 is now deprecated, please use a dtype torch.bool instead.\n",
      "/pytorch/aten/src/ATen/native/IndexingUtils.h:20: UserWarning: indexing with dtype torch.uint8 is now deprecated, please use a dtype torch.bool instead.\n",
      "/pytorch/aten/src/ATen/native/IndexingUtils.h:20: UserWarning: indexing with dtype torch.uint8 is now deprecated, please use a dtype torch.bool instead.\n",
      "/pytorch/aten/src/ATen/native/IndexingUtils.h:20: UserWarning: indexing with dtype torch.uint8 is now deprecated, please use a dtype torch.bool instead.\n",
      "/pytorch/aten/src/ATen/native/IndexingUtils.h:20: UserWarning: indexing with dtype torch.uint8 is now deprecated, please use a dtype torch.bool instead.\n",
      "/pytorch/aten/src/ATen/native/IndexingUtils.h:20: UserWarning: indexing with dtype torch.uint8 is now deprecated, please use a dtype torch.bool instead.\n",
      "/pytorch/aten/src/ATen/native/IndexingUtils.h:20: UserWarning: indexing with dtype torch.uint8 is now deprecated, please use a dtype torch.bool instead.\n",
      "/pytorch/aten/src/ATen/native/IndexingUtils.h:20: UserWarning: indexing with dtype torch.uint8 is now deprecated, please use a dtype torch.bool instead.\n",
      "/pytorch/aten/src/ATen/native/IndexingUtils.h:20: UserWarning: indexing with dtype torch.uint8 is now deprecated, please use a dtype torch.bool instead.\n"
     ]
    },
    {
     "name": "stdout",
     "output_type": "stream",
     "text": [
      "[E:30]\tTrain Loss: 659.243\n"
     ]
    },
    {
     "name": "stderr",
     "output_type": "stream",
     "text": [
      "/pytorch/aten/src/ATen/native/IndexingUtils.h:20: UserWarning: indexing with dtype torch.uint8 is now deprecated, please use a dtype torch.bool instead.\n",
      "/pytorch/aten/src/ATen/native/IndexingUtils.h:20: UserWarning: indexing with dtype torch.uint8 is now deprecated, please use a dtype torch.bool instead.\n",
      "/pytorch/aten/src/ATen/native/IndexingUtils.h:20: UserWarning: indexing with dtype torch.uint8 is now deprecated, please use a dtype torch.bool instead.\n",
      "/pytorch/aten/src/ATen/native/IndexingUtils.h:20: UserWarning: indexing with dtype torch.uint8 is now deprecated, please use a dtype torch.bool instead.\n",
      "/pytorch/aten/src/ATen/native/IndexingUtils.h:20: UserWarning: indexing with dtype torch.uint8 is now deprecated, please use a dtype torch.bool instead.\n",
      "/pytorch/aten/src/ATen/native/IndexingUtils.h:20: UserWarning: indexing with dtype torch.uint8 is now deprecated, please use a dtype torch.bool instead.\n",
      "/pytorch/aten/src/ATen/native/IndexingUtils.h:20: UserWarning: indexing with dtype torch.uint8 is now deprecated, please use a dtype torch.bool instead.\n",
      "/pytorch/aten/src/ATen/native/IndexingUtils.h:20: UserWarning: indexing with dtype torch.uint8 is now deprecated, please use a dtype torch.bool instead.\n",
      "/pytorch/aten/src/ATen/native/IndexingUtils.h:20: UserWarning: indexing with dtype torch.uint8 is now deprecated, please use a dtype torch.bool instead.\n",
      "/pytorch/aten/src/ATen/native/IndexingUtils.h:20: UserWarning: indexing with dtype torch.uint8 is now deprecated, please use a dtype torch.bool instead.\n",
      "/pytorch/aten/src/ATen/native/IndexingUtils.h:20: UserWarning: indexing with dtype torch.uint8 is now deprecated, please use a dtype torch.bool instead.\n",
      "/pytorch/aten/src/ATen/native/IndexingUtils.h:20: UserWarning: indexing with dtype torch.uint8 is now deprecated, please use a dtype torch.bool instead.\n",
      "/pytorch/aten/src/ATen/native/IndexingUtils.h:20: UserWarning: indexing with dtype torch.uint8 is now deprecated, please use a dtype torch.bool instead.\n",
      "/pytorch/aten/src/ATen/native/IndexingUtils.h:20: UserWarning: indexing with dtype torch.uint8 is now deprecated, please use a dtype torch.bool instead.\n",
      "/pytorch/aten/src/ATen/native/IndexingUtils.h:20: UserWarning: indexing with dtype torch.uint8 is now deprecated, please use a dtype torch.bool instead.\n",
      "/pytorch/aten/src/ATen/native/IndexingUtils.h:20: UserWarning: indexing with dtype torch.uint8 is now deprecated, please use a dtype torch.bool instead.\n",
      "/pytorch/aten/src/ATen/native/IndexingUtils.h:20: UserWarning: indexing with dtype torch.uint8 is now deprecated, please use a dtype torch.bool instead.\n",
      "/pytorch/aten/src/ATen/native/IndexingUtils.h:20: UserWarning: indexing with dtype torch.uint8 is now deprecated, please use a dtype torch.bool instead.\n",
      "/pytorch/aten/src/ATen/native/IndexingUtils.h:20: UserWarning: indexing with dtype torch.uint8 is now deprecated, please use a dtype torch.bool instead.\n",
      "/pytorch/aten/src/ATen/native/IndexingUtils.h:20: UserWarning: indexing with dtype torch.uint8 is now deprecated, please use a dtype torch.bool instead.\n"
     ]
    },
    {
     "name": "stdout",
     "output_type": "stream",
     "text": [
      "[E:40]\tTrain Loss: 318.617\n"
     ]
    },
    {
     "name": "stderr",
     "output_type": "stream",
     "text": [
      "/pytorch/aten/src/ATen/native/IndexingUtils.h:20: UserWarning: indexing with dtype torch.uint8 is now deprecated, please use a dtype torch.bool instead.\n",
      "/pytorch/aten/src/ATen/native/IndexingUtils.h:20: UserWarning: indexing with dtype torch.uint8 is now deprecated, please use a dtype torch.bool instead.\n",
      "/pytorch/aten/src/ATen/native/IndexingUtils.h:20: UserWarning: indexing with dtype torch.uint8 is now deprecated, please use a dtype torch.bool instead.\n",
      "/pytorch/aten/src/ATen/native/IndexingUtils.h:20: UserWarning: indexing with dtype torch.uint8 is now deprecated, please use a dtype torch.bool instead.\n",
      "/pytorch/aten/src/ATen/native/IndexingUtils.h:20: UserWarning: indexing with dtype torch.uint8 is now deprecated, please use a dtype torch.bool instead.\n",
      "/pytorch/aten/src/ATen/native/IndexingUtils.h:20: UserWarning: indexing with dtype torch.uint8 is now deprecated, please use a dtype torch.bool instead.\n",
      "/pytorch/aten/src/ATen/native/IndexingUtils.h:20: UserWarning: indexing with dtype torch.uint8 is now deprecated, please use a dtype torch.bool instead.\n",
      "/pytorch/aten/src/ATen/native/IndexingUtils.h:20: UserWarning: indexing with dtype torch.uint8 is now deprecated, please use a dtype torch.bool instead.\n",
      "/pytorch/aten/src/ATen/native/IndexingUtils.h:20: UserWarning: indexing with dtype torch.uint8 is now deprecated, please use a dtype torch.bool instead.\n",
      "/pytorch/aten/src/ATen/native/IndexingUtils.h:20: UserWarning: indexing with dtype torch.uint8 is now deprecated, please use a dtype torch.bool instead.\n",
      "/pytorch/aten/src/ATen/native/IndexingUtils.h:20: UserWarning: indexing with dtype torch.uint8 is now deprecated, please use a dtype torch.bool instead.\n",
      "/pytorch/aten/src/ATen/native/IndexingUtils.h:20: UserWarning: indexing with dtype torch.uint8 is now deprecated, please use a dtype torch.bool instead.\n",
      "/pytorch/aten/src/ATen/native/IndexingUtils.h:20: UserWarning: indexing with dtype torch.uint8 is now deprecated, please use a dtype torch.bool instead.\n",
      "/pytorch/aten/src/ATen/native/IndexingUtils.h:20: UserWarning: indexing with dtype torch.uint8 is now deprecated, please use a dtype torch.bool instead.\n",
      "/pytorch/aten/src/ATen/native/IndexingUtils.h:20: UserWarning: indexing with dtype torch.uint8 is now deprecated, please use a dtype torch.bool instead.\n",
      "/pytorch/aten/src/ATen/native/IndexingUtils.h:20: UserWarning: indexing with dtype torch.uint8 is now deprecated, please use a dtype torch.bool instead.\n",
      "/pytorch/aten/src/ATen/native/IndexingUtils.h:20: UserWarning: indexing with dtype torch.uint8 is now deprecated, please use a dtype torch.bool instead.\n",
      "/pytorch/aten/src/ATen/native/IndexingUtils.h:20: UserWarning: indexing with dtype torch.uint8 is now deprecated, please use a dtype torch.bool instead.\n",
      "/pytorch/aten/src/ATen/native/IndexingUtils.h:20: UserWarning: indexing with dtype torch.uint8 is now deprecated, please use a dtype torch.bool instead.\n",
      "/pytorch/aten/src/ATen/native/IndexingUtils.h:20: UserWarning: indexing with dtype torch.uint8 is now deprecated, please use a dtype torch.bool instead.\n"
     ]
    },
    {
     "name": "stdout",
     "output_type": "stream",
     "text": [
      "[E:50]\tTrain Loss: 328.930\n"
     ]
    },
    {
     "name": "stderr",
     "output_type": "stream",
     "text": [
      "/pytorch/aten/src/ATen/native/IndexingUtils.h:20: UserWarning: indexing with dtype torch.uint8 is now deprecated, please use a dtype torch.bool instead.\n",
      "/pytorch/aten/src/ATen/native/IndexingUtils.h:20: UserWarning: indexing with dtype torch.uint8 is now deprecated, please use a dtype torch.bool instead.\n",
      "/pytorch/aten/src/ATen/native/IndexingUtils.h:20: UserWarning: indexing with dtype torch.uint8 is now deprecated, please use a dtype torch.bool instead.\n",
      "/pytorch/aten/src/ATen/native/IndexingUtils.h:20: UserWarning: indexing with dtype torch.uint8 is now deprecated, please use a dtype torch.bool instead.\n",
      "/pytorch/aten/src/ATen/native/IndexingUtils.h:20: UserWarning: indexing with dtype torch.uint8 is now deprecated, please use a dtype torch.bool instead.\n",
      "/pytorch/aten/src/ATen/native/IndexingUtils.h:20: UserWarning: indexing with dtype torch.uint8 is now deprecated, please use a dtype torch.bool instead.\n",
      "/pytorch/aten/src/ATen/native/IndexingUtils.h:20: UserWarning: indexing with dtype torch.uint8 is now deprecated, please use a dtype torch.bool instead.\n",
      "/pytorch/aten/src/ATen/native/IndexingUtils.h:20: UserWarning: indexing with dtype torch.uint8 is now deprecated, please use a dtype torch.bool instead.\n",
      "/pytorch/aten/src/ATen/native/IndexingUtils.h:20: UserWarning: indexing with dtype torch.uint8 is now deprecated, please use a dtype torch.bool instead.\n",
      "/pytorch/aten/src/ATen/native/IndexingUtils.h:20: UserWarning: indexing with dtype torch.uint8 is now deprecated, please use a dtype torch.bool instead.\n",
      "/pytorch/aten/src/ATen/native/IndexingUtils.h:20: UserWarning: indexing with dtype torch.uint8 is now deprecated, please use a dtype torch.bool instead.\n",
      "/pytorch/aten/src/ATen/native/IndexingUtils.h:20: UserWarning: indexing with dtype torch.uint8 is now deprecated, please use a dtype torch.bool instead.\n",
      "/pytorch/aten/src/ATen/native/IndexingUtils.h:20: UserWarning: indexing with dtype torch.uint8 is now deprecated, please use a dtype torch.bool instead.\n",
      "/pytorch/aten/src/ATen/native/IndexingUtils.h:20: UserWarning: indexing with dtype torch.uint8 is now deprecated, please use a dtype torch.bool instead.\n",
      "/pytorch/aten/src/ATen/native/IndexingUtils.h:20: UserWarning: indexing with dtype torch.uint8 is now deprecated, please use a dtype torch.bool instead.\n",
      "/pytorch/aten/src/ATen/native/IndexingUtils.h:20: UserWarning: indexing with dtype torch.uint8 is now deprecated, please use a dtype torch.bool instead.\n",
      "/pytorch/aten/src/ATen/native/IndexingUtils.h:20: UserWarning: indexing with dtype torch.uint8 is now deprecated, please use a dtype torch.bool instead.\n",
      "/pytorch/aten/src/ATen/native/IndexingUtils.h:20: UserWarning: indexing with dtype torch.uint8 is now deprecated, please use a dtype torch.bool instead.\n",
      "/pytorch/aten/src/ATen/native/IndexingUtils.h:20: UserWarning: indexing with dtype torch.uint8 is now deprecated, please use a dtype torch.bool instead.\n",
      "/pytorch/aten/src/ATen/native/IndexingUtils.h:20: UserWarning: indexing with dtype torch.uint8 is now deprecated, please use a dtype torch.bool instead.\n"
     ]
    },
    {
     "name": "stdout",
     "output_type": "stream",
     "text": [
      "[E:60]\tTrain Loss: 265.643\n"
     ]
    },
    {
     "name": "stderr",
     "output_type": "stream",
     "text": [
      "/pytorch/aten/src/ATen/native/IndexingUtils.h:20: UserWarning: indexing with dtype torch.uint8 is now deprecated, please use a dtype torch.bool instead.\n",
      "/pytorch/aten/src/ATen/native/IndexingUtils.h:20: UserWarning: indexing with dtype torch.uint8 is now deprecated, please use a dtype torch.bool instead.\n",
      "/pytorch/aten/src/ATen/native/IndexingUtils.h:20: UserWarning: indexing with dtype torch.uint8 is now deprecated, please use a dtype torch.bool instead.\n",
      "/pytorch/aten/src/ATen/native/IndexingUtils.h:20: UserWarning: indexing with dtype torch.uint8 is now deprecated, please use a dtype torch.bool instead.\n",
      "/pytorch/aten/src/ATen/native/IndexingUtils.h:20: UserWarning: indexing with dtype torch.uint8 is now deprecated, please use a dtype torch.bool instead.\n",
      "/pytorch/aten/src/ATen/native/IndexingUtils.h:20: UserWarning: indexing with dtype torch.uint8 is now deprecated, please use a dtype torch.bool instead.\n",
      "/pytorch/aten/src/ATen/native/IndexingUtils.h:20: UserWarning: indexing with dtype torch.uint8 is now deprecated, please use a dtype torch.bool instead.\n",
      "/pytorch/aten/src/ATen/native/IndexingUtils.h:20: UserWarning: indexing with dtype torch.uint8 is now deprecated, please use a dtype torch.bool instead.\n",
      "/pytorch/aten/src/ATen/native/IndexingUtils.h:20: UserWarning: indexing with dtype torch.uint8 is now deprecated, please use a dtype torch.bool instead.\n",
      "/pytorch/aten/src/ATen/native/IndexingUtils.h:20: UserWarning: indexing with dtype torch.uint8 is now deprecated, please use a dtype torch.bool instead.\n",
      "/pytorch/aten/src/ATen/native/IndexingUtils.h:20: UserWarning: indexing with dtype torch.uint8 is now deprecated, please use a dtype torch.bool instead.\n",
      "/pytorch/aten/src/ATen/native/IndexingUtils.h:20: UserWarning: indexing with dtype torch.uint8 is now deprecated, please use a dtype torch.bool instead.\n",
      "/pytorch/aten/src/ATen/native/IndexingUtils.h:20: UserWarning: indexing with dtype torch.uint8 is now deprecated, please use a dtype torch.bool instead.\n",
      "/pytorch/aten/src/ATen/native/IndexingUtils.h:20: UserWarning: indexing with dtype torch.uint8 is now deprecated, please use a dtype torch.bool instead.\n",
      "/pytorch/aten/src/ATen/native/IndexingUtils.h:20: UserWarning: indexing with dtype torch.uint8 is now deprecated, please use a dtype torch.bool instead.\n",
      "/pytorch/aten/src/ATen/native/IndexingUtils.h:20: UserWarning: indexing with dtype torch.uint8 is now deprecated, please use a dtype torch.bool instead.\n",
      "/pytorch/aten/src/ATen/native/IndexingUtils.h:20: UserWarning: indexing with dtype torch.uint8 is now deprecated, please use a dtype torch.bool instead.\n",
      "/pytorch/aten/src/ATen/native/IndexingUtils.h:20: UserWarning: indexing with dtype torch.uint8 is now deprecated, please use a dtype torch.bool instead.\n",
      "/pytorch/aten/src/ATen/native/IndexingUtils.h:20: UserWarning: indexing with dtype torch.uint8 is now deprecated, please use a dtype torch.bool instead.\n",
      "/pytorch/aten/src/ATen/native/IndexingUtils.h:20: UserWarning: indexing with dtype torch.uint8 is now deprecated, please use a dtype torch.bool instead.\n"
     ]
    },
    {
     "name": "stdout",
     "output_type": "stream",
     "text": [
      "[E:70]\tTrain Loss: 264.331\n"
     ]
    },
    {
     "name": "stderr",
     "output_type": "stream",
     "text": [
      "/pytorch/aten/src/ATen/native/IndexingUtils.h:20: UserWarning: indexing with dtype torch.uint8 is now deprecated, please use a dtype torch.bool instead.\n",
      "/pytorch/aten/src/ATen/native/IndexingUtils.h:20: UserWarning: indexing with dtype torch.uint8 is now deprecated, please use a dtype torch.bool instead.\n",
      "/pytorch/aten/src/ATen/native/IndexingUtils.h:20: UserWarning: indexing with dtype torch.uint8 is now deprecated, please use a dtype torch.bool instead.\n",
      "/pytorch/aten/src/ATen/native/IndexingUtils.h:20: UserWarning: indexing with dtype torch.uint8 is now deprecated, please use a dtype torch.bool instead.\n",
      "/pytorch/aten/src/ATen/native/IndexingUtils.h:20: UserWarning: indexing with dtype torch.uint8 is now deprecated, please use a dtype torch.bool instead.\n",
      "/pytorch/aten/src/ATen/native/IndexingUtils.h:20: UserWarning: indexing with dtype torch.uint8 is now deprecated, please use a dtype torch.bool instead.\n",
      "/pytorch/aten/src/ATen/native/IndexingUtils.h:20: UserWarning: indexing with dtype torch.uint8 is now deprecated, please use a dtype torch.bool instead.\n",
      "/pytorch/aten/src/ATen/native/IndexingUtils.h:20: UserWarning: indexing with dtype torch.uint8 is now deprecated, please use a dtype torch.bool instead.\n",
      "/pytorch/aten/src/ATen/native/IndexingUtils.h:20: UserWarning: indexing with dtype torch.uint8 is now deprecated, please use a dtype torch.bool instead.\n",
      "/pytorch/aten/src/ATen/native/IndexingUtils.h:20: UserWarning: indexing with dtype torch.uint8 is now deprecated, please use a dtype torch.bool instead.\n",
      "/pytorch/aten/src/ATen/native/IndexingUtils.h:20: UserWarning: indexing with dtype torch.uint8 is now deprecated, please use a dtype torch.bool instead.\n",
      "/pytorch/aten/src/ATen/native/IndexingUtils.h:20: UserWarning: indexing with dtype torch.uint8 is now deprecated, please use a dtype torch.bool instead.\n",
      "/pytorch/aten/src/ATen/native/IndexingUtils.h:20: UserWarning: indexing with dtype torch.uint8 is now deprecated, please use a dtype torch.bool instead.\n",
      "/pytorch/aten/src/ATen/native/IndexingUtils.h:20: UserWarning: indexing with dtype torch.uint8 is now deprecated, please use a dtype torch.bool instead.\n",
      "/pytorch/aten/src/ATen/native/IndexingUtils.h:20: UserWarning: indexing with dtype torch.uint8 is now deprecated, please use a dtype torch.bool instead.\n",
      "/pytorch/aten/src/ATen/native/IndexingUtils.h:20: UserWarning: indexing with dtype torch.uint8 is now deprecated, please use a dtype torch.bool instead.\n",
      "/pytorch/aten/src/ATen/native/IndexingUtils.h:20: UserWarning: indexing with dtype torch.uint8 is now deprecated, please use a dtype torch.bool instead.\n",
      "/pytorch/aten/src/ATen/native/IndexingUtils.h:20: UserWarning: indexing with dtype torch.uint8 is now deprecated, please use a dtype torch.bool instead.\n",
      "/pytorch/aten/src/ATen/native/IndexingUtils.h:20: UserWarning: indexing with dtype torch.uint8 is now deprecated, please use a dtype torch.bool instead.\n",
      "/pytorch/aten/src/ATen/native/IndexingUtils.h:20: UserWarning: indexing with dtype torch.uint8 is now deprecated, please use a dtype torch.bool instead.\n"
     ]
    },
    {
     "name": "stdout",
     "output_type": "stream",
     "text": [
      "[E:80]\tTrain Loss: 259.465\n"
     ]
    },
    {
     "name": "stderr",
     "output_type": "stream",
     "text": [
      "/pytorch/aten/src/ATen/native/IndexingUtils.h:20: UserWarning: indexing with dtype torch.uint8 is now deprecated, please use a dtype torch.bool instead.\n",
      "/pytorch/aten/src/ATen/native/IndexingUtils.h:20: UserWarning: indexing with dtype torch.uint8 is now deprecated, please use a dtype torch.bool instead.\n",
      "/pytorch/aten/src/ATen/native/IndexingUtils.h:20: UserWarning: indexing with dtype torch.uint8 is now deprecated, please use a dtype torch.bool instead.\n",
      "/pytorch/aten/src/ATen/native/IndexingUtils.h:20: UserWarning: indexing with dtype torch.uint8 is now deprecated, please use a dtype torch.bool instead.\n",
      "/pytorch/aten/src/ATen/native/IndexingUtils.h:20: UserWarning: indexing with dtype torch.uint8 is now deprecated, please use a dtype torch.bool instead.\n",
      "/pytorch/aten/src/ATen/native/IndexingUtils.h:20: UserWarning: indexing with dtype torch.uint8 is now deprecated, please use a dtype torch.bool instead.\n",
      "/pytorch/aten/src/ATen/native/IndexingUtils.h:20: UserWarning: indexing with dtype torch.uint8 is now deprecated, please use a dtype torch.bool instead.\n",
      "/pytorch/aten/src/ATen/native/IndexingUtils.h:20: UserWarning: indexing with dtype torch.uint8 is now deprecated, please use a dtype torch.bool instead.\n",
      "/pytorch/aten/src/ATen/native/IndexingUtils.h:20: UserWarning: indexing with dtype torch.uint8 is now deprecated, please use a dtype torch.bool instead.\n",
      "/pytorch/aten/src/ATen/native/IndexingUtils.h:20: UserWarning: indexing with dtype torch.uint8 is now deprecated, please use a dtype torch.bool instead.\n",
      "/pytorch/aten/src/ATen/native/IndexingUtils.h:20: UserWarning: indexing with dtype torch.uint8 is now deprecated, please use a dtype torch.bool instead.\n",
      "/pytorch/aten/src/ATen/native/IndexingUtils.h:20: UserWarning: indexing with dtype torch.uint8 is now deprecated, please use a dtype torch.bool instead.\n",
      "/pytorch/aten/src/ATen/native/IndexingUtils.h:20: UserWarning: indexing with dtype torch.uint8 is now deprecated, please use a dtype torch.bool instead.\n",
      "/pytorch/aten/src/ATen/native/IndexingUtils.h:20: UserWarning: indexing with dtype torch.uint8 is now deprecated, please use a dtype torch.bool instead.\n",
      "/pytorch/aten/src/ATen/native/IndexingUtils.h:20: UserWarning: indexing with dtype torch.uint8 is now deprecated, please use a dtype torch.bool instead.\n",
      "/pytorch/aten/src/ATen/native/IndexingUtils.h:20: UserWarning: indexing with dtype torch.uint8 is now deprecated, please use a dtype torch.bool instead.\n",
      "/pytorch/aten/src/ATen/native/IndexingUtils.h:20: UserWarning: indexing with dtype torch.uint8 is now deprecated, please use a dtype torch.bool instead.\n",
      "/pytorch/aten/src/ATen/native/IndexingUtils.h:20: UserWarning: indexing with dtype torch.uint8 is now deprecated, please use a dtype torch.bool instead.\n",
      "/pytorch/aten/src/ATen/native/IndexingUtils.h:20: UserWarning: indexing with dtype torch.uint8 is now deprecated, please use a dtype torch.bool instead.\n",
      "/pytorch/aten/src/ATen/native/IndexingUtils.h:20: UserWarning: indexing with dtype torch.uint8 is now deprecated, please use a dtype torch.bool instead.\n"
     ]
    },
    {
     "name": "stdout",
     "output_type": "stream",
     "text": [
      "[E:90]\tTrain Loss: 249.349\n"
     ]
    },
    {
     "name": "stderr",
     "output_type": "stream",
     "text": [
      "/pytorch/aten/src/ATen/native/IndexingUtils.h:20: UserWarning: indexing with dtype torch.uint8 is now deprecated, please use a dtype torch.bool instead.\n",
      "/pytorch/aten/src/ATen/native/IndexingUtils.h:20: UserWarning: indexing with dtype torch.uint8 is now deprecated, please use a dtype torch.bool instead.\n",
      "/pytorch/aten/src/ATen/native/IndexingUtils.h:20: UserWarning: indexing with dtype torch.uint8 is now deprecated, please use a dtype torch.bool instead.\n",
      "/pytorch/aten/src/ATen/native/IndexingUtils.h:20: UserWarning: indexing with dtype torch.uint8 is now deprecated, please use a dtype torch.bool instead.\n",
      "/pytorch/aten/src/ATen/native/IndexingUtils.h:20: UserWarning: indexing with dtype torch.uint8 is now deprecated, please use a dtype torch.bool instead.\n",
      "/pytorch/aten/src/ATen/native/IndexingUtils.h:20: UserWarning: indexing with dtype torch.uint8 is now deprecated, please use a dtype torch.bool instead.\n",
      "/pytorch/aten/src/ATen/native/IndexingUtils.h:20: UserWarning: indexing with dtype torch.uint8 is now deprecated, please use a dtype torch.bool instead.\n",
      "/pytorch/aten/src/ATen/native/IndexingUtils.h:20: UserWarning: indexing with dtype torch.uint8 is now deprecated, please use a dtype torch.bool instead.\n",
      "/pytorch/aten/src/ATen/native/IndexingUtils.h:20: UserWarning: indexing with dtype torch.uint8 is now deprecated, please use a dtype torch.bool instead.\n",
      "/pytorch/aten/src/ATen/native/IndexingUtils.h:20: UserWarning: indexing with dtype torch.uint8 is now deprecated, please use a dtype torch.bool instead.\n",
      "/pytorch/aten/src/ATen/native/IndexingUtils.h:20: UserWarning: indexing with dtype torch.uint8 is now deprecated, please use a dtype torch.bool instead.\n",
      "/pytorch/aten/src/ATen/native/IndexingUtils.h:20: UserWarning: indexing with dtype torch.uint8 is now deprecated, please use a dtype torch.bool instead.\n",
      "/pytorch/aten/src/ATen/native/IndexingUtils.h:20: UserWarning: indexing with dtype torch.uint8 is now deprecated, please use a dtype torch.bool instead.\n",
      "/pytorch/aten/src/ATen/native/IndexingUtils.h:20: UserWarning: indexing with dtype torch.uint8 is now deprecated, please use a dtype torch.bool instead.\n",
      "/pytorch/aten/src/ATen/native/IndexingUtils.h:20: UserWarning: indexing with dtype torch.uint8 is now deprecated, please use a dtype torch.bool instead.\n",
      "/pytorch/aten/src/ATen/native/IndexingUtils.h:20: UserWarning: indexing with dtype torch.uint8 is now deprecated, please use a dtype torch.bool instead.\n",
      "/pytorch/aten/src/ATen/native/IndexingUtils.h:20: UserWarning: indexing with dtype torch.uint8 is now deprecated, please use a dtype torch.bool instead.\n",
      "/pytorch/aten/src/ATen/native/IndexingUtils.h:20: UserWarning: indexing with dtype torch.uint8 is now deprecated, please use a dtype torch.bool instead.\n",
      "/pytorch/aten/src/ATen/native/IndexingUtils.h:20: UserWarning: indexing with dtype torch.uint8 is now deprecated, please use a dtype torch.bool instead.\n",
      "/pytorch/aten/src/ATen/native/IndexingUtils.h:20: UserWarning: indexing with dtype torch.uint8 is now deprecated, please use a dtype torch.bool instead.\n"
     ]
    },
    {
     "name": "stdout",
     "output_type": "stream",
     "text": [
      "[E:100]\tTrain Loss: 235.893\n"
     ]
    },
    {
     "name": "stderr",
     "output_type": "stream",
     "text": [
      "/pytorch/aten/src/ATen/native/IndexingUtils.h:20: UserWarning: indexing with dtype torch.uint8 is now deprecated, please use a dtype torch.bool instead.\n",
      "/pytorch/aten/src/ATen/native/IndexingUtils.h:20: UserWarning: indexing with dtype torch.uint8 is now deprecated, please use a dtype torch.bool instead.\n",
      "/pytorch/aten/src/ATen/native/IndexingUtils.h:20: UserWarning: indexing with dtype torch.uint8 is now deprecated, please use a dtype torch.bool instead.\n",
      "/pytorch/aten/src/ATen/native/IndexingUtils.h:20: UserWarning: indexing with dtype torch.uint8 is now deprecated, please use a dtype torch.bool instead.\n",
      "/pytorch/aten/src/ATen/native/IndexingUtils.h:20: UserWarning: indexing with dtype torch.uint8 is now deprecated, please use a dtype torch.bool instead.\n",
      "/pytorch/aten/src/ATen/native/IndexingUtils.h:20: UserWarning: indexing with dtype torch.uint8 is now deprecated, please use a dtype torch.bool instead.\n",
      "/pytorch/aten/src/ATen/native/IndexingUtils.h:20: UserWarning: indexing with dtype torch.uint8 is now deprecated, please use a dtype torch.bool instead.\n",
      "/pytorch/aten/src/ATen/native/IndexingUtils.h:20: UserWarning: indexing with dtype torch.uint8 is now deprecated, please use a dtype torch.bool instead.\n",
      "/pytorch/aten/src/ATen/native/IndexingUtils.h:20: UserWarning: indexing with dtype torch.uint8 is now deprecated, please use a dtype torch.bool instead.\n",
      "/pytorch/aten/src/ATen/native/IndexingUtils.h:20: UserWarning: indexing with dtype torch.uint8 is now deprecated, please use a dtype torch.bool instead.\n",
      "/pytorch/aten/src/ATen/native/IndexingUtils.h:20: UserWarning: indexing with dtype torch.uint8 is now deprecated, please use a dtype torch.bool instead.\n",
      "/pytorch/aten/src/ATen/native/IndexingUtils.h:20: UserWarning: indexing with dtype torch.uint8 is now deprecated, please use a dtype torch.bool instead.\n",
      "/pytorch/aten/src/ATen/native/IndexingUtils.h:20: UserWarning: indexing with dtype torch.uint8 is now deprecated, please use a dtype torch.bool instead.\n",
      "/pytorch/aten/src/ATen/native/IndexingUtils.h:20: UserWarning: indexing with dtype torch.uint8 is now deprecated, please use a dtype torch.bool instead.\n",
      "/pytorch/aten/src/ATen/native/IndexingUtils.h:20: UserWarning: indexing with dtype torch.uint8 is now deprecated, please use a dtype torch.bool instead.\n",
      "/pytorch/aten/src/ATen/native/IndexingUtils.h:20: UserWarning: indexing with dtype torch.uint8 is now deprecated, please use a dtype torch.bool instead.\n",
      "/pytorch/aten/src/ATen/native/IndexingUtils.h:20: UserWarning: indexing with dtype torch.uint8 is now deprecated, please use a dtype torch.bool instead.\n",
      "/pytorch/aten/src/ATen/native/IndexingUtils.h:20: UserWarning: indexing with dtype torch.uint8 is now deprecated, please use a dtype torch.bool instead.\n",
      "/pytorch/aten/src/ATen/native/IndexingUtils.h:20: UserWarning: indexing with dtype torch.uint8 is now deprecated, please use a dtype torch.bool instead.\n",
      "/pytorch/aten/src/ATen/native/IndexingUtils.h:20: UserWarning: indexing with dtype torch.uint8 is now deprecated, please use a dtype torch.bool instead.\n"
     ]
    },
    {
     "name": "stdout",
     "output_type": "stream",
     "text": [
      "[E:110]\tTrain Loss: 215.288\n"
     ]
    },
    {
     "name": "stderr",
     "output_type": "stream",
     "text": [
      "/pytorch/aten/src/ATen/native/IndexingUtils.h:20: UserWarning: indexing with dtype torch.uint8 is now deprecated, please use a dtype torch.bool instead.\n",
      "/pytorch/aten/src/ATen/native/IndexingUtils.h:20: UserWarning: indexing with dtype torch.uint8 is now deprecated, please use a dtype torch.bool instead.\n",
      "/pytorch/aten/src/ATen/native/IndexingUtils.h:20: UserWarning: indexing with dtype torch.uint8 is now deprecated, please use a dtype torch.bool instead.\n",
      "/pytorch/aten/src/ATen/native/IndexingUtils.h:20: UserWarning: indexing with dtype torch.uint8 is now deprecated, please use a dtype torch.bool instead.\n",
      "/pytorch/aten/src/ATen/native/IndexingUtils.h:20: UserWarning: indexing with dtype torch.uint8 is now deprecated, please use a dtype torch.bool instead.\n",
      "/pytorch/aten/src/ATen/native/IndexingUtils.h:20: UserWarning: indexing with dtype torch.uint8 is now deprecated, please use a dtype torch.bool instead.\n",
      "/pytorch/aten/src/ATen/native/IndexingUtils.h:20: UserWarning: indexing with dtype torch.uint8 is now deprecated, please use a dtype torch.bool instead.\n",
      "/pytorch/aten/src/ATen/native/IndexingUtils.h:20: UserWarning: indexing with dtype torch.uint8 is now deprecated, please use a dtype torch.bool instead.\n",
      "/pytorch/aten/src/ATen/native/IndexingUtils.h:20: UserWarning: indexing with dtype torch.uint8 is now deprecated, please use a dtype torch.bool instead.\n",
      "/pytorch/aten/src/ATen/native/IndexingUtils.h:20: UserWarning: indexing with dtype torch.uint8 is now deprecated, please use a dtype torch.bool instead.\n",
      "/pytorch/aten/src/ATen/native/IndexingUtils.h:20: UserWarning: indexing with dtype torch.uint8 is now deprecated, please use a dtype torch.bool instead.\n",
      "/pytorch/aten/src/ATen/native/IndexingUtils.h:20: UserWarning: indexing with dtype torch.uint8 is now deprecated, please use a dtype torch.bool instead.\n",
      "/pytorch/aten/src/ATen/native/IndexingUtils.h:20: UserWarning: indexing with dtype torch.uint8 is now deprecated, please use a dtype torch.bool instead.\n",
      "/pytorch/aten/src/ATen/native/IndexingUtils.h:20: UserWarning: indexing with dtype torch.uint8 is now deprecated, please use a dtype torch.bool instead.\n",
      "/pytorch/aten/src/ATen/native/IndexingUtils.h:20: UserWarning: indexing with dtype torch.uint8 is now deprecated, please use a dtype torch.bool instead.\n",
      "/pytorch/aten/src/ATen/native/IndexingUtils.h:20: UserWarning: indexing with dtype torch.uint8 is now deprecated, please use a dtype torch.bool instead.\n",
      "/pytorch/aten/src/ATen/native/IndexingUtils.h:20: UserWarning: indexing with dtype torch.uint8 is now deprecated, please use a dtype torch.bool instead.\n",
      "/pytorch/aten/src/ATen/native/IndexingUtils.h:20: UserWarning: indexing with dtype torch.uint8 is now deprecated, please use a dtype torch.bool instead.\n",
      "/pytorch/aten/src/ATen/native/IndexingUtils.h:20: UserWarning: indexing with dtype torch.uint8 is now deprecated, please use a dtype torch.bool instead.\n",
      "/pytorch/aten/src/ATen/native/IndexingUtils.h:20: UserWarning: indexing with dtype torch.uint8 is now deprecated, please use a dtype torch.bool instead.\n"
     ]
    },
    {
     "name": "stdout",
     "output_type": "stream",
     "text": [
      "[E:120]\tTrain Loss: 191.933\n"
     ]
    },
    {
     "name": "stderr",
     "output_type": "stream",
     "text": [
      "/pytorch/aten/src/ATen/native/IndexingUtils.h:20: UserWarning: indexing with dtype torch.uint8 is now deprecated, please use a dtype torch.bool instead.\n",
      "/pytorch/aten/src/ATen/native/IndexingUtils.h:20: UserWarning: indexing with dtype torch.uint8 is now deprecated, please use a dtype torch.bool instead.\n",
      "/pytorch/aten/src/ATen/native/IndexingUtils.h:20: UserWarning: indexing with dtype torch.uint8 is now deprecated, please use a dtype torch.bool instead.\n",
      "/pytorch/aten/src/ATen/native/IndexingUtils.h:20: UserWarning: indexing with dtype torch.uint8 is now deprecated, please use a dtype torch.bool instead.\n",
      "/pytorch/aten/src/ATen/native/IndexingUtils.h:20: UserWarning: indexing with dtype torch.uint8 is now deprecated, please use a dtype torch.bool instead.\n",
      "/pytorch/aten/src/ATen/native/IndexingUtils.h:20: UserWarning: indexing with dtype torch.uint8 is now deprecated, please use a dtype torch.bool instead.\n",
      "/pytorch/aten/src/ATen/native/IndexingUtils.h:20: UserWarning: indexing with dtype torch.uint8 is now deprecated, please use a dtype torch.bool instead.\n",
      "/pytorch/aten/src/ATen/native/IndexingUtils.h:20: UserWarning: indexing with dtype torch.uint8 is now deprecated, please use a dtype torch.bool instead.\n",
      "/pytorch/aten/src/ATen/native/IndexingUtils.h:20: UserWarning: indexing with dtype torch.uint8 is now deprecated, please use a dtype torch.bool instead.\n",
      "/pytorch/aten/src/ATen/native/IndexingUtils.h:20: UserWarning: indexing with dtype torch.uint8 is now deprecated, please use a dtype torch.bool instead.\n",
      "/pytorch/aten/src/ATen/native/IndexingUtils.h:20: UserWarning: indexing with dtype torch.uint8 is now deprecated, please use a dtype torch.bool instead.\n",
      "/pytorch/aten/src/ATen/native/IndexingUtils.h:20: UserWarning: indexing with dtype torch.uint8 is now deprecated, please use a dtype torch.bool instead.\n",
      "/pytorch/aten/src/ATen/native/IndexingUtils.h:20: UserWarning: indexing with dtype torch.uint8 is now deprecated, please use a dtype torch.bool instead.\n",
      "/pytorch/aten/src/ATen/native/IndexingUtils.h:20: UserWarning: indexing with dtype torch.uint8 is now deprecated, please use a dtype torch.bool instead.\n",
      "/pytorch/aten/src/ATen/native/IndexingUtils.h:20: UserWarning: indexing with dtype torch.uint8 is now deprecated, please use a dtype torch.bool instead.\n",
      "/pytorch/aten/src/ATen/native/IndexingUtils.h:20: UserWarning: indexing with dtype torch.uint8 is now deprecated, please use a dtype torch.bool instead.\n",
      "/pytorch/aten/src/ATen/native/IndexingUtils.h:20: UserWarning: indexing with dtype torch.uint8 is now deprecated, please use a dtype torch.bool instead.\n",
      "/pytorch/aten/src/ATen/native/IndexingUtils.h:20: UserWarning: indexing with dtype torch.uint8 is now deprecated, please use a dtype torch.bool instead.\n",
      "/pytorch/aten/src/ATen/native/IndexingUtils.h:20: UserWarning: indexing with dtype torch.uint8 is now deprecated, please use a dtype torch.bool instead.\n",
      "/pytorch/aten/src/ATen/native/IndexingUtils.h:20: UserWarning: indexing with dtype torch.uint8 is now deprecated, please use a dtype torch.bool instead.\n"
     ]
    },
    {
     "name": "stdout",
     "output_type": "stream",
     "text": [
      "[E:130]\tTrain Loss: 173.296\n"
     ]
    },
    {
     "name": "stderr",
     "output_type": "stream",
     "text": [
      "/pytorch/aten/src/ATen/native/IndexingUtils.h:20: UserWarning: indexing with dtype torch.uint8 is now deprecated, please use a dtype torch.bool instead.\n",
      "/pytorch/aten/src/ATen/native/IndexingUtils.h:20: UserWarning: indexing with dtype torch.uint8 is now deprecated, please use a dtype torch.bool instead.\n",
      "/pytorch/aten/src/ATen/native/IndexingUtils.h:20: UserWarning: indexing with dtype torch.uint8 is now deprecated, please use a dtype torch.bool instead.\n",
      "/pytorch/aten/src/ATen/native/IndexingUtils.h:20: UserWarning: indexing with dtype torch.uint8 is now deprecated, please use a dtype torch.bool instead.\n",
      "/pytorch/aten/src/ATen/native/IndexingUtils.h:20: UserWarning: indexing with dtype torch.uint8 is now deprecated, please use a dtype torch.bool instead.\n",
      "/pytorch/aten/src/ATen/native/IndexingUtils.h:20: UserWarning: indexing with dtype torch.uint8 is now deprecated, please use a dtype torch.bool instead.\n",
      "/pytorch/aten/src/ATen/native/IndexingUtils.h:20: UserWarning: indexing with dtype torch.uint8 is now deprecated, please use a dtype torch.bool instead.\n",
      "/pytorch/aten/src/ATen/native/IndexingUtils.h:20: UserWarning: indexing with dtype torch.uint8 is now deprecated, please use a dtype torch.bool instead.\n",
      "/pytorch/aten/src/ATen/native/IndexingUtils.h:20: UserWarning: indexing with dtype torch.uint8 is now deprecated, please use a dtype torch.bool instead.\n",
      "/pytorch/aten/src/ATen/native/IndexingUtils.h:20: UserWarning: indexing with dtype torch.uint8 is now deprecated, please use a dtype torch.bool instead.\n",
      "/pytorch/aten/src/ATen/native/IndexingUtils.h:20: UserWarning: indexing with dtype torch.uint8 is now deprecated, please use a dtype torch.bool instead.\n",
      "/pytorch/aten/src/ATen/native/IndexingUtils.h:20: UserWarning: indexing with dtype torch.uint8 is now deprecated, please use a dtype torch.bool instead.\n",
      "/pytorch/aten/src/ATen/native/IndexingUtils.h:20: UserWarning: indexing with dtype torch.uint8 is now deprecated, please use a dtype torch.bool instead.\n",
      "/pytorch/aten/src/ATen/native/IndexingUtils.h:20: UserWarning: indexing with dtype torch.uint8 is now deprecated, please use a dtype torch.bool instead.\n",
      "/pytorch/aten/src/ATen/native/IndexingUtils.h:20: UserWarning: indexing with dtype torch.uint8 is now deprecated, please use a dtype torch.bool instead.\n",
      "/pytorch/aten/src/ATen/native/IndexingUtils.h:20: UserWarning: indexing with dtype torch.uint8 is now deprecated, please use a dtype torch.bool instead.\n",
      "/pytorch/aten/src/ATen/native/IndexingUtils.h:20: UserWarning: indexing with dtype torch.uint8 is now deprecated, please use a dtype torch.bool instead.\n",
      "/pytorch/aten/src/ATen/native/IndexingUtils.h:20: UserWarning: indexing with dtype torch.uint8 is now deprecated, please use a dtype torch.bool instead.\n",
      "/pytorch/aten/src/ATen/native/IndexingUtils.h:20: UserWarning: indexing with dtype torch.uint8 is now deprecated, please use a dtype torch.bool instead.\n",
      "/pytorch/aten/src/ATen/native/IndexingUtils.h:20: UserWarning: indexing with dtype torch.uint8 is now deprecated, please use a dtype torch.bool instead.\n"
     ]
    },
    {
     "name": "stdout",
     "output_type": "stream",
     "text": [
      "[E:140]\tTrain Loss: 162.064\n"
     ]
    },
    {
     "name": "stderr",
     "output_type": "stream",
     "text": [
      "/pytorch/aten/src/ATen/native/IndexingUtils.h:20: UserWarning: indexing with dtype torch.uint8 is now deprecated, please use a dtype torch.bool instead.\n",
      "/pytorch/aten/src/ATen/native/IndexingUtils.h:20: UserWarning: indexing with dtype torch.uint8 is now deprecated, please use a dtype torch.bool instead.\n",
      "/pytorch/aten/src/ATen/native/IndexingUtils.h:20: UserWarning: indexing with dtype torch.uint8 is now deprecated, please use a dtype torch.bool instead.\n",
      "/pytorch/aten/src/ATen/native/IndexingUtils.h:20: UserWarning: indexing with dtype torch.uint8 is now deprecated, please use a dtype torch.bool instead.\n",
      "/pytorch/aten/src/ATen/native/IndexingUtils.h:20: UserWarning: indexing with dtype torch.uint8 is now deprecated, please use a dtype torch.bool instead.\n",
      "/pytorch/aten/src/ATen/native/IndexingUtils.h:20: UserWarning: indexing with dtype torch.uint8 is now deprecated, please use a dtype torch.bool instead.\n",
      "/pytorch/aten/src/ATen/native/IndexingUtils.h:20: UserWarning: indexing with dtype torch.uint8 is now deprecated, please use a dtype torch.bool instead.\n",
      "/pytorch/aten/src/ATen/native/IndexingUtils.h:20: UserWarning: indexing with dtype torch.uint8 is now deprecated, please use a dtype torch.bool instead.\n",
      "/pytorch/aten/src/ATen/native/IndexingUtils.h:20: UserWarning: indexing with dtype torch.uint8 is now deprecated, please use a dtype torch.bool instead.\n",
      "/pytorch/aten/src/ATen/native/IndexingUtils.h:20: UserWarning: indexing with dtype torch.uint8 is now deprecated, please use a dtype torch.bool instead.\n",
      "/pytorch/aten/src/ATen/native/IndexingUtils.h:20: UserWarning: indexing with dtype torch.uint8 is now deprecated, please use a dtype torch.bool instead.\n",
      "/pytorch/aten/src/ATen/native/IndexingUtils.h:20: UserWarning: indexing with dtype torch.uint8 is now deprecated, please use a dtype torch.bool instead.\n",
      "/pytorch/aten/src/ATen/native/IndexingUtils.h:20: UserWarning: indexing with dtype torch.uint8 is now deprecated, please use a dtype torch.bool instead.\n",
      "/pytorch/aten/src/ATen/native/IndexingUtils.h:20: UserWarning: indexing with dtype torch.uint8 is now deprecated, please use a dtype torch.bool instead.\n",
      "/pytorch/aten/src/ATen/native/IndexingUtils.h:20: UserWarning: indexing with dtype torch.uint8 is now deprecated, please use a dtype torch.bool instead.\n",
      "/pytorch/aten/src/ATen/native/IndexingUtils.h:20: UserWarning: indexing with dtype torch.uint8 is now deprecated, please use a dtype torch.bool instead.\n",
      "/pytorch/aten/src/ATen/native/IndexingUtils.h:20: UserWarning: indexing with dtype torch.uint8 is now deprecated, please use a dtype torch.bool instead.\n",
      "/pytorch/aten/src/ATen/native/IndexingUtils.h:20: UserWarning: indexing with dtype torch.uint8 is now deprecated, please use a dtype torch.bool instead.\n",
      "/pytorch/aten/src/ATen/native/IndexingUtils.h:20: UserWarning: indexing with dtype torch.uint8 is now deprecated, please use a dtype torch.bool instead.\n",
      "/pytorch/aten/src/ATen/native/IndexingUtils.h:20: UserWarning: indexing with dtype torch.uint8 is now deprecated, please use a dtype torch.bool instead.\n"
     ]
    },
    {
     "name": "stdout",
     "output_type": "stream",
     "text": [
      "[E:150]\tTrain Loss: 155.419\n"
     ]
    },
    {
     "name": "stderr",
     "output_type": "stream",
     "text": [
      "/pytorch/aten/src/ATen/native/IndexingUtils.h:20: UserWarning: indexing with dtype torch.uint8 is now deprecated, please use a dtype torch.bool instead.\n",
      "/pytorch/aten/src/ATen/native/IndexingUtils.h:20: UserWarning: indexing with dtype torch.uint8 is now deprecated, please use a dtype torch.bool instead.\n",
      "/pytorch/aten/src/ATen/native/IndexingUtils.h:20: UserWarning: indexing with dtype torch.uint8 is now deprecated, please use a dtype torch.bool instead.\n",
      "/pytorch/aten/src/ATen/native/IndexingUtils.h:20: UserWarning: indexing with dtype torch.uint8 is now deprecated, please use a dtype torch.bool instead.\n",
      "/pytorch/aten/src/ATen/native/IndexingUtils.h:20: UserWarning: indexing with dtype torch.uint8 is now deprecated, please use a dtype torch.bool instead.\n",
      "/pytorch/aten/src/ATen/native/IndexingUtils.h:20: UserWarning: indexing with dtype torch.uint8 is now deprecated, please use a dtype torch.bool instead.\n",
      "/pytorch/aten/src/ATen/native/IndexingUtils.h:20: UserWarning: indexing with dtype torch.uint8 is now deprecated, please use a dtype torch.bool instead.\n",
      "/pytorch/aten/src/ATen/native/IndexingUtils.h:20: UserWarning: indexing with dtype torch.uint8 is now deprecated, please use a dtype torch.bool instead.\n",
      "/pytorch/aten/src/ATen/native/IndexingUtils.h:20: UserWarning: indexing with dtype torch.uint8 is now deprecated, please use a dtype torch.bool instead.\n",
      "/pytorch/aten/src/ATen/native/IndexingUtils.h:20: UserWarning: indexing with dtype torch.uint8 is now deprecated, please use a dtype torch.bool instead.\n",
      "/pytorch/aten/src/ATen/native/IndexingUtils.h:20: UserWarning: indexing with dtype torch.uint8 is now deprecated, please use a dtype torch.bool instead.\n",
      "/pytorch/aten/src/ATen/native/IndexingUtils.h:20: UserWarning: indexing with dtype torch.uint8 is now deprecated, please use a dtype torch.bool instead.\n",
      "/pytorch/aten/src/ATen/native/IndexingUtils.h:20: UserWarning: indexing with dtype torch.uint8 is now deprecated, please use a dtype torch.bool instead.\n",
      "/pytorch/aten/src/ATen/native/IndexingUtils.h:20: UserWarning: indexing with dtype torch.uint8 is now deprecated, please use a dtype torch.bool instead.\n",
      "/pytorch/aten/src/ATen/native/IndexingUtils.h:20: UserWarning: indexing with dtype torch.uint8 is now deprecated, please use a dtype torch.bool instead.\n",
      "/pytorch/aten/src/ATen/native/IndexingUtils.h:20: UserWarning: indexing with dtype torch.uint8 is now deprecated, please use a dtype torch.bool instead.\n",
      "/pytorch/aten/src/ATen/native/IndexingUtils.h:20: UserWarning: indexing with dtype torch.uint8 is now deprecated, please use a dtype torch.bool instead.\n",
      "/pytorch/aten/src/ATen/native/IndexingUtils.h:20: UserWarning: indexing with dtype torch.uint8 is now deprecated, please use a dtype torch.bool instead.\n",
      "/pytorch/aten/src/ATen/native/IndexingUtils.h:20: UserWarning: indexing with dtype torch.uint8 is now deprecated, please use a dtype torch.bool instead.\n",
      "/pytorch/aten/src/ATen/native/IndexingUtils.h:20: UserWarning: indexing with dtype torch.uint8 is now deprecated, please use a dtype torch.bool instead.\n"
     ]
    },
    {
     "name": "stdout",
     "output_type": "stream",
     "text": [
      "[E:160]\tTrain Loss: 148.578\n"
     ]
    },
    {
     "name": "stderr",
     "output_type": "stream",
     "text": [
      "/pytorch/aten/src/ATen/native/IndexingUtils.h:20: UserWarning: indexing with dtype torch.uint8 is now deprecated, please use a dtype torch.bool instead.\n",
      "/pytorch/aten/src/ATen/native/IndexingUtils.h:20: UserWarning: indexing with dtype torch.uint8 is now deprecated, please use a dtype torch.bool instead.\n",
      "/pytorch/aten/src/ATen/native/IndexingUtils.h:20: UserWarning: indexing with dtype torch.uint8 is now deprecated, please use a dtype torch.bool instead.\n",
      "/pytorch/aten/src/ATen/native/IndexingUtils.h:20: UserWarning: indexing with dtype torch.uint8 is now deprecated, please use a dtype torch.bool instead.\n",
      "/pytorch/aten/src/ATen/native/IndexingUtils.h:20: UserWarning: indexing with dtype torch.uint8 is now deprecated, please use a dtype torch.bool instead.\n",
      "/pytorch/aten/src/ATen/native/IndexingUtils.h:20: UserWarning: indexing with dtype torch.uint8 is now deprecated, please use a dtype torch.bool instead.\n",
      "/pytorch/aten/src/ATen/native/IndexingUtils.h:20: UserWarning: indexing with dtype torch.uint8 is now deprecated, please use a dtype torch.bool instead.\n",
      "/pytorch/aten/src/ATen/native/IndexingUtils.h:20: UserWarning: indexing with dtype torch.uint8 is now deprecated, please use a dtype torch.bool instead.\n",
      "/pytorch/aten/src/ATen/native/IndexingUtils.h:20: UserWarning: indexing with dtype torch.uint8 is now deprecated, please use a dtype torch.bool instead.\n",
      "/pytorch/aten/src/ATen/native/IndexingUtils.h:20: UserWarning: indexing with dtype torch.uint8 is now deprecated, please use a dtype torch.bool instead.\n",
      "/pytorch/aten/src/ATen/native/IndexingUtils.h:20: UserWarning: indexing with dtype torch.uint8 is now deprecated, please use a dtype torch.bool instead.\n",
      "/pytorch/aten/src/ATen/native/IndexingUtils.h:20: UserWarning: indexing with dtype torch.uint8 is now deprecated, please use a dtype torch.bool instead.\n",
      "/pytorch/aten/src/ATen/native/IndexingUtils.h:20: UserWarning: indexing with dtype torch.uint8 is now deprecated, please use a dtype torch.bool instead.\n",
      "/pytorch/aten/src/ATen/native/IndexingUtils.h:20: UserWarning: indexing with dtype torch.uint8 is now deprecated, please use a dtype torch.bool instead.\n",
      "/pytorch/aten/src/ATen/native/IndexingUtils.h:20: UserWarning: indexing with dtype torch.uint8 is now deprecated, please use a dtype torch.bool instead.\n",
      "/pytorch/aten/src/ATen/native/IndexingUtils.h:20: UserWarning: indexing with dtype torch.uint8 is now deprecated, please use a dtype torch.bool instead.\n",
      "/pytorch/aten/src/ATen/native/IndexingUtils.h:20: UserWarning: indexing with dtype torch.uint8 is now deprecated, please use a dtype torch.bool instead.\n",
      "/pytorch/aten/src/ATen/native/IndexingUtils.h:20: UserWarning: indexing with dtype torch.uint8 is now deprecated, please use a dtype torch.bool instead.\n",
      "/pytorch/aten/src/ATen/native/IndexingUtils.h:20: UserWarning: indexing with dtype torch.uint8 is now deprecated, please use a dtype torch.bool instead.\n",
      "/pytorch/aten/src/ATen/native/IndexingUtils.h:20: UserWarning: indexing with dtype torch.uint8 is now deprecated, please use a dtype torch.bool instead.\n"
     ]
    },
    {
     "name": "stdout",
     "output_type": "stream",
     "text": [
      "[E:170]\tTrain Loss: 140.198\n"
     ]
    },
    {
     "name": "stderr",
     "output_type": "stream",
     "text": [
      "/pytorch/aten/src/ATen/native/IndexingUtils.h:20: UserWarning: indexing with dtype torch.uint8 is now deprecated, please use a dtype torch.bool instead.\n",
      "/pytorch/aten/src/ATen/native/IndexingUtils.h:20: UserWarning: indexing with dtype torch.uint8 is now deprecated, please use a dtype torch.bool instead.\n",
      "/pytorch/aten/src/ATen/native/IndexingUtils.h:20: UserWarning: indexing with dtype torch.uint8 is now deprecated, please use a dtype torch.bool instead.\n",
      "/pytorch/aten/src/ATen/native/IndexingUtils.h:20: UserWarning: indexing with dtype torch.uint8 is now deprecated, please use a dtype torch.bool instead.\n",
      "/pytorch/aten/src/ATen/native/IndexingUtils.h:20: UserWarning: indexing with dtype torch.uint8 is now deprecated, please use a dtype torch.bool instead.\n",
      "/pytorch/aten/src/ATen/native/IndexingUtils.h:20: UserWarning: indexing with dtype torch.uint8 is now deprecated, please use a dtype torch.bool instead.\n",
      "/pytorch/aten/src/ATen/native/IndexingUtils.h:20: UserWarning: indexing with dtype torch.uint8 is now deprecated, please use a dtype torch.bool instead.\n",
      "/pytorch/aten/src/ATen/native/IndexingUtils.h:20: UserWarning: indexing with dtype torch.uint8 is now deprecated, please use a dtype torch.bool instead.\n",
      "/pytorch/aten/src/ATen/native/IndexingUtils.h:20: UserWarning: indexing with dtype torch.uint8 is now deprecated, please use a dtype torch.bool instead.\n",
      "/pytorch/aten/src/ATen/native/IndexingUtils.h:20: UserWarning: indexing with dtype torch.uint8 is now deprecated, please use a dtype torch.bool instead.\n",
      "/pytorch/aten/src/ATen/native/IndexingUtils.h:20: UserWarning: indexing with dtype torch.uint8 is now deprecated, please use a dtype torch.bool instead.\n",
      "/pytorch/aten/src/ATen/native/IndexingUtils.h:20: UserWarning: indexing with dtype torch.uint8 is now deprecated, please use a dtype torch.bool instead.\n",
      "/pytorch/aten/src/ATen/native/IndexingUtils.h:20: UserWarning: indexing with dtype torch.uint8 is now deprecated, please use a dtype torch.bool instead.\n",
      "/pytorch/aten/src/ATen/native/IndexingUtils.h:20: UserWarning: indexing with dtype torch.uint8 is now deprecated, please use a dtype torch.bool instead.\n",
      "/pytorch/aten/src/ATen/native/IndexingUtils.h:20: UserWarning: indexing with dtype torch.uint8 is now deprecated, please use a dtype torch.bool instead.\n",
      "/pytorch/aten/src/ATen/native/IndexingUtils.h:20: UserWarning: indexing with dtype torch.uint8 is now deprecated, please use a dtype torch.bool instead.\n",
      "/pytorch/aten/src/ATen/native/IndexingUtils.h:20: UserWarning: indexing with dtype torch.uint8 is now deprecated, please use a dtype torch.bool instead.\n",
      "/pytorch/aten/src/ATen/native/IndexingUtils.h:20: UserWarning: indexing with dtype torch.uint8 is now deprecated, please use a dtype torch.bool instead.\n",
      "/pytorch/aten/src/ATen/native/IndexingUtils.h:20: UserWarning: indexing with dtype torch.uint8 is now deprecated, please use a dtype torch.bool instead.\n",
      "/pytorch/aten/src/ATen/native/IndexingUtils.h:20: UserWarning: indexing with dtype torch.uint8 is now deprecated, please use a dtype torch.bool instead.\n"
     ]
    },
    {
     "name": "stdout",
     "output_type": "stream",
     "text": [
      "[E:180]\tTrain Loss: 130.720\n"
     ]
    },
    {
     "name": "stderr",
     "output_type": "stream",
     "text": [
      "/pytorch/aten/src/ATen/native/IndexingUtils.h:20: UserWarning: indexing with dtype torch.uint8 is now deprecated, please use a dtype torch.bool instead.\n",
      "/pytorch/aten/src/ATen/native/IndexingUtils.h:20: UserWarning: indexing with dtype torch.uint8 is now deprecated, please use a dtype torch.bool instead.\n",
      "/pytorch/aten/src/ATen/native/IndexingUtils.h:20: UserWarning: indexing with dtype torch.uint8 is now deprecated, please use a dtype torch.bool instead.\n",
      "/pytorch/aten/src/ATen/native/IndexingUtils.h:20: UserWarning: indexing with dtype torch.uint8 is now deprecated, please use a dtype torch.bool instead.\n",
      "/pytorch/aten/src/ATen/native/IndexingUtils.h:20: UserWarning: indexing with dtype torch.uint8 is now deprecated, please use a dtype torch.bool instead.\n",
      "/pytorch/aten/src/ATen/native/IndexingUtils.h:20: UserWarning: indexing with dtype torch.uint8 is now deprecated, please use a dtype torch.bool instead.\n",
      "/pytorch/aten/src/ATen/native/IndexingUtils.h:20: UserWarning: indexing with dtype torch.uint8 is now deprecated, please use a dtype torch.bool instead.\n",
      "/pytorch/aten/src/ATen/native/IndexingUtils.h:20: UserWarning: indexing with dtype torch.uint8 is now deprecated, please use a dtype torch.bool instead.\n",
      "/pytorch/aten/src/ATen/native/IndexingUtils.h:20: UserWarning: indexing with dtype torch.uint8 is now deprecated, please use a dtype torch.bool instead.\n",
      "/pytorch/aten/src/ATen/native/IndexingUtils.h:20: UserWarning: indexing with dtype torch.uint8 is now deprecated, please use a dtype torch.bool instead.\n",
      "/pytorch/aten/src/ATen/native/IndexingUtils.h:20: UserWarning: indexing with dtype torch.uint8 is now deprecated, please use a dtype torch.bool instead.\n",
      "/pytorch/aten/src/ATen/native/IndexingUtils.h:20: UserWarning: indexing with dtype torch.uint8 is now deprecated, please use a dtype torch.bool instead.\n",
      "/pytorch/aten/src/ATen/native/IndexingUtils.h:20: UserWarning: indexing with dtype torch.uint8 is now deprecated, please use a dtype torch.bool instead.\n",
      "/pytorch/aten/src/ATen/native/IndexingUtils.h:20: UserWarning: indexing with dtype torch.uint8 is now deprecated, please use a dtype torch.bool instead.\n",
      "/pytorch/aten/src/ATen/native/IndexingUtils.h:20: UserWarning: indexing with dtype torch.uint8 is now deprecated, please use a dtype torch.bool instead.\n",
      "/pytorch/aten/src/ATen/native/IndexingUtils.h:20: UserWarning: indexing with dtype torch.uint8 is now deprecated, please use a dtype torch.bool instead.\n",
      "/pytorch/aten/src/ATen/native/IndexingUtils.h:20: UserWarning: indexing with dtype torch.uint8 is now deprecated, please use a dtype torch.bool instead.\n",
      "/pytorch/aten/src/ATen/native/IndexingUtils.h:20: UserWarning: indexing with dtype torch.uint8 is now deprecated, please use a dtype torch.bool instead.\n",
      "/pytorch/aten/src/ATen/native/IndexingUtils.h:20: UserWarning: indexing with dtype torch.uint8 is now deprecated, please use a dtype torch.bool instead.\n",
      "/pytorch/aten/src/ATen/native/IndexingUtils.h:20: UserWarning: indexing with dtype torch.uint8 is now deprecated, please use a dtype torch.bool instead.\n"
     ]
    },
    {
     "name": "stdout",
     "output_type": "stream",
     "text": [
      "[E:190]\tTrain Loss: 121.268\n"
     ]
    },
    {
     "name": "stderr",
     "output_type": "stream",
     "text": [
      "/pytorch/aten/src/ATen/native/IndexingUtils.h:20: UserWarning: indexing with dtype torch.uint8 is now deprecated, please use a dtype torch.bool instead.\n",
      "/pytorch/aten/src/ATen/native/IndexingUtils.h:20: UserWarning: indexing with dtype torch.uint8 is now deprecated, please use a dtype torch.bool instead.\n",
      "/pytorch/aten/src/ATen/native/IndexingUtils.h:20: UserWarning: indexing with dtype torch.uint8 is now deprecated, please use a dtype torch.bool instead.\n",
      "/pytorch/aten/src/ATen/native/IndexingUtils.h:20: UserWarning: indexing with dtype torch.uint8 is now deprecated, please use a dtype torch.bool instead.\n",
      "/pytorch/aten/src/ATen/native/IndexingUtils.h:20: UserWarning: indexing with dtype torch.uint8 is now deprecated, please use a dtype torch.bool instead.\n",
      "/pytorch/aten/src/ATen/native/IndexingUtils.h:20: UserWarning: indexing with dtype torch.uint8 is now deprecated, please use a dtype torch.bool instead.\n",
      "/pytorch/aten/src/ATen/native/IndexingUtils.h:20: UserWarning: indexing with dtype torch.uint8 is now deprecated, please use a dtype torch.bool instead.\n",
      "/pytorch/aten/src/ATen/native/IndexingUtils.h:20: UserWarning: indexing with dtype torch.uint8 is now deprecated, please use a dtype torch.bool instead.\n",
      "/pytorch/aten/src/ATen/native/IndexingUtils.h:20: UserWarning: indexing with dtype torch.uint8 is now deprecated, please use a dtype torch.bool instead.\n",
      "/pytorch/aten/src/ATen/native/IndexingUtils.h:20: UserWarning: indexing with dtype torch.uint8 is now deprecated, please use a dtype torch.bool instead.\n",
      "/pytorch/aten/src/ATen/native/IndexingUtils.h:20: UserWarning: indexing with dtype torch.uint8 is now deprecated, please use a dtype torch.bool instead.\n",
      "/pytorch/aten/src/ATen/native/IndexingUtils.h:20: UserWarning: indexing with dtype torch.uint8 is now deprecated, please use a dtype torch.bool instead.\n",
      "/pytorch/aten/src/ATen/native/IndexingUtils.h:20: UserWarning: indexing with dtype torch.uint8 is now deprecated, please use a dtype torch.bool instead.\n",
      "/pytorch/aten/src/ATen/native/IndexingUtils.h:20: UserWarning: indexing with dtype torch.uint8 is now deprecated, please use a dtype torch.bool instead.\n",
      "/pytorch/aten/src/ATen/native/IndexingUtils.h:20: UserWarning: indexing with dtype torch.uint8 is now deprecated, please use a dtype torch.bool instead.\n",
      "/pytorch/aten/src/ATen/native/IndexingUtils.h:20: UserWarning: indexing with dtype torch.uint8 is now deprecated, please use a dtype torch.bool instead.\n",
      "/pytorch/aten/src/ATen/native/IndexingUtils.h:20: UserWarning: indexing with dtype torch.uint8 is now deprecated, please use a dtype torch.bool instead.\n",
      "/pytorch/aten/src/ATen/native/IndexingUtils.h:20: UserWarning: indexing with dtype torch.uint8 is now deprecated, please use a dtype torch.bool instead.\n",
      "/pytorch/aten/src/ATen/native/IndexingUtils.h:20: UserWarning: indexing with dtype torch.uint8 is now deprecated, please use a dtype torch.bool instead.\n",
      "/pytorch/aten/src/ATen/native/IndexingUtils.h:20: UserWarning: indexing with dtype torch.uint8 is now deprecated, please use a dtype torch.bool instead.\n"
     ]
    },
    {
     "name": "stdout",
     "output_type": "stream",
     "text": [
      "[E:200]\tTrain Loss: 113.667\n"
     ]
    },
    {
     "name": "stderr",
     "output_type": "stream",
     "text": [
      "/pytorch/aten/src/ATen/native/IndexingUtils.h:20: UserWarning: indexing with dtype torch.uint8 is now deprecated, please use a dtype torch.bool instead.\n",
      "/pytorch/aten/src/ATen/native/IndexingUtils.h:20: UserWarning: indexing with dtype torch.uint8 is now deprecated, please use a dtype torch.bool instead.\n",
      "/pytorch/aten/src/ATen/native/IndexingUtils.h:20: UserWarning: indexing with dtype torch.uint8 is now deprecated, please use a dtype torch.bool instead.\n",
      "/pytorch/aten/src/ATen/native/IndexingUtils.h:20: UserWarning: indexing with dtype torch.uint8 is now deprecated, please use a dtype torch.bool instead.\n",
      "/pytorch/aten/src/ATen/native/IndexingUtils.h:20: UserWarning: indexing with dtype torch.uint8 is now deprecated, please use a dtype torch.bool instead.\n",
      "/pytorch/aten/src/ATen/native/IndexingUtils.h:20: UserWarning: indexing with dtype torch.uint8 is now deprecated, please use a dtype torch.bool instead.\n",
      "/pytorch/aten/src/ATen/native/IndexingUtils.h:20: UserWarning: indexing with dtype torch.uint8 is now deprecated, please use a dtype torch.bool instead.\n",
      "/pytorch/aten/src/ATen/native/IndexingUtils.h:20: UserWarning: indexing with dtype torch.uint8 is now deprecated, please use a dtype torch.bool instead.\n",
      "/pytorch/aten/src/ATen/native/IndexingUtils.h:20: UserWarning: indexing with dtype torch.uint8 is now deprecated, please use a dtype torch.bool instead.\n",
      "/pytorch/aten/src/ATen/native/IndexingUtils.h:20: UserWarning: indexing with dtype torch.uint8 is now deprecated, please use a dtype torch.bool instead.\n",
      "/pytorch/aten/src/ATen/native/IndexingUtils.h:20: UserWarning: indexing with dtype torch.uint8 is now deprecated, please use a dtype torch.bool instead.\n",
      "/pytorch/aten/src/ATen/native/IndexingUtils.h:20: UserWarning: indexing with dtype torch.uint8 is now deprecated, please use a dtype torch.bool instead.\n",
      "/pytorch/aten/src/ATen/native/IndexingUtils.h:20: UserWarning: indexing with dtype torch.uint8 is now deprecated, please use a dtype torch.bool instead.\n",
      "/pytorch/aten/src/ATen/native/IndexingUtils.h:20: UserWarning: indexing with dtype torch.uint8 is now deprecated, please use a dtype torch.bool instead.\n",
      "/pytorch/aten/src/ATen/native/IndexingUtils.h:20: UserWarning: indexing with dtype torch.uint8 is now deprecated, please use a dtype torch.bool instead.\n",
      "/pytorch/aten/src/ATen/native/IndexingUtils.h:20: UserWarning: indexing with dtype torch.uint8 is now deprecated, please use a dtype torch.bool instead.\n",
      "/pytorch/aten/src/ATen/native/IndexingUtils.h:20: UserWarning: indexing with dtype torch.uint8 is now deprecated, please use a dtype torch.bool instead.\n",
      "/pytorch/aten/src/ATen/native/IndexingUtils.h:20: UserWarning: indexing with dtype torch.uint8 is now deprecated, please use a dtype torch.bool instead.\n",
      "/pytorch/aten/src/ATen/native/IndexingUtils.h:20: UserWarning: indexing with dtype torch.uint8 is now deprecated, please use a dtype torch.bool instead.\n",
      "/pytorch/aten/src/ATen/native/IndexingUtils.h:20: UserWarning: indexing with dtype torch.uint8 is now deprecated, please use a dtype torch.bool instead.\n"
     ]
    },
    {
     "name": "stdout",
     "output_type": "stream",
     "text": [
      "[E:210]\tTrain Loss: 108.432\n"
     ]
    },
    {
     "name": "stderr",
     "output_type": "stream",
     "text": [
      "/pytorch/aten/src/ATen/native/IndexingUtils.h:20: UserWarning: indexing with dtype torch.uint8 is now deprecated, please use a dtype torch.bool instead.\n",
      "/pytorch/aten/src/ATen/native/IndexingUtils.h:20: UserWarning: indexing with dtype torch.uint8 is now deprecated, please use a dtype torch.bool instead.\n",
      "/pytorch/aten/src/ATen/native/IndexingUtils.h:20: UserWarning: indexing with dtype torch.uint8 is now deprecated, please use a dtype torch.bool instead.\n",
      "/pytorch/aten/src/ATen/native/IndexingUtils.h:20: UserWarning: indexing with dtype torch.uint8 is now deprecated, please use a dtype torch.bool instead.\n",
      "/pytorch/aten/src/ATen/native/IndexingUtils.h:20: UserWarning: indexing with dtype torch.uint8 is now deprecated, please use a dtype torch.bool instead.\n",
      "/pytorch/aten/src/ATen/native/IndexingUtils.h:20: UserWarning: indexing with dtype torch.uint8 is now deprecated, please use a dtype torch.bool instead.\n",
      "/pytorch/aten/src/ATen/native/IndexingUtils.h:20: UserWarning: indexing with dtype torch.uint8 is now deprecated, please use a dtype torch.bool instead.\n",
      "/pytorch/aten/src/ATen/native/IndexingUtils.h:20: UserWarning: indexing with dtype torch.uint8 is now deprecated, please use a dtype torch.bool instead.\n",
      "/pytorch/aten/src/ATen/native/IndexingUtils.h:20: UserWarning: indexing with dtype torch.uint8 is now deprecated, please use a dtype torch.bool instead.\n",
      "/pytorch/aten/src/ATen/native/IndexingUtils.h:20: UserWarning: indexing with dtype torch.uint8 is now deprecated, please use a dtype torch.bool instead.\n",
      "/pytorch/aten/src/ATen/native/IndexingUtils.h:20: UserWarning: indexing with dtype torch.uint8 is now deprecated, please use a dtype torch.bool instead.\n",
      "/pytorch/aten/src/ATen/native/IndexingUtils.h:20: UserWarning: indexing with dtype torch.uint8 is now deprecated, please use a dtype torch.bool instead.\n",
      "/pytorch/aten/src/ATen/native/IndexingUtils.h:20: UserWarning: indexing with dtype torch.uint8 is now deprecated, please use a dtype torch.bool instead.\n",
      "/pytorch/aten/src/ATen/native/IndexingUtils.h:20: UserWarning: indexing with dtype torch.uint8 is now deprecated, please use a dtype torch.bool instead.\n",
      "/pytorch/aten/src/ATen/native/IndexingUtils.h:20: UserWarning: indexing with dtype torch.uint8 is now deprecated, please use a dtype torch.bool instead.\n",
      "/pytorch/aten/src/ATen/native/IndexingUtils.h:20: UserWarning: indexing with dtype torch.uint8 is now deprecated, please use a dtype torch.bool instead.\n",
      "/pytorch/aten/src/ATen/native/IndexingUtils.h:20: UserWarning: indexing with dtype torch.uint8 is now deprecated, please use a dtype torch.bool instead.\n",
      "/pytorch/aten/src/ATen/native/IndexingUtils.h:20: UserWarning: indexing with dtype torch.uint8 is now deprecated, please use a dtype torch.bool instead.\n",
      "/pytorch/aten/src/ATen/native/IndexingUtils.h:20: UserWarning: indexing with dtype torch.uint8 is now deprecated, please use a dtype torch.bool instead.\n",
      "/pytorch/aten/src/ATen/native/IndexingUtils.h:20: UserWarning: indexing with dtype torch.uint8 is now deprecated, please use a dtype torch.bool instead.\n"
     ]
    },
    {
     "name": "stdout",
     "output_type": "stream",
     "text": [
      "[E:220]\tTrain Loss: 104.627\n"
     ]
    },
    {
     "name": "stderr",
     "output_type": "stream",
     "text": [
      "/pytorch/aten/src/ATen/native/IndexingUtils.h:20: UserWarning: indexing with dtype torch.uint8 is now deprecated, please use a dtype torch.bool instead.\n",
      "/pytorch/aten/src/ATen/native/IndexingUtils.h:20: UserWarning: indexing with dtype torch.uint8 is now deprecated, please use a dtype torch.bool instead.\n",
      "/pytorch/aten/src/ATen/native/IndexingUtils.h:20: UserWarning: indexing with dtype torch.uint8 is now deprecated, please use a dtype torch.bool instead.\n",
      "/pytorch/aten/src/ATen/native/IndexingUtils.h:20: UserWarning: indexing with dtype torch.uint8 is now deprecated, please use a dtype torch.bool instead.\n",
      "/pytorch/aten/src/ATen/native/IndexingUtils.h:20: UserWarning: indexing with dtype torch.uint8 is now deprecated, please use a dtype torch.bool instead.\n",
      "/pytorch/aten/src/ATen/native/IndexingUtils.h:20: UserWarning: indexing with dtype torch.uint8 is now deprecated, please use a dtype torch.bool instead.\n",
      "/pytorch/aten/src/ATen/native/IndexingUtils.h:20: UserWarning: indexing with dtype torch.uint8 is now deprecated, please use a dtype torch.bool instead.\n",
      "/pytorch/aten/src/ATen/native/IndexingUtils.h:20: UserWarning: indexing with dtype torch.uint8 is now deprecated, please use a dtype torch.bool instead.\n",
      "/pytorch/aten/src/ATen/native/IndexingUtils.h:20: UserWarning: indexing with dtype torch.uint8 is now deprecated, please use a dtype torch.bool instead.\n",
      "/pytorch/aten/src/ATen/native/IndexingUtils.h:20: UserWarning: indexing with dtype torch.uint8 is now deprecated, please use a dtype torch.bool instead.\n",
      "/pytorch/aten/src/ATen/native/IndexingUtils.h:20: UserWarning: indexing with dtype torch.uint8 is now deprecated, please use a dtype torch.bool instead.\n",
      "/pytorch/aten/src/ATen/native/IndexingUtils.h:20: UserWarning: indexing with dtype torch.uint8 is now deprecated, please use a dtype torch.bool instead.\n",
      "/pytorch/aten/src/ATen/native/IndexingUtils.h:20: UserWarning: indexing with dtype torch.uint8 is now deprecated, please use a dtype torch.bool instead.\n",
      "/pytorch/aten/src/ATen/native/IndexingUtils.h:20: UserWarning: indexing with dtype torch.uint8 is now deprecated, please use a dtype torch.bool instead.\n",
      "/pytorch/aten/src/ATen/native/IndexingUtils.h:20: UserWarning: indexing with dtype torch.uint8 is now deprecated, please use a dtype torch.bool instead.\n",
      "/pytorch/aten/src/ATen/native/IndexingUtils.h:20: UserWarning: indexing with dtype torch.uint8 is now deprecated, please use a dtype torch.bool instead.\n",
      "/pytorch/aten/src/ATen/native/IndexingUtils.h:20: UserWarning: indexing with dtype torch.uint8 is now deprecated, please use a dtype torch.bool instead.\n",
      "/pytorch/aten/src/ATen/native/IndexingUtils.h:20: UserWarning: indexing with dtype torch.uint8 is now deprecated, please use a dtype torch.bool instead.\n",
      "/pytorch/aten/src/ATen/native/IndexingUtils.h:20: UserWarning: indexing with dtype torch.uint8 is now deprecated, please use a dtype torch.bool instead.\n",
      "/pytorch/aten/src/ATen/native/IndexingUtils.h:20: UserWarning: indexing with dtype torch.uint8 is now deprecated, please use a dtype torch.bool instead.\n"
     ]
    },
    {
     "name": "stdout",
     "output_type": "stream",
     "text": [
      "[E:230]\tTrain Loss: 101.906\n"
     ]
    },
    {
     "name": "stderr",
     "output_type": "stream",
     "text": [
      "/pytorch/aten/src/ATen/native/IndexingUtils.h:20: UserWarning: indexing with dtype torch.uint8 is now deprecated, please use a dtype torch.bool instead.\n",
      "/pytorch/aten/src/ATen/native/IndexingUtils.h:20: UserWarning: indexing with dtype torch.uint8 is now deprecated, please use a dtype torch.bool instead.\n",
      "/pytorch/aten/src/ATen/native/IndexingUtils.h:20: UserWarning: indexing with dtype torch.uint8 is now deprecated, please use a dtype torch.bool instead.\n",
      "/pytorch/aten/src/ATen/native/IndexingUtils.h:20: UserWarning: indexing with dtype torch.uint8 is now deprecated, please use a dtype torch.bool instead.\n",
      "/pytorch/aten/src/ATen/native/IndexingUtils.h:20: UserWarning: indexing with dtype torch.uint8 is now deprecated, please use a dtype torch.bool instead.\n",
      "/pytorch/aten/src/ATen/native/IndexingUtils.h:20: UserWarning: indexing with dtype torch.uint8 is now deprecated, please use a dtype torch.bool instead.\n",
      "/pytorch/aten/src/ATen/native/IndexingUtils.h:20: UserWarning: indexing with dtype torch.uint8 is now deprecated, please use a dtype torch.bool instead.\n",
      "/pytorch/aten/src/ATen/native/IndexingUtils.h:20: UserWarning: indexing with dtype torch.uint8 is now deprecated, please use a dtype torch.bool instead.\n",
      "/pytorch/aten/src/ATen/native/IndexingUtils.h:20: UserWarning: indexing with dtype torch.uint8 is now deprecated, please use a dtype torch.bool instead.\n",
      "/pytorch/aten/src/ATen/native/IndexingUtils.h:20: UserWarning: indexing with dtype torch.uint8 is now deprecated, please use a dtype torch.bool instead.\n",
      "/pytorch/aten/src/ATen/native/IndexingUtils.h:20: UserWarning: indexing with dtype torch.uint8 is now deprecated, please use a dtype torch.bool instead.\n",
      "/pytorch/aten/src/ATen/native/IndexingUtils.h:20: UserWarning: indexing with dtype torch.uint8 is now deprecated, please use a dtype torch.bool instead.\n",
      "/pytorch/aten/src/ATen/native/IndexingUtils.h:20: UserWarning: indexing with dtype torch.uint8 is now deprecated, please use a dtype torch.bool instead.\n",
      "/pytorch/aten/src/ATen/native/IndexingUtils.h:20: UserWarning: indexing with dtype torch.uint8 is now deprecated, please use a dtype torch.bool instead.\n",
      "/pytorch/aten/src/ATen/native/IndexingUtils.h:20: UserWarning: indexing with dtype torch.uint8 is now deprecated, please use a dtype torch.bool instead.\n",
      "/pytorch/aten/src/ATen/native/IndexingUtils.h:20: UserWarning: indexing with dtype torch.uint8 is now deprecated, please use a dtype torch.bool instead.\n",
      "/pytorch/aten/src/ATen/native/IndexingUtils.h:20: UserWarning: indexing with dtype torch.uint8 is now deprecated, please use a dtype torch.bool instead.\n",
      "/pytorch/aten/src/ATen/native/IndexingUtils.h:20: UserWarning: indexing with dtype torch.uint8 is now deprecated, please use a dtype torch.bool instead.\n",
      "/pytorch/aten/src/ATen/native/IndexingUtils.h:20: UserWarning: indexing with dtype torch.uint8 is now deprecated, please use a dtype torch.bool instead.\n",
      "/pytorch/aten/src/ATen/native/IndexingUtils.h:20: UserWarning: indexing with dtype torch.uint8 is now deprecated, please use a dtype torch.bool instead.\n"
     ]
    },
    {
     "name": "stdout",
     "output_type": "stream",
     "text": [
      "[E:240]\tTrain Loss: 100.305\n"
     ]
    },
    {
     "name": "stderr",
     "output_type": "stream",
     "text": [
      "/pytorch/aten/src/ATen/native/IndexingUtils.h:20: UserWarning: indexing with dtype torch.uint8 is now deprecated, please use a dtype torch.bool instead.\n",
      "/pytorch/aten/src/ATen/native/IndexingUtils.h:20: UserWarning: indexing with dtype torch.uint8 is now deprecated, please use a dtype torch.bool instead.\n",
      "/pytorch/aten/src/ATen/native/IndexingUtils.h:20: UserWarning: indexing with dtype torch.uint8 is now deprecated, please use a dtype torch.bool instead.\n",
      "/pytorch/aten/src/ATen/native/IndexingUtils.h:20: UserWarning: indexing with dtype torch.uint8 is now deprecated, please use a dtype torch.bool instead.\n",
      "/pytorch/aten/src/ATen/native/IndexingUtils.h:20: UserWarning: indexing with dtype torch.uint8 is now deprecated, please use a dtype torch.bool instead.\n",
      "/pytorch/aten/src/ATen/native/IndexingUtils.h:20: UserWarning: indexing with dtype torch.uint8 is now deprecated, please use a dtype torch.bool instead.\n",
      "/pytorch/aten/src/ATen/native/IndexingUtils.h:20: UserWarning: indexing with dtype torch.uint8 is now deprecated, please use a dtype torch.bool instead.\n",
      "/pytorch/aten/src/ATen/native/IndexingUtils.h:20: UserWarning: indexing with dtype torch.uint8 is now deprecated, please use a dtype torch.bool instead.\n",
      "/pytorch/aten/src/ATen/native/IndexingUtils.h:20: UserWarning: indexing with dtype torch.uint8 is now deprecated, please use a dtype torch.bool instead.\n",
      "/pytorch/aten/src/ATen/native/IndexingUtils.h:20: UserWarning: indexing with dtype torch.uint8 is now deprecated, please use a dtype torch.bool instead.\n",
      "/pytorch/aten/src/ATen/native/IndexingUtils.h:20: UserWarning: indexing with dtype torch.uint8 is now deprecated, please use a dtype torch.bool instead.\n",
      "/pytorch/aten/src/ATen/native/IndexingUtils.h:20: UserWarning: indexing with dtype torch.uint8 is now deprecated, please use a dtype torch.bool instead.\n",
      "/pytorch/aten/src/ATen/native/IndexingUtils.h:20: UserWarning: indexing with dtype torch.uint8 is now deprecated, please use a dtype torch.bool instead.\n",
      "/pytorch/aten/src/ATen/native/IndexingUtils.h:20: UserWarning: indexing with dtype torch.uint8 is now deprecated, please use a dtype torch.bool instead.\n",
      "/pytorch/aten/src/ATen/native/IndexingUtils.h:20: UserWarning: indexing with dtype torch.uint8 is now deprecated, please use a dtype torch.bool instead.\n",
      "/pytorch/aten/src/ATen/native/IndexingUtils.h:20: UserWarning: indexing with dtype torch.uint8 is now deprecated, please use a dtype torch.bool instead.\n",
      "/pytorch/aten/src/ATen/native/IndexingUtils.h:20: UserWarning: indexing with dtype torch.uint8 is now deprecated, please use a dtype torch.bool instead.\n",
      "/pytorch/aten/src/ATen/native/IndexingUtils.h:20: UserWarning: indexing with dtype torch.uint8 is now deprecated, please use a dtype torch.bool instead.\n"
     ]
    },
    {
     "name": "stdout",
     "output_type": "stream",
     "text": [
      "[E:249]\tTrain Loss: 99.517\n",
      "Finished Training\n",
      "Accuracy: 0.464\n"
     ]
    },
    {
     "data": {
      "text/plain": [
       "0.46410684474123537"
      ]
     },
     "execution_count": 54,
     "metadata": {},
     "output_type": "execute_result"
    }
   ],
   "source": [
    "from metal import LabelModel\n",
    "\n",
    "label_aggregator = LabelModel(5)\n",
    "label_aggregator.train(Ls[0], n_epochs=250, lr=0.001)\n",
    "label_aggregator.score(Ls[1], Ys[1])"
   ]
  },
  {
   "cell_type": "code",
   "execution_count": 55,
   "metadata": {},
   "outputs": [],
   "source": [
    "Y_p = label_aggregator.predict(Ls[0])"
   ]
  },
  {
   "cell_type": "code",
   "execution_count": 56,
   "metadata": {},
   "outputs": [
    {
     "name": "stdout",
     "output_type": "stream",
     "text": [
      "[5 5 5 ... 5 5 5]\n"
     ]
    }
   ],
   "source": [
    "print(Y_p)"
   ]
  },
  {
   "cell_type": "code",
   "execution_count": 57,
   "metadata": {},
   "outputs": [],
   "source": [
    "for y in Y_p:\n",
    "    if y == 1:\n",
    "        print(y)"
   ]
  },
  {
   "cell_type": "code",
   "execution_count": 58,
   "metadata": {},
   "outputs": [],
   "source": [
    "wrong_indexes = []\n",
    "i = 0\n",
    "for right,wrong in zip(Ys[0],Y_p):\n",
    "    if int(right) == wrong:\n",
    "        wrong_indexes.append(i)\n",
    "    i = i + 1"
   ]
  },
  {
   "cell_type": "code",
   "execution_count": 59,
   "metadata": {},
   "outputs": [
    {
     "name": "stdout",
     "output_type": "stream",
     "text": [
      "2115\n"
     ]
    }
   ],
   "source": [
    "print(len(wrong_indexes))"
   ]
  },
  {
   "cell_type": "code",
   "execution_count": 60,
   "metadata": {},
   "outputs": [],
   "source": [
    "with open(\"Ls.pkl\", 'wb') as f:\n",
    "    pickle.dump(Ls, f)\n",
    "    \n",
    "with open(\"Y_p.pkl\", 'wb') as f:\n",
    "    pickle.dump(Y_p, f)\n",
    "    \n",
    "with open(\"data/wrong_indexes.pkl\", 'wb') as f:\n",
    "    pickle.dump(wrong_indexes, f)"
   ]
  }
 ],
 "metadata": {
  "kernelspec": {
   "display_name": "Python [conda env:babble] *",
   "language": "python",
   "name": "conda-env-babble-py"
  },
  "language_info": {
   "codemirror_mode": {
    "name": "ipython",
    "version": 3
   },
   "file_extension": ".py",
   "mimetype": "text/x-python",
   "name": "python",
   "nbconvert_exporter": "python",
   "pygments_lexer": "ipython3",
   "version": "3.6.7"
  }
 },
 "nbformat": 4,
 "nbformat_minor": 2
}
