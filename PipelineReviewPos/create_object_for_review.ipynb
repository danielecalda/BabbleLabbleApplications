{
 "cells": [
  {
   "cell_type": "code",
   "execution_count": 1,
   "metadata": {},
   "outputs": [],
   "source": [
    "import progressbar\n",
    "import pickle"
   ]
  },
  {
   "cell_type": "code",
   "execution_count": 2,
   "metadata": {},
   "outputs": [],
   "source": [
    "DATA_FILE1 = 'data/train_examples.pkl'\n",
    "DATA_FILE2 = 'data/dev_examples.pkl'\n",
    "DATA_FILE3 = 'data/test_examples.pkl'\n",
    "DATA_FILE4 = 'data/train_labels.pkl'\n",
    "DATA_FILE5 = 'data/dev_labels.pkl'\n",
    "DATA_FILE6 = 'data/test_labels.pkl'\n",
    "DATA_FILE7 = 'data/nouns_list.pkl'"
   ]
  },
  {
   "cell_type": "code",
   "execution_count": 3,
   "metadata": {},
   "outputs": [],
   "source": [
    "with open(DATA_FILE1, 'rb') as f:\n",
    "    train_examples = pickle.load(f)\n",
    "with open(DATA_FILE2, 'rb') as f:\n",
    "    dev_examples = pickle.load(f)\n",
    "with open(DATA_FILE3, 'rb') as f:\n",
    "    test_examples = pickle.load(f)\n",
    "with open(DATA_FILE4, 'rb') as f:\n",
    "    train_labels = pickle.load(f)\n",
    "with open(DATA_FILE5, 'rb') as f:\n",
    "    dev_labels = pickle.load(f)\n",
    "with open(DATA_FILE6, 'rb') as f:\n",
    "    test_labels = pickle.load(f)\n",
    "with open(DATA_FILE7, 'rb') as f:\n",
    "    nouns_list = pickle.load(f)"
   ]
  },
  {
   "cell_type": "code",
   "execution_count": 4,
   "metadata": {},
   "outputs": [
    {
     "name": "stdout",
     "output_type": "stream",
     "text": [
      "spaCy Version: 2.1.8\n"
     ]
    }
   ],
   "source": [
    "import spacy\n",
    "print('spaCy Version: %s' % (spacy.__version__))\n",
    "spacy_nlp = spacy.load('en_core_web_sm')"
   ]
  },
  {
   "cell_type": "code",
   "execution_count": 5,
   "metadata": {},
   "outputs": [
    {
     "name": "stderr",
     "output_type": "stream",
     "text": [
      "| |                              #                  | 499 Elapsed Time: 0:00:06\n",
      "| |                                           #     | 375 Elapsed Time: 0:00:04\n",
      "| |                                            #    | 382 Elapsed Time: 0:00:04\n"
     ]
    }
   ],
   "source": [
    "from metal.contrib.info_extraction.mentions import RelationMention\n",
    "\n",
    "train_results_examples = []\n",
    "train_results_labels = []\n",
    "dev_results_examples = []\n",
    "dev_results_labels = []\n",
    "test_results_examples = []\n",
    "test_results_labels = []\n",
    "index = 1\n",
    "\n",
    "for example,label in progressbar.progressbar(zip(train_examples,train_labels)):\n",
    "    doc = spacy_nlp(example)\n",
    "\n",
    "    words,char_offsets, pos_tags,ner_tags,entity_types,entitiesId = ([] for i in range(6))\n",
    "    for sent in doc.sents:\n",
    "        for i, token in enumerate(sent):\n",
    "            words.append(str(token))\n",
    "            pos_tags.append(token.tag_)\n",
    "            ner_tags.append(token.ent_type_ if token.ent_type_ else 'O')\n",
    "            char_offsets.append(token.idx)\n",
    "            entity_types.append('O')\n",
    "            if token.text in nouns_list:\n",
    "                start = int(token.idx)\n",
    "                end = int(token.idx + len(token.text))\n",
    "                entitiesId.append((start,end))\n",
    "    \n",
    "    if len(entitiesId) > 1:\n",
    "        result = RelationMention(index,example,entitiesId\n",
    "                ,words,char_offsets,pos_tags=pos_tags,ner_tags=ner_tags,entity_types=entity_types)\n",
    "        train_results_examples.append(result)\n",
    "        train_results_labels.append(label)\n",
    "        index = index + 1\n",
    "\n",
    "\n",
    "for example,label in progressbar.progressbar(zip(dev_examples,dev_labels)):\n",
    "    doc = spacy_nlp(example)\n",
    "\n",
    "    words, char_offsets, pos_tags, ner_tags, entity_types,entitiesId = ([] for i in range(6))\n",
    "    for sent in doc.sents:\n",
    "        for i, token in enumerate(sent):\n",
    "            words.append(str(token))\n",
    "            pos_tags.append(token.tag_)\n",
    "            ner_tags.append(token.ent_type_ if token.ent_type_ else 'O')\n",
    "            char_offsets.append(token.idx)\n",
    "            entity_types.append('O')\n",
    "            if token.text in nouns_list:\n",
    "                start = int(token.idx)\n",
    "                end = int(token.idx + len(token.text))\n",
    "                entitiesId.append((start,end))\n",
    "    \n",
    "    if len(entitiesId) > 1:\n",
    "        result = RelationMention(index,example,entitiesId\n",
    "                ,words,char_offsets,pos_tags=pos_tags,ner_tags=ner_tags,entity_types=entity_types)\n",
    "        dev_results_examples.append(result)\n",
    "        dev_results_labels.append(label)\n",
    "        index = index + 1\n",
    "\n",
    "\n",
    "for example,label in progressbar.progressbar(zip(test_examples,test_labels)):\n",
    "    doc = spacy_nlp(example)\n",
    "\n",
    "    words, char_offsets, pos_tags, ner_tags, entity_types,entitiesId = ([] for i in range(6))\n",
    "    for sent in doc.sents:\n",
    "        for i, token in enumerate(sent):\n",
    "            words.append(str(token))\n",
    "            pos_tags.append(token.tag_)\n",
    "            ner_tags.append(token.ent_type_ if token.ent_type_ else 'O')\n",
    "            char_offsets.append(token.idx)\n",
    "            entity_types.append('O')\n",
    "            if token.text in nouns_list:\n",
    "                start = int(token.idx)\n",
    "                end = int(token.idx + len(token.text))\n",
    "                entitiesId.append((start,end))\n",
    "        \n",
    "    if len(entitiesId) > 1:\n",
    "        result = RelationMention(index,example,entitiesId\n",
    "                ,words,char_offsets,pos_tags=pos_tags,ner_tags=ner_tags,entity_types=entity_types)\n",
    "        test_results_examples.append(result)\n",
    "        test_results_labels.append(label)\n",
    "        index = index + 1"
   ]
  },
  {
   "cell_type": "code",
   "execution_count": 6,
   "metadata": {},
   "outputs": [
    {
     "name": "stdout",
     "output_type": "stream",
     "text": [
      "495\n"
     ]
    }
   ],
   "source": [
    "print(len(train_results_examples))"
   ]
  },
  {
   "cell_type": "code",
   "execution_count": 7,
   "metadata": {},
   "outputs": [
    {
     "name": "stdout",
     "output_type": "stream",
     "text": [
      "RelationMention(doc_id=1: entities=(\"total\"(0:5), \"bill\"(6:10), \"service\"(29:36), \"nerve\"(79:84), \"charge\"(88:94), \"avoid\"(172:177), \"hospital\"(178:186), \"ers\"(187:190))\n"
     ]
    }
   ],
   "source": [
    "print(train_results_examples[0])"
   ]
  },
  {
   "cell_type": "code",
   "execution_count": 8,
   "metadata": {},
   "outputs": [],
   "source": [
    "Cs = [train_results_examples,dev_results_examples,dev_results_examples]"
   ]
  },
  {
   "cell_type": "code",
   "execution_count": 9,
   "metadata": {},
   "outputs": [],
   "source": [
    "import numpy as np\n",
    "\n",
    "Ys = [np.array(train_results_labels),np.array(dev_results_labels),np.array(test_results_labels)]"
   ]
  },
  {
   "cell_type": "code",
   "execution_count": 10,
   "metadata": {},
   "outputs": [
    {
     "name": "stdout",
     "output_type": "stream",
     "text": [
      "495\n"
     ]
    }
   ],
   "source": [
    "print(len(Ys[0]))"
   ]
  },
  {
   "cell_type": "code",
   "execution_count": 11,
   "metadata": {},
   "outputs": [],
   "source": [
    "DATA_FILE1 = 'data/data.pkl'\n",
    "with open(DATA_FILE1, 'wb') as f:\n",
    "    pickle.dump(Cs,f)"
   ]
  },
  {
   "cell_type": "code",
   "execution_count": 12,
   "metadata": {},
   "outputs": [],
   "source": [
    "DATA_FILE2 = 'data/labels.pkl'\n",
    "with open(DATA_FILE2, 'wb') as f:\n",
    "    pickle.dump(Ys,f)"
   ]
  }
 ],
 "metadata": {
  "kernelspec": {
   "display_name": "Python [conda env:babble] *",
   "language": "python",
   "name": "conda-env-babble-py"
  },
  "language_info": {
   "codemirror_mode": {
    "name": "ipython",
    "version": 3
   },
   "file_extension": ".py",
   "mimetype": "text/x-python",
   "name": "python",
   "nbconvert_exporter": "python",
   "pygments_lexer": "ipython3",
   "version": "3.6.7"
  }
 },
 "nbformat": 4,
 "nbformat_minor": 2
}
