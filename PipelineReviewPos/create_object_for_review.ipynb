{
 "cells": [
  {
   "cell_type": "code",
   "execution_count": 1,
   "metadata": {},
   "outputs": [],
   "source": [
    "import progressbar\n",
    "import pickle"
   ]
  },
  {
   "cell_type": "code",
   "execution_count": 2,
   "metadata": {},
   "outputs": [],
   "source": [
    "DATA_FILE1 = 'data/train_examples.pkl'\n",
    "DATA_FILE2 = 'data/dev_examples.pkl'\n",
    "DATA_FILE3 = 'data/test_examples.pkl'\n",
    "DATA_FILE4 = 'data/train_labels.pkl'\n",
    "DATA_FILE5 = 'data/dev_labels.pkl'\n",
    "DATA_FILE6 = 'data/test_labels.pkl'\n",
    "DATA_FILE7 = 'data/nouns_list.pkl'"
   ]
  },
  {
   "cell_type": "code",
   "execution_count": 3,
   "metadata": {},
   "outputs": [],
   "source": [
    "with open(DATA_FILE1, 'rb') as f:\n",
    "    train_examples = pickle.load(f)\n",
    "with open(DATA_FILE2, 'rb') as f:\n",
    "    dev_examples = pickle.load(f)\n",
    "with open(DATA_FILE3, 'rb') as f:\n",
    "    test_examples = pickle.load(f)\n",
    "with open(DATA_FILE4, 'rb') as f:\n",
    "    train_labels = pickle.load(f)\n",
    "with open(DATA_FILE5, 'rb') as f:\n",
    "    dev_labels = pickle.load(f)\n",
    "with open(DATA_FILE6, 'rb') as f:\n",
    "    test_labels = pickle.load(f)\n",
    "with open(DATA_FILE7, 'rb') as f:\n",
    "    nouns_list = pickle.load(f)"
   ]
  },
  {
   "cell_type": "code",
   "execution_count": 4,
   "metadata": {},
   "outputs": [
    {
     "name": "stdout",
     "output_type": "stream",
     "text": [
      "spaCy Version: 2.1.8\n"
     ]
    }
   ],
   "source": [
    "import spacy\n",
    "print('spaCy Version: %s' % (spacy.__version__))\n",
    "spacy_nlp = spacy.load('en_core_web_sm')"
   ]
  },
  {
   "cell_type": "code",
   "execution_count": 5,
   "metadata": {},
   "outputs": [
    {
     "name": "stderr",
     "output_type": "stream",
     "text": [
      "| |        #                                      | 23734 Elapsed Time: 0:04:42\n",
      "| |    #                                            | 953 Elapsed Time: 0:00:10\n",
      "| |    #                                            | 971 Elapsed Time: 0:00:10\n"
     ]
    }
   ],
   "source": [
    "from metal.contrib.info_extraction.mentions import RelationMention\n",
    "\n",
    "train_results_examples = []\n",
    "train_results_labels = []\n",
    "dev_results_examples = []\n",
    "dev_results_labels = []\n",
    "test_results_examples = []\n",
    "test_results_labels = []\n",
    "index = 1\n",
    "\n",
    "for example,label in progressbar.progressbar(zip(train_examples,train_labels)):\n",
    "    doc = spacy_nlp(example)\n",
    "\n",
    "    words,char_offsets, pos_tags,ner_tags,entity_types,entitiesId = ([] for i in range(6))\n",
    "    for sent in doc.sents:\n",
    "        for i, token in enumerate(sent):\n",
    "            words.append(str(token))\n",
    "            pos_tags.append(token.tag_)\n",
    "            ner_tags.append(token.ent_type_ if token.ent_type_ else 'O')\n",
    "            char_offsets.append(token.idx)\n",
    "            entity_types.append('O')\n",
    "            if token.text in nouns_list and len(entitiesId) < 3:\n",
    "                start = int(token.idx)\n",
    "                end = int(token.idx + len(token.text))\n",
    "                entitiesId.append((start,end))\n",
    "\n",
    "    if len(entitiesId) == 3:\n",
    "        result = RelationMention(index,example,entitiesId\n",
    "                ,words,char_offsets,pos_tags=pos_tags,ner_tags=ner_tags,entity_types=entity_types)\n",
    "        train_results_examples.append(result)\n",
    "        train_results_labels.append(label)\n",
    "        index = index + 1\n",
    "\n",
    "\n",
    "for example,label in progressbar.progressbar(zip(dev_examples,dev_labels)):\n",
    "    doc = spacy_nlp(example)\n",
    "\n",
    "    words, char_offsets, pos_tags, ner_tags, entity_types,entitiesId = ([] for i in range(6))\n",
    "    for sent in doc.sents:\n",
    "        for i, token in enumerate(sent):\n",
    "            words.append(str(token))\n",
    "            pos_tags.append(token.tag_)\n",
    "            ner_tags.append(token.ent_type_ if token.ent_type_ else 'O')\n",
    "            char_offsets.append(token.idx)\n",
    "            entity_types.append('O')\n",
    "            if token.text in nouns_list and len(entitiesId) < 3:\n",
    "                start = int(token.idx)\n",
    "                end = int(token.idx + len(token.text))\n",
    "                entitiesId.append((start,end))\n",
    "                \n",
    "    if len(entitiesId) == 3:\n",
    "        result = RelationMention(index,example,entitiesId\n",
    "                ,words,char_offsets,pos_tags=pos_tags,ner_tags=ner_tags,entity_types=entity_types)\n",
    "        dev_results_examples.append(result)\n",
    "        dev_results_labels.append(label)\n",
    "        index = index + 1\n",
    "\n",
    "\n",
    "for example,label in progressbar.progressbar(zip(test_examples,test_labels)):\n",
    "    doc = spacy_nlp(example)\n",
    "\n",
    "    words, char_offsets, pos_tags, ner_tags, entity_types,entitiesId = ([] for i in range(6))\n",
    "    for sent in doc.sents:\n",
    "        for i, token in enumerate(sent):\n",
    "            words.append(str(token))\n",
    "            pos_tags.append(token.tag_)\n",
    "            ner_tags.append(token.ent_type_ if token.ent_type_ else 'O')\n",
    "            char_offsets.append(token.idx)\n",
    "            entity_types.append('O')\n",
    "            if token.text in nouns_list and len(entitiesId) < 3:\n",
    "                start = int(token.idx)\n",
    "                end = int(token.idx + len(token.text))\n",
    "                entitiesId.append((start,end))\n",
    "        \n",
    "    if len(entitiesId) == 3:\n",
    "        result = RelationMention(index,example,entitiesId\n",
    "                ,words,char_offsets,pos_tags=pos_tags,ner_tags=ner_tags,entity_types=entity_types)\n",
    "        test_results_examples.append(result)\n",
    "        test_results_labels.append(label)\n",
    "        index = index + 1"
   ]
  },
  {
   "cell_type": "code",
   "execution_count": 15,
   "metadata": {},
   "outputs": [
    {
     "name": "stdout",
     "output_type": "stream",
     "text": [
      "20959\n"
     ]
    }
   ],
   "source": [
    "print(len(train_results_examples))"
   ]
  },
  {
   "cell_type": "code",
   "execution_count": 16,
   "metadata": {},
   "outputs": [
    {
     "name": "stdout",
     "output_type": "stream",
     "text": [
      "RelationMention(doc_id=1: entities=(\"bill\"(6:10), \"service\"(29:36), \"charge\"(88:94))\n"
     ]
    }
   ],
   "source": [
    "print(train_results_examples[0])"
   ]
  },
  {
   "cell_type": "code",
   "execution_count": 17,
   "metadata": {},
   "outputs": [],
   "source": [
    "Cs = [train_results_examples,dev_results_examples,dev_results_examples]"
   ]
  },
  {
   "cell_type": "code",
   "execution_count": 18,
   "metadata": {},
   "outputs": [],
   "source": [
    "import numpy as np\n",
    "\n",
    "Ys = [np.array(train_results_labels),np.array(dev_results_labels),np.array(test_results_labels)]"
   ]
  },
  {
   "cell_type": "code",
   "execution_count": 19,
   "metadata": {},
   "outputs": [
    {
     "name": "stdout",
     "output_type": "stream",
     "text": [
      "20959\n"
     ]
    }
   ],
   "source": [
    "print(len(Ys[0]))"
   ]
  },
  {
   "cell_type": "code",
   "execution_count": 20,
   "metadata": {},
   "outputs": [
    {
     "name": "stdout",
     "output_type": "stream",
     "text": [
      "[array([1, 1, 1, ..., 5, 5, 5]), array([1, 5, 5, 5, 5, 5, 1, 5, 4, 5, 5, 4, 3, 5, 5, 2, 5, 5, 5, 5, 4, 5,\n",
      "       5, 5, 5, 5, 2, 4, 5, 3, 5, 5, 1, 5, 5, 4, 5, 1, 5, 5, 5, 4, 1, 4,\n",
      "       5, 4, 5, 1, 3, 4, 2, 5, 4, 5, 5, 3, 2, 5, 5, 5, 5, 5, 5, 5, 5, 3,\n",
      "       1, 5, 4, 4, 5, 5, 5, 5, 5, 1, 5, 2, 5, 5, 4, 4, 5, 5, 4, 4, 1, 1,\n",
      "       5, 2, 4, 5, 1, 5, 5, 3, 5, 4, 5, 4, 5, 5, 5, 5, 4, 4, 5, 5, 4, 1,\n",
      "       5, 1, 5, 5, 5, 4, 1, 4, 5, 5, 5, 5, 5, 2, 5, 5, 5, 5, 2, 2, 5, 5,\n",
      "       3, 5, 2, 5, 5, 5, 5, 5, 5, 1, 2, 5, 4, 1, 4, 5, 5, 3, 5, 5, 3, 5,\n",
      "       4, 5, 5, 1, 5, 1, 3, 4, 5, 1, 5, 1, 5, 1, 5, 5, 5, 5, 5, 5, 5, 5,\n",
      "       5, 5, 4, 4, 5, 5, 5, 5, 2, 5, 2, 5, 5, 5, 5, 4, 5, 3, 5, 4, 4, 5,\n",
      "       5, 5, 5, 5, 4, 3, 2, 5, 5, 5, 5, 5, 4, 4, 5, 1, 5, 5, 5, 3, 1, 5,\n",
      "       5, 5, 5, 3, 4, 4, 5, 5, 3, 5, 3, 2, 5, 4, 5, 5, 5, 5, 1, 5, 5, 5,\n",
      "       5, 1, 5, 5, 5, 5, 5, 5, 1, 4, 5, 5, 1, 1, 3, 5, 5, 3, 1, 5, 3, 1,\n",
      "       5, 4, 5, 5, 5, 1, 5, 5, 3, 5, 5, 2, 5, 1, 5, 4, 5, 1, 5, 5, 5, 4,\n",
      "       5, 4, 5, 3, 5, 5, 5, 5, 5, 2, 5, 4, 4, 2, 5, 5, 2, 3, 4, 5, 5, 5,\n",
      "       1, 4, 5, 5, 4, 3, 4, 2, 5, 5, 5, 4, 5, 5, 1, 5, 2, 5, 3, 5, 5, 5,\n",
      "       4, 1, 4, 5, 5, 3, 5, 5, 5, 1, 5, 4, 5, 5, 5, 5, 4, 5, 5, 5, 4, 4,\n",
      "       5, 5, 5, 1, 2, 5, 5, 1, 4, 1, 3, 4, 1, 5, 5, 5, 5, 5, 5, 3, 4, 5,\n",
      "       5, 3, 5, 5, 5, 3, 4, 1, 3, 2, 4, 5, 5, 2, 4, 4, 5, 2, 5, 5, 3, 5,\n",
      "       1, 5, 5, 1, 5, 3, 5, 5, 4, 5, 5, 4, 2, 5, 4, 5, 5, 3, 1, 5, 4, 5,\n",
      "       5, 5, 4, 4, 4, 4, 5, 4, 5, 4, 5, 5, 5, 5, 1, 5, 4, 5, 5, 2, 4, 5,\n",
      "       5, 4, 5, 5, 2, 4, 5, 5, 5, 1, 5, 5, 5, 5, 4, 4, 5, 5, 5, 5, 5, 1,\n",
      "       2, 5, 5, 5, 1, 3, 5, 1, 3, 1, 5, 3, 3, 5, 3, 1, 4, 5, 3, 5, 3, 5,\n",
      "       5, 4, 4, 4, 4, 3, 5, 5, 5, 1, 2, 5, 2, 3, 4, 5, 2, 5, 5, 1, 1, 5,\n",
      "       5, 5, 5, 5, 4, 5, 5, 5, 4, 5, 5, 5, 5, 5, 4, 4, 1, 5, 5, 5, 5, 5,\n",
      "       5, 5, 5, 1, 4, 5, 5, 1, 5, 5, 5, 1, 5, 5, 4, 5, 5, 1, 3, 5, 4, 5,\n",
      "       4, 5, 5, 4, 1, 5, 5, 3, 1, 5, 5, 5, 4, 4, 5, 5, 4, 5, 5, 1, 2, 5,\n",
      "       3, 5, 5, 1, 1, 4, 5, 5, 5, 3, 4, 5, 4, 3, 5, 2, 5, 1, 5, 4, 2, 4,\n",
      "       5, 1, 5, 4, 5, 5, 1, 5, 1, 5, 5, 4, 5, 5, 3, 5, 5, 1, 4, 2, 5, 5,\n",
      "       5, 5, 4, 5, 4, 5, 5, 5, 5, 5, 4, 5, 3, 5, 5, 3, 5, 5, 3, 5, 5, 1,\n",
      "       5, 5, 5, 1, 4, 1, 5, 3, 5, 5, 5, 4, 1, 4, 4, 5, 3, 2, 2, 5, 5, 1,\n",
      "       4, 5, 3, 5, 4, 5, 5, 4, 1, 4, 5, 4, 5, 1, 5, 5, 1, 4, 4, 5, 5, 1,\n",
      "       2, 5, 5, 3, 1, 1, 5, 4, 2, 1, 4, 2, 5, 5, 5, 4, 5, 5, 5, 4, 1, 1,\n",
      "       4, 3, 1, 5, 1, 5, 3, 5, 2, 4, 5, 5, 5, 5, 5, 5, 4, 5, 1, 5, 5, 5,\n",
      "       4, 5, 3, 1, 5, 5, 5, 5, 5, 4, 1, 5, 1, 5, 2, 4, 5, 5, 5, 4, 5, 5,\n",
      "       5, 5, 4, 4, 5, 4, 4, 5, 4, 3, 4, 5, 5, 4, 4, 5, 5, 5, 2, 5, 3, 5,\n",
      "       5, 5, 5, 5, 1, 1, 1, 4, 4, 1, 5, 5, 5, 3, 5, 5, 1, 5, 4, 5, 5, 5,\n",
      "       5, 5, 4, 5, 5, 4, 5, 1, 5, 4, 2, 5, 2, 5, 1, 4, 5, 5, 5, 3, 5, 5,\n",
      "       5, 5, 1, 5, 3, 5, 5, 2, 4, 5, 5, 1, 5, 4, 5, 5, 1, 1, 5, 5, 2, 5,\n",
      "       4, 5, 5, 5, 3, 2, 3, 5, 5, 5, 2, 5, 2, 3, 4, 5]), array([5, 4, 3, 1, 3, 5, 5, 4, 4, 5, 2, 1, 5, 2, 5, 4, 5, 2, 1, 4, 4, 5,\n",
      "       5, 4, 5, 4, 3, 5, 5, 5, 5, 3, 5, 4, 5, 5, 1, 5, 1, 2, 5, 1, 5, 5,\n",
      "       2, 5, 5, 5, 5, 4, 5, 4, 1, 1, 4, 3, 4, 4, 5, 3, 3, 4, 5, 2, 5, 4,\n",
      "       5, 1, 4, 5, 5, 5, 4, 5, 3, 5, 5, 4, 5, 5, 4, 1, 5, 3, 2, 5, 5, 5,\n",
      "       5, 4, 4, 5, 5, 5, 5, 5, 5, 5, 5, 4, 5, 1, 5, 5, 2, 5, 5, 5, 5, 5,\n",
      "       5, 4, 4, 4, 5, 5, 3, 4, 5, 5, 4, 5, 5, 4, 4, 1, 3, 5, 5, 5, 3, 5,\n",
      "       4, 5, 5, 2, 4, 4, 4, 4, 1, 1, 3, 5, 5, 3, 5, 5, 5, 5, 1, 5, 5, 5,\n",
      "       4, 5, 3, 5, 4, 5, 5, 5, 5, 1, 3, 2, 4, 5, 1, 1, 4, 4, 5, 5, 5, 5,\n",
      "       2, 3, 5, 4, 5, 5, 5, 5, 4, 5, 4, 1, 1, 5, 5, 5, 5, 4, 4, 5, 5, 5,\n",
      "       3, 5, 5, 5, 5, 3, 3, 5, 4, 5, 1, 5, 5, 1, 5, 4, 5, 3, 2, 5, 4, 1,\n",
      "       5, 3, 5, 5, 5, 5, 5, 3, 5, 5, 4, 4, 5, 1, 5, 4, 5, 5, 5, 1, 4, 5,\n",
      "       5, 5, 2, 5, 4, 5, 1, 2, 5, 4, 4, 4, 4, 4, 5, 5, 4, 5, 5, 5, 5, 5,\n",
      "       4, 3, 5, 5, 3, 5, 1, 5, 4, 5, 5, 4, 1, 5, 5, 4, 1, 5, 5, 5, 5, 4,\n",
      "       4, 5, 4, 2, 1, 5, 5, 5, 5, 4, 4, 1, 2, 2, 4, 1, 5, 4, 5, 4, 5, 5,\n",
      "       1, 3, 4, 5, 4, 1, 5, 4, 4, 4, 5, 5, 2, 2, 4, 5, 4, 1, 4, 5, 4, 5,\n",
      "       5, 4, 4, 5, 5, 1, 5, 5, 4, 5, 5, 2, 4, 5, 1, 5, 4, 5, 5, 5, 5, 5,\n",
      "       4, 5, 4, 5, 4, 5, 5, 5, 4, 3, 4, 5, 5, 5, 1, 5, 5, 2, 5, 4, 5, 5,\n",
      "       5, 5, 1, 5, 3, 4, 4, 5, 4, 5, 1, 5, 5, 4, 5, 5, 5, 5, 5, 5, 1, 5,\n",
      "       5, 4, 5, 4, 4, 5, 5, 5, 5, 4, 5, 5, 4, 2, 4, 3, 1, 5, 1, 5, 5, 5,\n",
      "       5, 5, 3, 5, 5, 1, 4, 4, 1, 3, 3, 5, 5, 5, 5, 5, 3, 4, 1, 2, 5, 5,\n",
      "       4, 5, 2, 5, 4, 4, 5, 3, 5, 5, 5, 4, 5, 4, 3, 4, 1, 5, 3, 5, 5, 5,\n",
      "       5, 4, 4, 5, 4, 3, 5, 1, 3, 5, 5, 4, 5, 5, 1, 5, 5, 5, 3, 1, 5, 5,\n",
      "       4, 5, 5, 5, 1, 4, 4, 5, 4, 4, 1, 5, 5, 4, 5, 5, 5, 5, 5, 5, 1, 5,\n",
      "       4, 5, 1, 5, 4, 5, 4, 5, 5, 4, 5, 5, 1, 3, 1, 5, 4, 1, 4, 5, 5, 5,\n",
      "       3, 5, 5, 4, 4, 5, 5, 3, 5, 5, 4, 4, 5, 5, 5, 3, 1, 5, 5, 5, 5, 5,\n",
      "       3, 5, 5, 5, 1, 4, 5, 4, 4, 1, 5, 5, 5, 5, 5, 1, 4, 1, 5, 5, 5, 4,\n",
      "       5, 4, 5, 1, 4, 5, 5, 5, 5, 5, 5, 5, 5, 5, 4, 4, 5, 5, 5, 5, 4, 4,\n",
      "       3, 5, 5, 3, 4, 1, 4, 3, 5, 1, 1, 5, 5, 4, 4, 5, 1, 5, 1, 5, 4, 4,\n",
      "       5, 5, 4, 3, 4, 2, 5, 1, 1, 4, 4, 4, 5, 5, 2, 2, 5, 5, 1, 1, 2, 5,\n",
      "       5, 5, 5, 4, 5, 5, 5, 3, 3, 4, 3, 5, 1, 5, 4, 2, 5, 5, 5, 5, 4, 2,\n",
      "       5, 1, 5, 4, 1, 2, 4, 1, 5, 1, 4, 5, 4, 5, 5, 3, 5, 5, 5, 5, 5, 3,\n",
      "       5, 2, 5, 5, 5, 5, 5, 5, 5, 5, 5, 4, 4, 4, 4, 4, 5, 4, 5, 5, 5, 5,\n",
      "       5, 5, 5, 3, 5, 5, 3, 5, 1, 1, 4, 4, 3, 1, 3, 4, 1, 4, 4, 5, 5, 4,\n",
      "       5, 5, 5, 4, 5, 5, 5, 4, 5, 5, 4, 2, 5, 5, 5, 4, 4, 4, 5, 5, 4, 1,\n",
      "       1, 4, 5, 5, 3, 3, 5, 4, 5, 3, 2, 5, 5, 2, 4, 5, 5, 3, 5, 4, 1, 4,\n",
      "       5, 5, 3, 1, 4, 5, 5, 5, 2, 5, 2, 2, 5, 4, 5, 4, 1, 5, 5, 2, 5, 5,\n",
      "       5, 5, 5, 5, 3, 5, 1, 5, 2, 5, 5, 5, 2, 2, 5, 5, 5, 5, 2, 4, 5, 5,\n",
      "       2, 1, 4, 5, 5, 4, 3, 5, 4, 4, 5, 5, 1, 5, 4, 3, 4, 4, 2, 5, 5, 4,\n",
      "       1, 4, 5, 1, 1, 5, 5, 2, 3, 2, 3, 5, 4, 5, 3, 1, 1, 3])]\n"
     ]
    }
   ],
   "source": [
    "print(Ys)"
   ]
  },
  {
   "cell_type": "code",
   "execution_count": 21,
   "metadata": {},
   "outputs": [],
   "source": [
    "import pickle"
   ]
  },
  {
   "cell_type": "code",
   "execution_count": 22,
   "metadata": {},
   "outputs": [],
   "source": [
    "DATA_FILE1 = 'data/data.pkl'\n",
    "with open(DATA_FILE1, 'wb') as f:\n",
    "    pickle.dump(Cs,f)"
   ]
  },
  {
   "cell_type": "code",
   "execution_count": 23,
   "metadata": {},
   "outputs": [],
   "source": [
    "DATA_FILE2 = 'data/labels.pkl'\n",
    "with open(DATA_FILE2, 'wb') as f:\n",
    "    pickle.dump(Ys,f)"
   ]
  }
 ],
 "metadata": {
  "kernelspec": {
   "display_name": "Python [conda env:babble] *",
   "language": "python",
   "name": "conda-env-babble-py"
  },
  "language_info": {
   "codemirror_mode": {
    "name": "ipython",
    "version": 3
   },
   "file_extension": ".py",
   "mimetype": "text/x-python",
   "name": "python",
   "nbconvert_exporter": "python",
   "pygments_lexer": "ipython3",
   "version": "3.6.7"
  }
 },
 "nbformat": 4,
 "nbformat_minor": 2
}
