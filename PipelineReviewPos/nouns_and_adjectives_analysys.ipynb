{
 "cells": [
  {
   "cell_type": "code",
   "execution_count": null,
   "metadata": {},
   "outputs": [],
   "source": [
    "import progressbar\n",
    "import pickle"
   ]
  },
  {
   "cell_type": "code",
   "execution_count": null,
   "metadata": {},
   "outputs": [],
   "source": [
    "DATA_FILE1 = 'data/train_examples.pkl'\n",
    "DATA_FILE2 = 'data/nouns_list.pkl'\n",
    "DATA_FILE3 = 'data/pos_adjectives_list.pkl'\n",
    "DATA_FILE4 = 'data/neu_adjectives_list.pkl'\n",
    "DATA_FILE5 = 'data/neg_adjectives_list.pkl'"
   ]
  },
  {
   "cell_type": "code",
   "execution_count": null,
   "metadata": {},
   "outputs": [],
   "source": [
    "with open(DATA_FILE1, 'rb') as f:\n",
    "    train_examples = pickle.load(f)"
   ]
  },
  {
   "cell_type": "code",
   "execution_count": null,
   "metadata": {},
   "outputs": [],
   "source": [
    "import spacy\n",
    "print('spaCy Version: %s' % (spacy.__version__))\n",
    "spacy_nlp = spacy.load('en_core_web_sm')"
   ]
  },
  {
   "cell_type": "code",
   "execution_count": null,
   "metadata": {},
   "outputs": [],
   "source": [
    "nouns_list = []\n",
    "\n",
    "for example in progressbar.progressbar(train_examples):\n",
    "    doc = spacy_nlp(example)\n",
    "    \n",
    "    nouns = [token.text for token in doc if not token.is_stop and token.is_alpha and token.tag_  in 'NN'\n",
    "           and not token.ent_type_ in ('PERSON', 'GPE', 'NORP','DATE','CARDINAL')]\n",
    "    nouns_list = nouns_list + nouns   "
   ]
  },
  {
   "cell_type": "code",
   "execution_count": null,
   "metadata": {},
   "outputs": [],
   "source": [
    "print(nouns_list)"
   ]
  },
  {
   "cell_type": "code",
   "execution_count": null,
   "metadata": {},
   "outputs": [],
   "source": [
    "print(len(nouns_list))"
   ]
  },
  {
   "cell_type": "code",
   "execution_count": null,
   "metadata": {},
   "outputs": [],
   "source": [
    "nouns_ordered_list = sorted(nouns_list,key=nouns_list.count,reverse=True)"
   ]
  },
  {
   "cell_type": "code",
   "execution_count": null,
   "metadata": {},
   "outputs": [],
   "source": [
    "print(len(nouns_ordered_list))"
   ]
  },
  {
   "cell_type": "code",
   "execution_count": null,
   "metadata": {},
   "outputs": [],
   "source": [
    "print(nouns_ordered_list)"
   ]
  },
  {
   "cell_type": "code",
   "execution_count": null,
   "metadata": {},
   "outputs": [],
   "source": [
    "nouns_list = list(dict.fromkeys(nouns_ordered_list))"
   ]
  },
  {
   "cell_type": "code",
   "execution_count": null,
   "metadata": {},
   "outputs": [],
   "source": [
    "print(nouns_list[0:1000])"
   ]
  },
  {
   "cell_type": "code",
   "execution_count": null,
   "metadata": {},
   "outputs": [],
   "source": [
    "print(len(nouns_list))"
   ]
  },
  {
   "cell_type": "code",
   "execution_count": null,
   "metadata": {},
   "outputs": [],
   "source": [
    "from nltk.sentiment.vader import SentimentIntensityAnalyzer\n",
    "\n",
    "pos_adjectives_list=[]\n",
    "neu_adjectives_list=[]\n",
    "neg_adjectives_list=[]\n",
    "\n",
    "for example in progressbar.progressbar(train_examples):\n",
    "    doc = spacy_nlp(example)\n",
    "    tokenized_sentence = [token.text for token in doc if not token.is_stop and token.is_alpha and token.tag_  in 'JJ'\n",
    "           and not token.ent_type_ in ('PERSON', 'GPE', 'NORP','DATE','CARDINAL')]\n",
    "    sid = SentimentIntensityAnalyzer()\n",
    "    \n",
    "    \n",
    "    for word in tokenized_sentence:\n",
    "        if (sid.polarity_scores(word)['compound']) >= 0.1:\n",
    "            pos_adjectives_list.append(word)\n",
    "        elif (sid.polarity_scores(word)['compound']) <= -0.1:\n",
    "            neg_adjectives_list.append(word)\n",
    "        else:\n",
    "            neu_adjectives_list.append(word) "
   ]
  },
  {
   "cell_type": "code",
   "execution_count": null,
   "metadata": {},
   "outputs": [],
   "source": [
    "pos_adjectives_list = list(dict.fromkeys(pos_adjectives_list))\n",
    "neu_adjectives_list = list(dict.fromkeys(neu_adjectives_list))\n",
    "neg_adjectives_list = list(dict.fromkeys(neg_adjectives_list))"
   ]
  },
  {
   "cell_type": "code",
   "execution_count": null,
   "metadata": {},
   "outputs": [],
   "source": [
    "print(len(pos_adjectives_list))\n",
    "print(len(neu_adjectives_list))\n",
    "print(len(neg_adjectives_list))"
   ]
  },
  {
   "cell_type": "code",
   "execution_count": null,
   "metadata": {},
   "outputs": [],
   "source": [
    "print(neu_word_list)"
   ]
  },
  {
   "cell_type": "code",
   "execution_count": null,
   "metadata": {},
   "outputs": [],
   "source": [
    "with open(DATA_FILE2, 'wb') as f:\n",
    "    pickle.dump(nouns_list,f)\n",
    "with open(DATA_FILE3, 'wb') as f:\n",
    "    pickle.dump(pos_adjectives_list,f)\n",
    "with open(DATA_FILE4, 'wb') as f:\n",
    "    pickle.dump(neu_adjectives_list,f)\n",
    "with open(DATA_FILE5, 'wb') as f:\n",
    "    pickle.dump(neg_adjectives_list,f)"
   ]
  }
 ],
 "metadata": {
  "kernelspec": {
   "display_name": "Python [conda env:babble] *",
   "language": "python",
   "name": "conda-env-babble-py"
  },
  "language_info": {
   "codemirror_mode": {
    "name": "ipython",
    "version": 3
   },
   "file_extension": ".py",
   "mimetype": "text/x-python",
   "name": "python",
   "nbconvert_exporter": "python",
   "pygments_lexer": "ipython3",
   "version": "3.6.7"
  }
 },
 "nbformat": 4,
 "nbformat_minor": 2
}
